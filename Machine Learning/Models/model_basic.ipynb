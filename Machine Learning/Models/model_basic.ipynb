{
 "cells": [
  {
   "cell_type": "code",
   "execution_count": 32,
   "metadata": {},
   "outputs": [
    {
     "name": "stderr",
     "output_type": "stream",
     "text": [
      "<ipython-input-32-475cafa63afb>:23: DataConversionWarning: A column-vector y was passed when a 1d array was expected. Please change the shape of y to (n_samples,), for example using ravel().\n",
      "  self.model = self.user_defined_model.fit(self.X_train, self.y_train)\n"
     ]
    },
    {
     "name": "stdout",
     "output_type": "stream",
     "text": [
      "Accuracy:  0.9989339019189766\n"
     ]
    }
   ],
   "source": [
    "import pandas as pd\n",
    "from sklearn.model_selection import train_test_split\n",
    "from sklearn.ensemble import RandomForestRegressor, RandomForestClassifier\n",
    "import numpy as np\n",
    "\n",
    "class Model:\n",
    "    def __init__(self, datafile = \"nasa.csv\", model_type=None):\n",
    "        self.df = pd.read_csv(datafile)\n",
    "        if model_type=='rf':\n",
    "            self.user_defined_model = RandomForestClassifier(oob_score=True)\n",
    "   \n",
    "\n",
    "    def split(self, test_size):\n",
    "        X = self.df.drop(columns=['Orbiting Body', 'Equinox', 'Est Dia in M(min)', 'Est Dia in M(max)', 'Close Approach Date', \n",
    "           'Est Dia in Miles(min)','Est Dia in Miles(max)', 'Est Dia in Feet(min)', 'Est Dia in Feet(max)',\n",
    "           'Miss Dist.(Astronomical)', 'Miss Dist.(lunar)', 'Miss Dist.(miles)', 'Orbit Determination Date',\n",
    "              'Neo Reference ID', 'Name', 'Orbit Uncertainity'])\n",
    "        y = self.df[['Hazardous']]\n",
    "        self.X_train, self.X_test, self.y_train, self.y_test = train_test_split(X, y, test_size = test_size, random_state = 42, shuffle=True)\n",
    "\n",
    "    def fit(self):\n",
    "        self.model = self.user_defined_model.fit(self.X_train, self.y_train)\n",
    "    \n",
    "    def predict(self):\n",
    "        result = self.user_defined_model.predict(self.X_test)\n",
    "        return result\n",
    "\n",
    "\n",
    "\n",
    "\n",
    "\n",
    "if __name__ == '__main__':\n",
    "    model_instance = Model(\"nasa.csv\", model_type='rf')\n",
    "    model_instance.split(0.2)\n",
    "    model_instance.fit()\n",
    "    model_instance.predict()\n",
    "    print(\"Accuracy: \",     model_instance.model.score(model_instance.X_test, model_instance.y_test))"
   ]
  },
  {
   "cell_type": "code",
   "execution_count": null,
   "metadata": {},
   "outputs": [],
   "source": []
  },
  {
   "cell_type": "code",
   "execution_count": null,
   "metadata": {},
   "outputs": [],
   "source": []
  }
 ],
 "metadata": {
  "kernelspec": {
   "display_name": "Python 3",
   "language": "python",
   "name": "python3"
  },
  "language_info": {
   "codemirror_mode": {
    "name": "ipython",
    "version": 3
   },
   "file_extension": ".py",
   "mimetype": "text/x-python",
   "name": "python",
   "nbconvert_exporter": "python",
   "pygments_lexer": "ipython3",
   "version": "3.8.5"
  }
 },
 "nbformat": 4,
 "nbformat_minor": 2
}
