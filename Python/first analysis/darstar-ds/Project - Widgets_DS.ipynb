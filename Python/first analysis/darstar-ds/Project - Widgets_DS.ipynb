{
 "cells": [
  {
   "cell_type": "code",
   "execution_count": 194,
   "metadata": {},
   "outputs": [],
   "source": [
    "import pandas as pd\n",
    "import matplotlib.pyplot as plt\n",
    "import seaborn as sns\n",
    "import ipywidgets as widgets"
   ]
  },
  {
   "cell_type": "code",
   "execution_count": 195,
   "metadata": {},
   "outputs": [],
   "source": [
    "#zaimportowanie pliku z danymi\n",
    "df = pd.read_csv(\"../WA_Fn-UseC_-HR-Employee-Attrition.csv\") \n",
    "#df"
   ]
  },
  {
   "cell_type": "code",
   "execution_count": 196,
   "metadata": {},
   "outputs": [
    {
     "output_type": "execute_result",
     "data": {
      "text/plain": [
       "     Attrition  TrainingTimesLastYear  TotalWorkingYears  YearsAtCompany  \\\n",
       "0     Yes       0                      8                  6                \n",
       "1     No        3                      10                 10               \n",
       "2     Yes       3                      7                  0                \n",
       "3     No        3                      8                  8                \n",
       "4     No        3                      6                  2                \n",
       "...   ..       ..                     ..                 ..                \n",
       "1465  No        3                      17                 5                \n",
       "1466  No        5                      9                  7                \n",
       "1467  No        0                      6                  6                \n",
       "1468  No        3                      17                 9                \n",
       "1469  No        3                      6                  4                \n",
       "\n",
       "      YearsInCurrentRole  YearsSinceLastPromotion  YearsWithCurrManager  \\\n",
       "0     4                   0                        5                      \n",
       "1     7                   1                        7                      \n",
       "2     0                   0                        0                      \n",
       "3     7                   3                        0                      \n",
       "4     2                   2                        2                      \n",
       "...  ..                  ..                       ..                      \n",
       "1465  2                   0                        3                      \n",
       "1466  7                   1                        7                      \n",
       "1467  2                   0                        3                      \n",
       "1468  6                   0                        8                      \n",
       "1469  3                   1                        2                      \n",
       "\n",
       "      StockOptionLevel  \n",
       "0     0                 \n",
       "1     1                 \n",
       "2     0                 \n",
       "3     0                 \n",
       "4     1                 \n",
       "...  ..                 \n",
       "1465  1                 \n",
       "1466  1                 \n",
       "1467  1                 \n",
       "1468  0                 \n",
       "1469  0                 \n",
       "\n",
       "[1470 rows x 8 columns]"
      ],
      "text/html": "<div>\n<style scoped>\n    .dataframe tbody tr th:only-of-type {\n        vertical-align: middle;\n    }\n\n    .dataframe tbody tr th {\n        vertical-align: top;\n    }\n\n    .dataframe thead th {\n        text-align: right;\n    }\n</style>\n<table border=\"1\" class=\"dataframe\">\n  <thead>\n    <tr style=\"text-align: right;\">\n      <th></th>\n      <th>Attrition</th>\n      <th>TrainingTimesLastYear</th>\n      <th>TotalWorkingYears</th>\n      <th>YearsAtCompany</th>\n      <th>YearsInCurrentRole</th>\n      <th>YearsSinceLastPromotion</th>\n      <th>YearsWithCurrManager</th>\n      <th>StockOptionLevel</th>\n    </tr>\n  </thead>\n  <tbody>\n    <tr>\n      <th>0</th>\n      <td>Yes</td>\n      <td>0</td>\n      <td>8</td>\n      <td>6</td>\n      <td>4</td>\n      <td>0</td>\n      <td>5</td>\n      <td>0</td>\n    </tr>\n    <tr>\n      <th>1</th>\n      <td>No</td>\n      <td>3</td>\n      <td>10</td>\n      <td>10</td>\n      <td>7</td>\n      <td>1</td>\n      <td>7</td>\n      <td>1</td>\n    </tr>\n    <tr>\n      <th>2</th>\n      <td>Yes</td>\n      <td>3</td>\n      <td>7</td>\n      <td>0</td>\n      <td>0</td>\n      <td>0</td>\n      <td>0</td>\n      <td>0</td>\n    </tr>\n    <tr>\n      <th>3</th>\n      <td>No</td>\n      <td>3</td>\n      <td>8</td>\n      <td>8</td>\n      <td>7</td>\n      <td>3</td>\n      <td>0</td>\n      <td>0</td>\n    </tr>\n    <tr>\n      <th>4</th>\n      <td>No</td>\n      <td>3</td>\n      <td>6</td>\n      <td>2</td>\n      <td>2</td>\n      <td>2</td>\n      <td>2</td>\n      <td>1</td>\n    </tr>\n    <tr>\n      <th>...</th>\n      <td>...</td>\n      <td>...</td>\n      <td>...</td>\n      <td>...</td>\n      <td>...</td>\n      <td>...</td>\n      <td>...</td>\n      <td>...</td>\n    </tr>\n    <tr>\n      <th>1465</th>\n      <td>No</td>\n      <td>3</td>\n      <td>17</td>\n      <td>5</td>\n      <td>2</td>\n      <td>0</td>\n      <td>3</td>\n      <td>1</td>\n    </tr>\n    <tr>\n      <th>1466</th>\n      <td>No</td>\n      <td>5</td>\n      <td>9</td>\n      <td>7</td>\n      <td>7</td>\n      <td>1</td>\n      <td>7</td>\n      <td>1</td>\n    </tr>\n    <tr>\n      <th>1467</th>\n      <td>No</td>\n      <td>0</td>\n      <td>6</td>\n      <td>6</td>\n      <td>2</td>\n      <td>0</td>\n      <td>3</td>\n      <td>1</td>\n    </tr>\n    <tr>\n      <th>1468</th>\n      <td>No</td>\n      <td>3</td>\n      <td>17</td>\n      <td>9</td>\n      <td>6</td>\n      <td>0</td>\n      <td>8</td>\n      <td>0</td>\n    </tr>\n    <tr>\n      <th>1469</th>\n      <td>No</td>\n      <td>3</td>\n      <td>6</td>\n      <td>4</td>\n      <td>3</td>\n      <td>1</td>\n      <td>2</td>\n      <td>0</td>\n    </tr>\n  </tbody>\n</table>\n<p>1470 rows × 8 columns</p>\n</div>"
     },
     "metadata": {},
     "execution_count": 196
    }
   ],
   "source": [
    "# wybranie przydzielonych kolumn + Attrition\n",
    "df_ds = df[[\"Attrition\", \"TrainingTimesLastYear\", \"TotalWorkingYears\",\n",
    "       \"YearsAtCompany\", \"YearsInCurrentRole\", \"YearsSinceLastPromotion\",\n",
    "       \"YearsWithCurrManager\", \"StockOptionLevel\"]] \n",
    "df_ds"
   ]
  },
  {
   "source": [
    "# TrainingTimesLastYear vs. Attrition #"
   ],
   "cell_type": "markdown",
   "metadata": {}
  },
  {
   "cell_type": "code",
   "execution_count": 197,
   "metadata": {},
   "outputs": [
    {
     "output_type": "execute_result",
     "data": {
      "text/plain": [
       "TrainingTimesLastYear   0   1    2    3   4    5   6\n",
       "Attrition                                           \n",
       "No                     39  62  449  422  97  105  59\n",
       "Yes                    15  9   98   69   26  14   6 "
      ],
      "text/html": "<div>\n<style scoped>\n    .dataframe tbody tr th:only-of-type {\n        vertical-align: middle;\n    }\n\n    .dataframe tbody tr th {\n        vertical-align: top;\n    }\n\n    .dataframe thead th {\n        text-align: right;\n    }\n</style>\n<table border=\"1\" class=\"dataframe\">\n  <thead>\n    <tr style=\"text-align: right;\">\n      <th>TrainingTimesLastYear</th>\n      <th>0</th>\n      <th>1</th>\n      <th>2</th>\n      <th>3</th>\n      <th>4</th>\n      <th>5</th>\n      <th>6</th>\n    </tr>\n    <tr>\n      <th>Attrition</th>\n      <th></th>\n      <th></th>\n      <th></th>\n      <th></th>\n      <th></th>\n      <th></th>\n      <th></th>\n    </tr>\n  </thead>\n  <tbody>\n    <tr>\n      <th>No</th>\n      <td>39</td>\n      <td>62</td>\n      <td>449</td>\n      <td>422</td>\n      <td>97</td>\n      <td>105</td>\n      <td>59</td>\n    </tr>\n    <tr>\n      <th>Yes</th>\n      <td>15</td>\n      <td>9</td>\n      <td>98</td>\n      <td>69</td>\n      <td>26</td>\n      <td>14</td>\n      <td>6</td>\n    </tr>\n  </tbody>\n</table>\n</div>"
     },
     "metadata": {},
     "execution_count": 197
    }
   ],
   "source": [
    "# Tabela przestawna dla liczby szkoleń w ostatnim roku\n",
    "TTLY = pd.crosstab(df_ds[\"Attrition\"], df_ds[\"TrainingTimesLastYear\"]) \n",
    "TTLY"
   ]
  },
  {
   "cell_type": "code",
   "execution_count": 198,
   "metadata": {},
   "outputs": [],
   "source": [
    "# Number of employees that left a company vs. the number of trainings in the last year\n",
    "# Create a copy of dataframe with Attrition=Yes\n",
    "df_ds_TTLY_YES = df_ds[df_ds[\"Attrition\"]==\"Yes\"].copy()\n",
    "# Count the employees that left the company\n",
    "df_ds_TTLY_YES_only = df_ds_TTLY_YES.groupby(by=\"TrainingTimesLastYear\").count() [\"Attrition\"].reset_index()\n",
    "# Change the name of column Attrition -> Atttrition_YES\n",
    "df_ds_TTLY_YES_only = df_ds_TTLY_YES_only.rename(columns = {\"Attrition\":\"Attrition_YES\"})\n",
    "# df_ds_TTLY_YES_only"
   ]
  },
  {
   "cell_type": "code",
   "execution_count": 199,
   "metadata": {},
   "outputs": [],
   "source": [
    "# Number of employees that stayed in a company vs. the number of trainings in the last year\n",
    "# Create a copy of dataframe with Attrition=No\n",
    "df_ds_TTLY_NO = df_ds[df_ds[\"Attrition\"]==\"No\"].copy()\n",
    "# Count the employees that stayed in a company\n",
    "df_ds_TTLY_NO_only = df_ds_TTLY_NO.groupby(by=\"TrainingTimesLastYear\").count() [\"Attrition\"].reset_index()\n",
    "# Change the name of column Attrition -> Atttrition_NO\n",
    "df_ds_TTLY_NO_only = df_ds_TTLY_NO_only.rename(columns = {\"Attrition\":\"Attrition_NO\"})\n",
    "# df_ds_TTLY_NO_only"
   ]
  },
  {
   "cell_type": "code",
   "execution_count": 200,
   "metadata": {},
   "outputs": [
    {
     "output_type": "stream",
     "name": "stdout",
     "text": [
      "   TrainingTimesLastYear  Attrition_YES  Attrition_NO  Yes+No  Probability_YES\n0  0                      15             39            54      0.277778       \n1  1                      9              62            71      0.126761       \n2  2                      98             449           547     0.179159       \n3  3                      69             422           491     0.140530       \n4  4                      26             97            123     0.211382       \n5  5                      14             105           119     0.117647       \n6  6                      6              59            65      0.092308       \n"
     ]
    }
   ],
   "source": [
    "# Merge tables with trainings and attrition both YES and NO\n",
    "df_ds_TTLY_Y_N = pd.merge(df_ds_TTLY_YES_only, df_ds_TTLY_NO_only, on=\"TrainingTimesLastYear\", how=\"left\")\n",
    "# Reset index\n",
    "df_ds_TTLY_Y_N.reset_index()\n",
    "# Add a column with total number of employees\n",
    "df_ds_TTLY_Y_N[\"Yes+No\"] = df_ds_TTLY_Y_N[\"Attrition_YES\"] + df_ds_TTLY_Y_N[\"Attrition_NO\"]\n",
    "# Add a column with probability of leaving a company\n",
    "df_ds_TTLY_Y_N[\"Probability_YES\"] = df_ds_TTLY_Y_N[\"Attrition_YES\"]/df_ds_TTLY_Y_N[\"Yes+No\"]\n",
    "print(df_ds_TTLY_Y_N)"
   ]
  },
  {
   "cell_type": "code",
   "execution_count": 201,
   "metadata": {},
   "outputs": [
    {
     "output_type": "display_data",
     "data": {
      "text/plain": "HBox(children=(IntSlider(value=0, continuous_update=False, description='Number of trainings in last year:', la…",
      "application/vnd.jupyter.widget-view+json": {
       "version_major": 2,
       "version_minor": 0,
       "model_id": "5daaf4114bdd43d3ba76a1381f708f94"
      }
     },
     "metadata": {}
    }
   ],
   "source": [
    "# Characteristics of slider for number of trainings in the last year\n",
    "\n",
    "from IPython.display import display\n",
    "from ipywidgets import HBox, Label\n",
    "\n",
    "style = {'description_width': 'initial'}\n",
    "TTLY_slider = widgets.IntSlider(\n",
    "    value=0,\n",
    "    min=0,\n",
    "    max=6,\n",
    "    step=1,\n",
    "    description='Number of trainings in last year:',\n",
    "    disabled=False,\n",
    "    continuous_update=False,\n",
    "    orientation='horizontal',\n",
    "    readout=True,\n",
    "    readout_format='d',\n",
    "    style = style,\n",
    "    layout = Layout(width='70%')\n",
    ")\n",
    "\n",
    "# display(TTLY_slider)\n",
    "HBox([TTLY_slider])"
   ]
  },
  {
   "cell_type": "code",
   "execution_count": 246,
   "metadata": {},
   "outputs": [],
   "source": [
    "# Function checking the attrition probability for number of trainings in the last year\n",
    "def TTLY_probability(input_TTLY):  \n",
    "    TrainNo = input_TTLY.value\n",
    "    Attr_Y_prob = df_ds_TTLY_Y_N.loc[df_ds_TTLY_Y_N[\"TrainingTimesLastYear\"]==TrainNo, \"Probability_YES\"]\n",
    "    pTTLY = Attr_Y_prob[TrainNo]\n",
    "    return pTTLY\n",
    "    # print(pTTLY)\n",
    "    # print(\"pTTLY: {}\".format(Attr_Y_prob[TrainNo]))\n",
    "    # print(type(pTTLY))"
   ]
  },
  {
   "cell_type": "code",
   "execution_count": 203,
   "metadata": {},
   "outputs": [
    {
     "output_type": "display_data",
     "data": {
      "text/plain": "interactive(children=(IntSlider(value=0, continuous_update=False, description='Number of trainings in last yea…",
      "application/vnd.jupyter.widget-view+json": {
       "version_major": 2,
       "version_minor": 0,
       "model_id": "2907456b416b4a73925b4cc1e1bf8b71"
      }
     },
     "metadata": {}
    },
    {
     "output_type": "execute_result",
     "data": {
      "text/plain": [
       "<function __main__.value_handler(v)>"
      ]
     },
     "metadata": {},
     "execution_count": 203
    }
   ],
   "source": [
    "# Slider connected with value_handler function returning probability\n",
    "def value_handler(v):\n",
    "    TrainNo = TTLY_slider.value\n",
    "    Attr_Y_prob = df_ds_TTLY_Y_N.loc[df_ds_TTLY_Y_N[\"TrainingTimesLastYear\"]==TrainNo, \"Probability_YES\"]\n",
    "    print(\"Prawdopodobieństwo odejścia z firmy wynosi: {}\".format(Attr_Y_prob[TrainNo]))\n",
    "\n",
    "\n",
    "widgets.interact(value_handler, v=TTLY_slider)"
   ]
  },
  {
   "source": [
    "# YearsAtCompany vs. Attrition #"
   ],
   "cell_type": "markdown",
   "metadata": {}
  },
  {
   "cell_type": "code",
   "execution_count": 204,
   "metadata": {},
   "outputs": [
    {
     "output_type": "execute_result",
     "data": {
      "text/plain": [
       "YearsAtCompany   0    1    2    3   4    5  ...  32  33  34  36  37  40\n",
       "Attrition                                   ...                        \n",
       "No              28  112  100  108  91  175  ...  2   4   1   2   1   0 \n",
       "Yes             16  59   27   20   19  21   ...  1   1   0   0   0   1 \n",
       "\n",
       "[2 rows x 37 columns]"
      ],
      "text/html": "<div>\n<style scoped>\n    .dataframe tbody tr th:only-of-type {\n        vertical-align: middle;\n    }\n\n    .dataframe tbody tr th {\n        vertical-align: top;\n    }\n\n    .dataframe thead th {\n        text-align: right;\n    }\n</style>\n<table border=\"1\" class=\"dataframe\">\n  <thead>\n    <tr style=\"text-align: right;\">\n      <th>YearsAtCompany</th>\n      <th>0</th>\n      <th>1</th>\n      <th>2</th>\n      <th>3</th>\n      <th>4</th>\n      <th>5</th>\n      <th>...</th>\n      <th>32</th>\n      <th>33</th>\n      <th>34</th>\n      <th>36</th>\n      <th>37</th>\n      <th>40</th>\n    </tr>\n    <tr>\n      <th>Attrition</th>\n      <th></th>\n      <th></th>\n      <th></th>\n      <th></th>\n      <th></th>\n      <th></th>\n      <th></th>\n      <th></th>\n      <th></th>\n      <th></th>\n      <th></th>\n      <th></th>\n      <th></th>\n    </tr>\n  </thead>\n  <tbody>\n    <tr>\n      <th>No</th>\n      <td>28</td>\n      <td>112</td>\n      <td>100</td>\n      <td>108</td>\n      <td>91</td>\n      <td>175</td>\n      <td>...</td>\n      <td>2</td>\n      <td>4</td>\n      <td>1</td>\n      <td>2</td>\n      <td>1</td>\n      <td>0</td>\n    </tr>\n    <tr>\n      <th>Yes</th>\n      <td>16</td>\n      <td>59</td>\n      <td>27</td>\n      <td>20</td>\n      <td>19</td>\n      <td>21</td>\n      <td>...</td>\n      <td>1</td>\n      <td>1</td>\n      <td>0</td>\n      <td>0</td>\n      <td>0</td>\n      <td>1</td>\n    </tr>\n  </tbody>\n</table>\n<p>2 rows × 37 columns</p>\n</div>"
     },
     "metadata": {},
     "execution_count": 204
    }
   ],
   "source": [
    "YAC = pd.crosstab(df_ds[\"Attrition\"], df_ds[\"YearsAtCompany\"]) # Tabela przestawna dla lat przepracowanych w firmie\n",
    "YAC"
   ]
  },
  {
   "cell_type": "code",
   "execution_count": 205,
   "metadata": {},
   "outputs": [
    {
     "output_type": "execute_result",
     "data": {
      "text/plain": [
       "40"
      ]
     },
     "metadata": {},
     "execution_count": 205
    }
   ],
   "source": [
    "df_ds[\"YearsAtCompany\"].max()"
   ]
  },
  {
   "cell_type": "code",
   "execution_count": 206,
   "metadata": {},
   "outputs": [
    {
     "output_type": "stream",
     "name": "stdout",
     "text": [
      "YearsAtCompany  Attrition\n0               No           28 \n                Yes          16 \n1               No           112\n                Yes          59 \n2               No           100\n                            ... \n33              Yes          1  \n34              No           1  \n36              No           2  \n37              No           1  \n40              Yes          1  \nName: StockOptionLevel, Length: 64, dtype: int64\n"
     ]
    }
   ],
   "source": [
    "print(df_ds.groupby(by=[\"YearsAtCompany\", \"Attrition\"]).count()[\"StockOptionLevel\"])"
   ]
  },
  {
   "cell_type": "code",
   "execution_count": 207,
   "metadata": {},
   "outputs": [
    {
     "output_type": "execute_result",
     "data": {
      "text/plain": [
       "(-1, 3]     122\n",
       "(3, 7]      60 \n",
       "(7, 10]     35 \n",
       "(10, 30]    16 \n",
       "Name: YearsAtCompany_bins, dtype: int64"
      ]
     },
     "metadata": {},
     "execution_count": 207
    }
   ],
   "source": [
    "# Create copy of df_ds with Attrition and YearsAtCompany only\n",
    "df_ds_YAC_YES = df_ds.loc[df_ds[\"Attrition\"]==\"Yes\", [\"Attrition\", \"YearsAtCompany\"]].copy()\n",
    "# Gather data in bins to avoid empty values\n",
    "df_ds_YAC_YES[\"YearsAtCompany_bins\"] = pd.cut(df_ds_YAC_YES[\"YearsAtCompany\"], bins=[-1,3,7,10,30])\n",
    "df_ds_YAC_YES[\"YearsAtCompany_bins\"].value_counts()"
   ]
  },
  {
   "cell_type": "code",
   "execution_count": 208,
   "metadata": {},
   "outputs": [],
   "source": [
    "# Number of employees that left a company vs. the number of years worked in a company\n",
    "# Create a copy of dataframe with Attrition=Yes\n",
    "df_ds_YAC_YES = df_ds[df_ds[\"Attrition\"]==\"Yes\"].copy()\n",
    "df_ds_YAC_YES[\"YearsAtCompany_bins\"] = pd.cut(df_ds_YAC_YES[\"YearsAtCompany\"], bins=[-1,3,7,10,30])\n",
    "# Count the employees that left the company\n",
    "df_ds_YAC_YES_only = df_ds_YAC_YES.groupby(by=\"YearsAtCompany_bins\").count() [\"Attrition\"].reset_index()\n",
    "# Change the name of column Attrition -> Atttrition_YES\n",
    "df_ds_YAC_YES_only = df_ds_YAC_YES_only.rename(columns = {\"Attrition\":\"Attrition_YES\"})\n",
    "# df_ds_YAC_YES_only"
   ]
  },
  {
   "cell_type": "code",
   "execution_count": 209,
   "metadata": {},
   "outputs": [],
   "source": [
    "# Number of employees that stayed in a company vs. the number of years worked in a company\n",
    "# Create a copy of dataframe with Attrition=No\n",
    "df_ds_YAC_NO = df_ds[df_ds[\"Attrition\"]==\"No\"].copy()\n",
    "df_ds_YAC_NO[\"YearsAtCompany_bins\"] = pd.cut(df_ds_YAC_NO[\"YearsAtCompany\"], bins=[-1,3,7,10,30])\n",
    "# Count the employees that stayed in a company\n",
    "df_ds_YAC_NO_only = df_ds_YAC_NO.groupby(by=\"YearsAtCompany_bins\").count() [\"Attrition\"].reset_index()\n",
    "# Change the name of column Attrition -> Atttrition_NO\n",
    "df_ds_YAC_NO_only = df_ds_YAC_NO_only.rename(columns = {\"Attrition\":\"Attrition_NO\"})\n",
    "# df_ds_YAC_NO_only"
   ]
  },
  {
   "cell_type": "code",
   "execution_count": 210,
   "metadata": {},
   "outputs": [
    {
     "output_type": "execute_result",
     "data": {
      "text/plain": [
       "  YearsAtCompany_bins  Attrition_YES  Attrition_NO  Yes+No  Probability_YES\n",
       "0  (-1, 3]             122            348           470     0.259574       \n",
       "1  (3, 7]              60             412           472     0.127119       \n",
       "2  (7, 10]             35             247           282     0.124113       \n",
       "3  (10, 30]            16             214           230     0.069565       "
      ],
      "text/html": "<div>\n<style scoped>\n    .dataframe tbody tr th:only-of-type {\n        vertical-align: middle;\n    }\n\n    .dataframe tbody tr th {\n        vertical-align: top;\n    }\n\n    .dataframe thead th {\n        text-align: right;\n    }\n</style>\n<table border=\"1\" class=\"dataframe\">\n  <thead>\n    <tr style=\"text-align: right;\">\n      <th></th>\n      <th>YearsAtCompany_bins</th>\n      <th>Attrition_YES</th>\n      <th>Attrition_NO</th>\n      <th>Yes+No</th>\n      <th>Probability_YES</th>\n    </tr>\n  </thead>\n  <tbody>\n    <tr>\n      <th>0</th>\n      <td>(-1, 3]</td>\n      <td>122</td>\n      <td>348</td>\n      <td>470</td>\n      <td>0.259574</td>\n    </tr>\n    <tr>\n      <th>1</th>\n      <td>(3, 7]</td>\n      <td>60</td>\n      <td>412</td>\n      <td>472</td>\n      <td>0.127119</td>\n    </tr>\n    <tr>\n      <th>2</th>\n      <td>(7, 10]</td>\n      <td>35</td>\n      <td>247</td>\n      <td>282</td>\n      <td>0.124113</td>\n    </tr>\n    <tr>\n      <th>3</th>\n      <td>(10, 30]</td>\n      <td>16</td>\n      <td>214</td>\n      <td>230</td>\n      <td>0.069565</td>\n    </tr>\n  </tbody>\n</table>\n</div>"
     },
     "metadata": {},
     "execution_count": 210
    }
   ],
   "source": [
    "# Merge tables with trainings and attrition both YES and NO\n",
    "df_ds_YAC_Y_N = pd.merge(df_ds_YAC_YES_only, df_ds_YAC_NO_only, on=\"YearsAtCompany_bins\", how=\"left\")\n",
    "# Reset index\n",
    "df_ds_YAC_Y_N.reset_index()\n",
    "# Add a column with total number of employees\n",
    "df_ds_YAC_Y_N[\"Yes+No\"] = df_ds_YAC_Y_N[\"Attrition_YES\"] + df_ds_YAC_Y_N[\"Attrition_NO\"]\n",
    "# Add a column with probability of leaving a company\n",
    "df_ds_YAC_Y_N[\"Probability_YES\"] = df_ds_YAC_Y_N[\"Attrition_YES\"]/df_ds_YAC_Y_N[\"Yes+No\"]\n",
    "df_ds_YAC_Y_N"
   ]
  },
  {
   "cell_type": "code",
   "execution_count": 211,
   "metadata": {},
   "outputs": [
    {
     "output_type": "display_data",
     "data": {
      "text/plain": "HBox(children=(ToggleButtons(description=' Number of years in a company:', layout=Layout(width='80%'), options…",
      "application/vnd.jupyter.widget-view+json": {
       "version_major": 2,
       "version_minor": 0,
       "model_id": "0f007d760c31457483d84c721fb8f4e1"
      }
     },
     "metadata": {}
    }
   ],
   "source": [
    "# Characteristics of slider for the number of years worked in a company\n",
    "from IPython.display import display\n",
    "from ipywidgets import HBox, Label\n",
    "\n",
    "style = {'description_width': 'initial'}\n",
    "YAC_toggle = widgets.ToggleButtons(\n",
    "    options=['(0-3>', '(3-7>', '(7-10>', '(10-30)'],\n",
    "    description=' Number of years in a company:',\n",
    "    disabled=False,\n",
    "    button_style='',\n",
    "    style = style,\n",
    "    layout = Layout(width='80%')\n",
    ")\n",
    "\n",
    "# display(YAC_slider)\n",
    "HBox([YAC_toggle])"
   ]
  },
  {
   "cell_type": "code",
   "execution_count": 247,
   "metadata": {},
   "outputs": [],
   "source": [
    "# Function checking the attrition probability for numbers spent in a company \n",
    "def YAC_probability(input_YAC):\n",
    "    if input_YAC.value == \"(0-3>\":\n",
    "        CompYearsNo = 0 #\"(-1, 3]\"\n",
    "    elif input_YAC.value == \"(3-7>\":\n",
    "        CompYearsNo = 1 #\"(3, 7]\"\n",
    "    elif input_YAC.value == \"(7-10>\":\n",
    "        CompYearsNo = 2 #\"(7, 10]\"\n",
    "    else:\n",
    "        CompYearsNo = 3 #\"(10, 30]\"\n",
    "    pYAC = df_ds_YAC_Y_N.loc[int(CompYearsNo), \"Probability_YES\"]\n",
    "    return pYAC\n",
    "# print(pYAC)\n",
    "# print(\"pYAC: {}\".format(df_ds_YAC_Y_N.loc[int(CompYearsNo), \"Probability_YES\"]))\n",
    "# print(type(pYAC))"
   ]
  },
  {
   "cell_type": "code",
   "execution_count": 213,
   "metadata": {},
   "outputs": [
    {
     "output_type": "display_data",
     "data": {
      "text/plain": "interactive(children=(ToggleButtons(description=' Number of years in a company:', layout=Layout(width='80%'), …",
      "application/vnd.jupyter.widget-view+json": {
       "version_major": 2,
       "version_minor": 0,
       "model_id": "154466ea98db4f2c9ed67f0d81194999"
      }
     },
     "metadata": {}
    },
    {
     "output_type": "execute_result",
     "data": {
      "text/plain": [
       "<function __main__.value_handler(v)>"
      ]
     },
     "metadata": {},
     "execution_count": 213
    }
   ],
   "source": [
    "# Nie mogłem się odwołać do tego pogrupowanego indexu, więc zamieniłem na wartości z indexu podstawowego\n",
    "def value_handler(v):\n",
    "    if YAC_toggle.value == \"(0-3>\":\n",
    "        CYearsNo = 0 #\"(-1, 3]\"\n",
    "    elif YAC_toggle.value == \"(3-7>\":\n",
    "        CYearsNo = 1 #\"(3, 7]\"\n",
    "    elif YAC_toggle.value == \"(7-10>\":\n",
    "        CYearsNo = 2 #\"(7, 10]\"\n",
    "    else:\n",
    "        CYearsNo = 3 #\"(10, 30]\"\n",
    "    \n",
    "    print(\"Prawdopodobieństwo odejścia z firmy wynosi: {}\".format(df_ds_YAC_Y_N.loc[int(CYearsNo), \"Probability_YES\"]))\n",
    "\n",
    "\n",
    "widgets.interact(value_handler, v=YAC_toggle)"
   ]
  },
  {
   "source": [
    "# YearsInCurrentRole vs. Attrition #"
   ],
   "cell_type": "markdown",
   "metadata": {}
  },
  {
   "cell_type": "code",
   "execution_count": 214,
   "metadata": {},
   "outputs": [
    {
     "output_type": "execute_result",
     "data": {
      "text/plain": [
       "YearsInCurrentRole    0   1    2    3   4   5  ...  13  14  15  16  17  18\n",
       "Attrition                                      ...                        \n",
       "No                  171  46  304  119  89  35  ...  13  10  6   7   4   2 \n",
       "Yes                 73   11  68   16   15  1   ...  1   1   2   0   0   0 \n",
       "\n",
       "[2 rows x 19 columns]"
      ],
      "text/html": "<div>\n<style scoped>\n    .dataframe tbody tr th:only-of-type {\n        vertical-align: middle;\n    }\n\n    .dataframe tbody tr th {\n        vertical-align: top;\n    }\n\n    .dataframe thead th {\n        text-align: right;\n    }\n</style>\n<table border=\"1\" class=\"dataframe\">\n  <thead>\n    <tr style=\"text-align: right;\">\n      <th>YearsInCurrentRole</th>\n      <th>0</th>\n      <th>1</th>\n      <th>2</th>\n      <th>3</th>\n      <th>4</th>\n      <th>5</th>\n      <th>...</th>\n      <th>13</th>\n      <th>14</th>\n      <th>15</th>\n      <th>16</th>\n      <th>17</th>\n      <th>18</th>\n    </tr>\n    <tr>\n      <th>Attrition</th>\n      <th></th>\n      <th></th>\n      <th></th>\n      <th></th>\n      <th></th>\n      <th></th>\n      <th></th>\n      <th></th>\n      <th></th>\n      <th></th>\n      <th></th>\n      <th></th>\n      <th></th>\n    </tr>\n  </thead>\n  <tbody>\n    <tr>\n      <th>No</th>\n      <td>171</td>\n      <td>46</td>\n      <td>304</td>\n      <td>119</td>\n      <td>89</td>\n      <td>35</td>\n      <td>...</td>\n      <td>13</td>\n      <td>10</td>\n      <td>6</td>\n      <td>7</td>\n      <td>4</td>\n      <td>2</td>\n    </tr>\n    <tr>\n      <th>Yes</th>\n      <td>73</td>\n      <td>11</td>\n      <td>68</td>\n      <td>16</td>\n      <td>15</td>\n      <td>1</td>\n      <td>...</td>\n      <td>1</td>\n      <td>1</td>\n      <td>2</td>\n      <td>0</td>\n      <td>0</td>\n      <td>0</td>\n    </tr>\n  </tbody>\n</table>\n<p>2 rows × 19 columns</p>\n</div>"
     },
     "metadata": {},
     "execution_count": 214
    }
   ],
   "source": [
    "YICR = pd.crosstab(df_ds[\"Attrition\"], df_ds[\"YearsInCurrentRole\"]) # Tabela przestawna dla lat przepracowanych na obecnym stanowisku\n",
    "YICR"
   ]
  },
  {
   "cell_type": "code",
   "execution_count": 215,
   "metadata": {},
   "outputs": [
    {
     "output_type": "stream",
     "name": "stdout",
     "text": [
      "YearsInCurrentRole  Attrition\n0                   No           171\n                    Yes          73 \n1                   No           46 \n                    Yes          11 \n2                   No           304\n                    Yes          68 \n3                   No           119\n                    Yes          16 \n4                   No           89 \n                    Yes          15 \n5                   No           35 \n                    Yes          1  \n6                   No           35 \n                    Yes          2  \n7                   No           191\n                    Yes          31 \n8                   No           82 \n                    Yes          7  \n9                   No           61 \n                    Yes          6  \n10                  No           27 \n                    Yes          2  \n11                  No           22 \n12                  No           9  \n                    Yes          1  \n13                  No           13 \n                    Yes          1  \n14                  No           10 \n                    Yes          1  \n15                  No           6  \n                    Yes          2  \n16                  No           7  \n17                  No           4  \n18                  No           2  \nName: StockOptionLevel, dtype: int64\n"
     ]
    }
   ],
   "source": [
    "print(df_ds.groupby(by=[\"YearsInCurrentRole\", \"Attrition\"]).count()[\"StockOptionLevel\"])"
   ]
  },
  {
   "cell_type": "code",
   "execution_count": 216,
   "metadata": {},
   "outputs": [
    {
     "output_type": "execute_result",
     "data": {
      "text/plain": [
       "(-1, 3]    168\n",
       "(3, 7]     49 \n",
       "(7, 18]    20 \n",
       "Name: YearsInCurrentRole_bins, dtype: int64"
      ]
     },
     "metadata": {},
     "execution_count": 216
    }
   ],
   "source": [
    "# Create copy of df_ds with Attrition and YearsInCurrentRole only\n",
    "df_ds_YICR_YES = df_ds.loc[df_ds[\"Attrition\"]==\"Yes\", [\"Attrition\", \"YearsInCurrentRole\"]].copy()\n",
    "# Gather data in bins to avoid empty values\n",
    "df_ds_YICR_YES[\"YearsInCurrentRole_bins\"] = pd.cut(df_ds_YICR_YES[\"YearsInCurrentRole\"], bins=[-1,3,7,18])\n",
    "df_ds_YICR_YES[\"YearsInCurrentRole_bins\"].value_counts()"
   ]
  },
  {
   "cell_type": "code",
   "execution_count": 217,
   "metadata": {},
   "outputs": [],
   "source": [
    "# Number of employees that left a company vs. the number of years worked at current position\n",
    "# Create a copy of dataframe with Attrition=Yes\n",
    "df_ds_YICR_YES = df_ds[df_ds[\"Attrition\"]==\"Yes\"].copy()\n",
    "df_ds_YICR_YES[\"YearsInCurrentRole_bins\"] = pd.cut(df_ds_YICR_YES[\"YearsInCurrentRole\"], bins=[-1,3,7,18])\n",
    "# Count the employees that left the company\n",
    "df_ds_YICR_YES_only = df_ds_YICR_YES.groupby(by=\"YearsInCurrentRole_bins\").count() [\"Attrition\"].reset_index()\n",
    "# Change the name of column Attrition -> Atttrition_YES\n",
    "df_ds_YICR_YES_only = df_ds_YICR_YES_only.rename(columns = {\"Attrition\":\"Attrition_YES\"})\n",
    "# df_ds_YAC_YES_only"
   ]
  },
  {
   "cell_type": "code",
   "execution_count": 218,
   "metadata": {},
   "outputs": [],
   "source": [
    "# Number of employees that stayed in a company vs. the number of years worked in a company\n",
    "# Create a copy of dataframe with Attrition=No\n",
    "df_ds_YICR_NO = df_ds[df_ds[\"Attrition\"]==\"No\"].copy()\n",
    "df_ds_YICR_NO[\"YearsInCurrentRole_bins\"] = pd.cut(df_ds_YICR_NO[\"YearsInCurrentRole\"], bins=[-1,3,7,18])\n",
    "# Count the employees that stayed in a company\n",
    "df_ds_YICR_NO_only = df_ds_YICR_NO.groupby(by=\"YearsInCurrentRole_bins\").count() [\"Attrition\"].reset_index()\n",
    "# Change the name of column Attrition -> Atttrition_NO\n",
    "df_ds_YICR_NO_only = df_ds_YICR_NO_only.rename(columns = {\"Attrition\":\"Attrition_NO\"})\n",
    "# df_ds_YAC_NO_only"
   ]
  },
  {
   "cell_type": "code",
   "execution_count": 219,
   "metadata": {},
   "outputs": [
    {
     "output_type": "execute_result",
     "data": {
      "text/plain": [
       "  YearsInCurrentRole_bins  Attrition_YES  Attrition_NO  Yes+No  \\\n",
       "0  (-1, 3]                 168            640           808      \n",
       "1  (3, 7]                  49             350           399      \n",
       "2  (7, 18]                 20             243           263      \n",
       "\n",
       "   Probability_YES  \n",
       "0  0.207921         \n",
       "1  0.122807         \n",
       "2  0.076046         "
      ],
      "text/html": "<div>\n<style scoped>\n    .dataframe tbody tr th:only-of-type {\n        vertical-align: middle;\n    }\n\n    .dataframe tbody tr th {\n        vertical-align: top;\n    }\n\n    .dataframe thead th {\n        text-align: right;\n    }\n</style>\n<table border=\"1\" class=\"dataframe\">\n  <thead>\n    <tr style=\"text-align: right;\">\n      <th></th>\n      <th>YearsInCurrentRole_bins</th>\n      <th>Attrition_YES</th>\n      <th>Attrition_NO</th>\n      <th>Yes+No</th>\n      <th>Probability_YES</th>\n    </tr>\n  </thead>\n  <tbody>\n    <tr>\n      <th>0</th>\n      <td>(-1, 3]</td>\n      <td>168</td>\n      <td>640</td>\n      <td>808</td>\n      <td>0.207921</td>\n    </tr>\n    <tr>\n      <th>1</th>\n      <td>(3, 7]</td>\n      <td>49</td>\n      <td>350</td>\n      <td>399</td>\n      <td>0.122807</td>\n    </tr>\n    <tr>\n      <th>2</th>\n      <td>(7, 18]</td>\n      <td>20</td>\n      <td>243</td>\n      <td>263</td>\n      <td>0.076046</td>\n    </tr>\n  </tbody>\n</table>\n</div>"
     },
     "metadata": {},
     "execution_count": 219
    }
   ],
   "source": [
    "# Merge tables with trainings and attrition both YES and NO\n",
    "df_ds_YICR_Y_N = pd.merge(df_ds_YICR_YES_only, df_ds_YICR_NO_only, on=\"YearsInCurrentRole_bins\", how=\"left\")\n",
    "# Reset index\n",
    "df_ds_YICR_Y_N.reset_index()\n",
    "# Add a column with total number of employees\n",
    "df_ds_YICR_Y_N[\"Yes+No\"] = df_ds_YICR_Y_N[\"Attrition_YES\"] + df_ds_YICR_Y_N[\"Attrition_NO\"]\n",
    "# Add a column with probability of leaving a company\n",
    "df_ds_YICR_Y_N[\"Probability_YES\"] = df_ds_YICR_Y_N[\"Attrition_YES\"]/df_ds_YICR_Y_N[\"Yes+No\"]\n",
    "df_ds_YICR_Y_N"
   ]
  },
  {
   "cell_type": "code",
   "execution_count": 220,
   "metadata": {},
   "outputs": [
    {
     "output_type": "display_data",
     "data": {
      "text/plain": "HBox(children=(ToggleButtons(description='Number of years at current role:', layout=Layout(width='80%'), optio…",
      "application/vnd.jupyter.widget-view+json": {
       "version_major": 2,
       "version_minor": 0,
       "model_id": "19d4e50a70b948838c94bfa758ba08e7"
      }
     },
     "metadata": {}
    }
   ],
   "source": [
    "# Characteristics of slider for the number of years worked at current position\n",
    "from IPython.display import display\n",
    "from ipywidgets import HBox, Label\n",
    "\n",
    "style = {'description_width': 'initial'}\n",
    "YICR_toggle = widgets.ToggleButtons(\n",
    "    options=['(0-3>', '(3-7>', '(7-18>'],\n",
    "    description='Number of years at current role:',\n",
    "    disabled=False,\n",
    "    button_style='',\n",
    "    style = style,\n",
    "    layout = Layout(width='80%')\n",
    ")\n",
    "\n",
    "# display(YICR_slider)\n",
    "HBox([YICR_toggle])"
   ]
  },
  {
   "cell_type": "code",
   "execution_count": 248,
   "metadata": {},
   "outputs": [],
   "source": [
    "# Function checking the attrition probability for number of years in current role\n",
    "def YICR_probability(input_YICR):\n",
    "    if input_YICR.value == \"(0-3>\":\n",
    "        RoleYearsNo = 0 #\"(-1, 3]\"\n",
    "    elif input_YICR.value == \"(3-7>\":\n",
    "        RoleYearsNo = 1 #\"(3, 7]\"\n",
    "    else:\n",
    "        RoleYearsNo = 2 #\"(7, 18]\"\n",
    "    pYICR = df_ds_YICR_Y_N.loc[int(RoleYearsNo), \"Probability_YES\"]\n",
    "    return pYICR\n",
    "    # print(pYICR)\n",
    "    # print(\"pYICR: {}\".format(df_ds_YICR_Y_N.loc[int(RoleYearsNo), \"Probability_YES\"]))"
   ]
  },
  {
   "cell_type": "code",
   "execution_count": 222,
   "metadata": {},
   "outputs": [
    {
     "output_type": "display_data",
     "data": {
      "text/plain": "interactive(children=(ToggleButtons(description='Number of years at current role:', layout=Layout(width='80%')…",
      "application/vnd.jupyter.widget-view+json": {
       "version_major": 2,
       "version_minor": 0,
       "model_id": "f4a79704eea24c0ba551f91e87f8407a"
      }
     },
     "metadata": {}
    },
    {
     "output_type": "execute_result",
     "data": {
      "text/plain": [
       "<function __main__.value_handler(v)>"
      ]
     },
     "metadata": {},
     "execution_count": 222
    }
   ],
   "source": [
    "# Nie mogłem się odwołać do tego pogrupowanego indexu, więc zamieniłem na wartości z indexu podstawowego\n",
    "def value_handler(v):\n",
    "    if YICR_toggle.value == \"(0-3>\":\n",
    "        CYearsNo = 0 #\"(-1, 3]\"\n",
    "    elif YICR_toggle.value == \"(3-7>\":\n",
    "        CYearsNo = 1 #\"(3, 7]\"\n",
    "    else:\n",
    "        CYearsNo = 2 #\"(7, 18]\"\n",
    "    \n",
    "    print(\"Prawdopodobieństwo odejścia z firmy wynosi: {}\".format(df_ds_YICR_Y_N.loc[int(CYearsNo), \"Probability_YES\"]))\n",
    "\n",
    "\n",
    "widgets.interact(value_handler, v=YICR_toggle)"
   ]
  },
  {
   "source": [
    "# TotalWorkingYears vs. Attrition #"
   ],
   "cell_type": "markdown",
   "metadata": {}
  },
  {
   "cell_type": "code",
   "execution_count": 223,
   "metadata": {},
   "outputs": [
    {
     "output_type": "execute_result",
     "data": {
      "text/plain": [
       "TotalWorkingYears  0   1   2   3   4   5  ...  34  35  36  37  38  40\n",
       "Attrition                                 ...                        \n",
       "No                 6  41  22  33  51  72  ...  4   3   6   4   1   0 \n",
       "Yes                5  40  9   9   12  16  ...  1   0   0   0   0   2 \n",
       "\n",
       "[2 rows x 40 columns]"
      ],
      "text/html": "<div>\n<style scoped>\n    .dataframe tbody tr th:only-of-type {\n        vertical-align: middle;\n    }\n\n    .dataframe tbody tr th {\n        vertical-align: top;\n    }\n\n    .dataframe thead th {\n        text-align: right;\n    }\n</style>\n<table border=\"1\" class=\"dataframe\">\n  <thead>\n    <tr style=\"text-align: right;\">\n      <th>TotalWorkingYears</th>\n      <th>0</th>\n      <th>1</th>\n      <th>2</th>\n      <th>3</th>\n      <th>4</th>\n      <th>5</th>\n      <th>...</th>\n      <th>34</th>\n      <th>35</th>\n      <th>36</th>\n      <th>37</th>\n      <th>38</th>\n      <th>40</th>\n    </tr>\n    <tr>\n      <th>Attrition</th>\n      <th></th>\n      <th></th>\n      <th></th>\n      <th></th>\n      <th></th>\n      <th></th>\n      <th></th>\n      <th></th>\n      <th></th>\n      <th></th>\n      <th></th>\n      <th></th>\n      <th></th>\n    </tr>\n  </thead>\n  <tbody>\n    <tr>\n      <th>No</th>\n      <td>6</td>\n      <td>41</td>\n      <td>22</td>\n      <td>33</td>\n      <td>51</td>\n      <td>72</td>\n      <td>...</td>\n      <td>4</td>\n      <td>3</td>\n      <td>6</td>\n      <td>4</td>\n      <td>1</td>\n      <td>0</td>\n    </tr>\n    <tr>\n      <th>Yes</th>\n      <td>5</td>\n      <td>40</td>\n      <td>9</td>\n      <td>9</td>\n      <td>12</td>\n      <td>16</td>\n      <td>...</td>\n      <td>1</td>\n      <td>0</td>\n      <td>0</td>\n      <td>0</td>\n      <td>0</td>\n      <td>2</td>\n    </tr>\n  </tbody>\n</table>\n<p>2 rows × 40 columns</p>\n</div>"
     },
     "metadata": {},
     "execution_count": 223
    }
   ],
   "source": [
    "TWY = pd.crosstab(df_ds[\"Attrition\"], df_ds[\"TotalWorkingYears\"]) # Tabela przestawna dla lat przepracowanych na obecnym stanowisku\n",
    "TWY"
   ]
  },
  {
   "cell_type": "code",
   "execution_count": 224,
   "metadata": {},
   "outputs": [
    {
     "output_type": "stream",
     "name": "stdout",
     "text": [
      "TotalWorkingYears  Attrition\n",
      "0                  No           6 \n",
      "                   Yes          5 \n",
      "1                  No           41\n",
      "                   Yes          40\n",
      "2                  No           22\n",
      "                                ..\n",
      "35                 No           3 \n",
      "36                 No           6 \n",
      "37                 No           4 \n",
      "38                 No           1 \n",
      "40                 Yes          2 \n",
      "Name: YearsAtCompany, Length: 71, dtype: int64\n",
      "<ipython-input-224-8f4ed39b1095>:5: FutureWarning: Passing a negative integer is deprecated in version 1.0 and will not be supported in future version. Instead, use None to not limit the column width.\n",
      "  pd.set_option('display.max_colwidth', -1)\n"
     ]
    }
   ],
   "source": [
    "# Settings to display full dataframe date\n",
    "pd.set_option('display.max_rows', 50)\n",
    "pd.set_option('display.max_columns', 12)\n",
    "pd.set_option('display.width', None)\n",
    "pd.set_option('display.max_colwidth', -1)\n",
    "\n",
    "print(df_ds.groupby(by=[\"TotalWorkingYears\", \"Attrition\"]).count()[\"YearsAtCompany\"])"
   ]
  },
  {
   "cell_type": "code",
   "execution_count": 225,
   "metadata": {},
   "outputs": [
    {
     "output_type": "execute_result",
     "data": {
      "text/plain": [
       "(3, 7]      68\n",
       "(7, 12]     63\n",
       "(-1, 3]     63\n",
       "(12, 20]    27\n",
       "(20, 40]    16\n",
       "Name: TotalWorkingYears_bins, dtype: int64"
      ]
     },
     "metadata": {},
     "execution_count": 225
    }
   ],
   "source": [
    "# Create copy of df_ds with Attrition and YearsInCurrentRole only\n",
    "df_ds_TWY_YES = df_ds.loc[df_ds[\"Attrition\"]==\"Yes\", [\"Attrition\", \"TotalWorkingYears\"]].copy()\n",
    "# Gather data in bins to avoid empty values\n",
    "df_ds_TWY_YES[\"TotalWorkingYears_bins\"] = pd.cut(df_ds_TWY_YES[\"TotalWorkingYears\"], bins=[-1,3,7,12,20,40])\n",
    "df_ds_TWY_YES[\"TotalWorkingYears_bins\"].value_counts()"
   ]
  },
  {
   "cell_type": "code",
   "execution_count": 226,
   "metadata": {},
   "outputs": [],
   "source": [
    "# Number of employees that left a company vs. the number of years worked at current position\n",
    "# Create a copy of dataframe with Attrition=Yes\n",
    "df_ds_TWY_YES = df_ds[df_ds[\"Attrition\"]==\"Yes\"].copy()\n",
    "df_ds_TWY_YES[\"TotalWorkingYears_bins\"] = pd.cut(df_ds_TWY_YES[\"TotalWorkingYears\"], bins=[-1,3,7,12,20,40])\n",
    "# Count the employees that left the company\n",
    "df_ds_TWY_YES_only = df_ds_TWY_YES.groupby(by=\"TotalWorkingYears_bins\").count() [\"Attrition\"].reset_index()\n",
    "# Change the name of column Attrition -> Atttrition_YES\n",
    "df_ds_TWY_YES_only = df_ds_TWY_YES_only.rename(columns = {\"Attrition\":\"Attrition_YES\"})\n",
    "# df_ds_YAC_YES_only"
   ]
  },
  {
   "cell_type": "code",
   "execution_count": 227,
   "metadata": {},
   "outputs": [],
   "source": [
    "# Number of employees that stayed in a company vs. the number of years worked in a company\n",
    "# Create a copy of dataframe with Attrition=No\n",
    "df_ds_TWY_NO = df_ds[df_ds[\"Attrition\"]==\"No\"].copy()\n",
    "df_ds_TWY_NO[\"TotalWorkingYears_bins\"] = pd.cut(df_ds_TWY_NO[\"TotalWorkingYears\"], bins=[-1,3,7,12,20,40])\n",
    "# Count the employees that stayed in a company\n",
    "df_ds_TWY_NO_only = df_ds_TWY_NO.groupby(by=\"TotalWorkingYears_bins\").count() [\"Attrition\"].reset_index()\n",
    "# Change the name of column Attrition -> Atttrition_NO\n",
    "df_ds_TWY_NO_only = df_ds_TWY_NO_only.rename(columns = {\"Attrition\":\"Attrition_NO\"})\n",
    "# df_ds_YAC_NO_only"
   ]
  },
  {
   "cell_type": "code",
   "execution_count": 228,
   "metadata": {},
   "outputs": [
    {
     "output_type": "execute_result",
     "data": {
      "text/plain": [
       "  TotalWorkingYears_bins  Attrition_YES  Attrition_NO  Yes+No  Probability_YES\n",
       "0  (-1, 3]                63             102           165     0.381818       \n",
       "1  (3, 7]                 68             289           357     0.190476       \n",
       "2  (7, 12]                63             422           485     0.129897       \n",
       "3  (12, 20]               27             229           256     0.105469       \n",
       "4  (20, 40]               16             191           207     0.077295       "
      ],
      "text/html": "<div>\n<style scoped>\n    .dataframe tbody tr th:only-of-type {\n        vertical-align: middle;\n    }\n\n    .dataframe tbody tr th {\n        vertical-align: top;\n    }\n\n    .dataframe thead th {\n        text-align: right;\n    }\n</style>\n<table border=\"1\" class=\"dataframe\">\n  <thead>\n    <tr style=\"text-align: right;\">\n      <th></th>\n      <th>TotalWorkingYears_bins</th>\n      <th>Attrition_YES</th>\n      <th>Attrition_NO</th>\n      <th>Yes+No</th>\n      <th>Probability_YES</th>\n    </tr>\n  </thead>\n  <tbody>\n    <tr>\n      <th>0</th>\n      <td>(-1, 3]</td>\n      <td>63</td>\n      <td>102</td>\n      <td>165</td>\n      <td>0.381818</td>\n    </tr>\n    <tr>\n      <th>1</th>\n      <td>(3, 7]</td>\n      <td>68</td>\n      <td>289</td>\n      <td>357</td>\n      <td>0.190476</td>\n    </tr>\n    <tr>\n      <th>2</th>\n      <td>(7, 12]</td>\n      <td>63</td>\n      <td>422</td>\n      <td>485</td>\n      <td>0.129897</td>\n    </tr>\n    <tr>\n      <th>3</th>\n      <td>(12, 20]</td>\n      <td>27</td>\n      <td>229</td>\n      <td>256</td>\n      <td>0.105469</td>\n    </tr>\n    <tr>\n      <th>4</th>\n      <td>(20, 40]</td>\n      <td>16</td>\n      <td>191</td>\n      <td>207</td>\n      <td>0.077295</td>\n    </tr>\n  </tbody>\n</table>\n</div>"
     },
     "metadata": {},
     "execution_count": 228
    }
   ],
   "source": [
    "# Merge tables with trainings and attrition both YES and NO\n",
    "df_ds_TWY_Y_N = pd.merge(df_ds_TWY_YES_only, df_ds_TWY_NO_only, on=\"TotalWorkingYears_bins\", how=\"left\")\n",
    "# Reset index\n",
    "df_ds_TWY_Y_N.reset_index()\n",
    "# Add a column with total number of employees\n",
    "df_ds_TWY_Y_N[\"Yes+No\"] = df_ds_TWY_Y_N[\"Attrition_YES\"] + df_ds_TWY_Y_N[\"Attrition_NO\"]\n",
    "# Add a column with probability of leaving a company\n",
    "df_ds_TWY_Y_N[\"Probability_YES\"] = df_ds_TWY_Y_N[\"Attrition_YES\"]/df_ds_TWY_Y_N[\"Yes+No\"]\n",
    "df_ds_TWY_Y_N"
   ]
  },
  {
   "cell_type": "code",
   "execution_count": 229,
   "metadata": {},
   "outputs": [
    {
     "output_type": "display_data",
     "data": {
      "text/plain": "HBox(children=(ToggleButtons(description='Number of working years: ', layout=Layout(width='90%'), options=('(0…",
      "application/vnd.jupyter.widget-view+json": {
       "version_major": 2,
       "version_minor": 0,
       "model_id": "05b6a2b875f94d53b9150c741482644f"
      }
     },
     "metadata": {}
    }
   ],
   "source": [
    "# Characteristics of slider for the number of years worked in total\n",
    "from IPython.display import display\n",
    "from ipywidgets import HBox, Label\n",
    "\n",
    "style = {'description_width': 'initial'}\n",
    "TWY_toggle = widgets.ToggleButtons(\n",
    "    options=['(0-3>', '(3-7>', '(7-12>', '(12-20>', '(20-40>'],\n",
    "    description='Number of working years: ',\n",
    "    disabled=False,\n",
    "    button_style='',\n",
    "    style = style,\n",
    "    layout = Layout(width='90%')\n",
    ")\n",
    "\n",
    "# display(TWS_slider)\n",
    "HBox([TWY_toggle])"
   ]
  },
  {
   "cell_type": "code",
   "execution_count": 243,
   "metadata": {},
   "outputs": [],
   "source": [
    "# FUnction checking the attrition probability for total working years\n",
    "def TWY_probability(input_TWY):\n",
    "    if input_TWY.value == \"(0-3>\":\n",
    "        WorkYearsNo = 0 #\"(-1, 3]\"\n",
    "    elif input_TWY.value == \"(3-7>\":\n",
    "        WorkYearsNo = 1 #\"(3, 7]\"\n",
    "    elif input_TWY.value == \"(7-12>\":\n",
    "        WorkYearsNo = 2 #\"(7, 12]\"\n",
    "    elif input_TWY.value == \"(12-20>\":\n",
    "        WorkYearsNo = 3 #\"(12, 20]\"  \n",
    "    else:\n",
    "        WorkYearsNo = 4 #\"(20, 40]\"\n",
    "    pTWY = df_ds_TWY_Y_N.loc[int(WorkYearsNo), \"Probability_YES\"]\n",
    "    return pTWY\n",
    "    # print(pTWY)\n",
    "    # print(\"pTWY: {}\".format(df_ds_TWY_Y_N.loc[int(WorkYearsNo), \"Probability_YES\"]))"
   ]
  },
  {
   "cell_type": "code",
   "execution_count": 230,
   "metadata": {},
   "outputs": [
    {
     "output_type": "display_data",
     "data": {
      "text/plain": "interactive(children=(ToggleButtons(description='Number of working years: ', layout=Layout(width='90%'), optio…",
      "application/vnd.jupyter.widget-view+json": {
       "version_major": 2,
       "version_minor": 0,
       "model_id": "5a7fb97d56a147e3a69073cbbb0b606f"
      }
     },
     "metadata": {}
    },
    {
     "output_type": "execute_result",
     "data": {
      "text/plain": [
       "<function __main__.TWY_prob(v)>"
      ]
     },
     "metadata": {},
     "execution_count": 230
    }
   ],
   "source": [
    "# Nie mogłem się odwołać do tego pogrupowanego indexu, więc zamieniłem na wartości z indexu podstawowego\n",
    "def TWY_prob(v):\n",
    "    if TWY_toggle.value == \"(0-3>\":\n",
    "        CYearsNo = 0 #\"(-1, 3]\"\n",
    "    elif TWY_toggle.value == \"(3-7>\":\n",
    "        CYearsNo = 1 #\"(3, 7]\"\n",
    "    elif TWY_toggle.value == \"(7-12>\":\n",
    "        CYearsNo = 2 #\"(7, 12]\"\n",
    "    elif TWY_toggle.value == \"(12-20>\":\n",
    "        CYearsNo = 3 #\"(12, 20]\"  \n",
    "    else:\n",
    "        CYearsNo = 4 #\"(20, 40]\"\n",
    "    \n",
    "    print(\"Prawdopodobieństwo odejścia z firmy wynosi: {}\".format(df_ds_TWY_Y_N.loc[int(CYearsNo), \"Probability_YES\"]))\n",
    "\n",
    "\n",
    "widgets.interact(TWY_prob, v=TWY_toggle)"
   ]
  },
  {
   "cell_type": "code",
   "execution_count": null,
   "metadata": {},
   "outputs": [],
   "source": []
  },
  {
   "source": [
    "# StockOptionLevel vs. Attrition #"
   ],
   "cell_type": "markdown",
   "metadata": {}
  },
  {
   "cell_type": "code",
   "execution_count": 231,
   "metadata": {},
   "outputs": [
    {
     "output_type": "execute_result",
     "data": {
      "text/plain": [
       "StockOptionLevel    0    1    2   3\n",
       "Attrition                          \n",
       "No                477  540  146  70\n",
       "Yes               154  56   12   15"
      ],
      "text/html": "<div>\n<style scoped>\n    .dataframe tbody tr th:only-of-type {\n        vertical-align: middle;\n    }\n\n    .dataframe tbody tr th {\n        vertical-align: top;\n    }\n\n    .dataframe thead th {\n        text-align: right;\n    }\n</style>\n<table border=\"1\" class=\"dataframe\">\n  <thead>\n    <tr style=\"text-align: right;\">\n      <th>StockOptionLevel</th>\n      <th>0</th>\n      <th>1</th>\n      <th>2</th>\n      <th>3</th>\n    </tr>\n    <tr>\n      <th>Attrition</th>\n      <th></th>\n      <th></th>\n      <th></th>\n      <th></th>\n    </tr>\n  </thead>\n  <tbody>\n    <tr>\n      <th>No</th>\n      <td>477</td>\n      <td>540</td>\n      <td>146</td>\n      <td>70</td>\n    </tr>\n    <tr>\n      <th>Yes</th>\n      <td>154</td>\n      <td>56</td>\n      <td>12</td>\n      <td>15</td>\n    </tr>\n  </tbody>\n</table>\n</div>"
     },
     "metadata": {},
     "execution_count": 231
    }
   ],
   "source": [
    "# Pivot table for the level of stock options\n",
    "SOL = pd.crosstab(df_ds[\"Attrition\"], df_ds[\"StockOptionLevel\"]) \n",
    "SOL"
   ]
  },
  {
   "cell_type": "code",
   "execution_count": 232,
   "metadata": {},
   "outputs": [],
   "source": [
    "# Number of employees that left a company vs. the level of options for stock\n",
    "# Create a copy of dataframe with Attrition=Yes\n",
    "df_ds_SOL_YES = df_ds[df_ds[\"Attrition\"]==\"Yes\"].copy()\n",
    "# Count the employees that left the company\n",
    "df_ds_SOL_YES_only = df_ds_SOL_YES.groupby(by=\"StockOptionLevel\").count() [\"Attrition\"].reset_index()\n",
    "# Change the name of column Attrition -> Atttrition_YES\n",
    "df_ds_SOL_YES_only = df_ds_SOL_YES_only.rename(columns = {\"Attrition\":\"Attrition_YES\"})\n",
    "# df_ds_SOL_YES_only"
   ]
  },
  {
   "cell_type": "code",
   "execution_count": 233,
   "metadata": {},
   "outputs": [],
   "source": [
    "# Number of employees that stayed in a company vs. the level of options for stock\n",
    "# Create a copy of dataframe with Attrition=No\n",
    "df_ds_SOL_NO = df_ds[df_ds[\"Attrition\"]==\"No\"].copy()\n",
    "# Count the employees that stayed in a company\n",
    "df_ds_SOL_NO_only = df_ds_SOL_NO.groupby(by=\"StockOptionLevel\").count() [\"Attrition\"].reset_index()\n",
    "# Change the name of column Attrition -> Atttrition_NO\n",
    "df_ds_SOL_NO_only = df_ds_SOL_NO_only.rename(columns = {\"Attrition\":\"Attrition_NO\"})\n",
    "# df_ds_TTLY_NO_only"
   ]
  },
  {
   "cell_type": "code",
   "execution_count": 234,
   "metadata": {},
   "outputs": [
    {
     "output_type": "stream",
     "name": "stdout",
     "text": [
      "   StockOptionLevel  Attrition_YES  Attrition_NO  Yes+No  Probability_YES\n0  0                 154            477           631     0.244057       \n1  1                 56             540           596     0.093960       \n2  2                 12             146           158     0.075949       \n3  3                 15             70            85      0.176471       \n"
     ]
    }
   ],
   "source": [
    "# Merge tables with trainings and attrition both YES and NO\n",
    "df_ds_SOL_Y_N = pd.merge(df_ds_SOL_YES_only, df_ds_SOL_NO_only, on=\"StockOptionLevel\", how=\"left\")\n",
    "# Reset index\n",
    "df_ds_SOL_Y_N.reset_index()\n",
    "# Add a column with total number of employees\n",
    "df_ds_SOL_Y_N[\"Yes+No\"] = df_ds_SOL_Y_N[\"Attrition_YES\"] + df_ds_SOL_Y_N[\"Attrition_NO\"]\n",
    "# Add a column with probability of leaving a company\n",
    "df_ds_SOL_Y_N[\"Probability_YES\"] = df_ds_SOL_Y_N[\"Attrition_YES\"]/df_ds_SOL_Y_N[\"Yes+No\"]\n",
    "print(df_ds_SOL_Y_N)"
   ]
  },
  {
   "cell_type": "code",
   "execution_count": 235,
   "metadata": {},
   "outputs": [
    {
     "output_type": "display_data",
     "data": {
      "text/plain": "HBox(children=(Label(value=''), IntSlider(value=0, continuous_update=False, description='Stock level option: '…",
      "application/vnd.jupyter.widget-view+json": {
       "version_major": 2,
       "version_minor": 0,
       "model_id": "464606bbeb9c46d588c96df33da60b9b"
      }
     },
     "metadata": {}
    }
   ],
   "source": [
    "# Characteristics of slider for the level of options for stock\n",
    "\n",
    "from IPython.display import display\n",
    "from ipywidgets import HBox, Label\n",
    "\n",
    "style = {'description_width': 'initial'}\n",
    "SOL_slider = widgets.IntSlider(\n",
    "    value=0,\n",
    "    min=0,\n",
    "    max=3,\n",
    "    step=1,\n",
    "    description='Stock level option: ',\n",
    "    disabled=False,\n",
    "    continuous_update=False,\n",
    "    orientation='horizontal',\n",
    "    readout=True,\n",
    "    readout_format='d',\n",
    "    style=style,\n",
    "    layout=Layout(width='50%')\n",
    ")\n",
    "\n",
    "# display(TTLY_slider)\n",
    "HBox([Label(''), SOL_slider])"
   ]
  },
  {
   "cell_type": "code",
   "execution_count": 249,
   "metadata": {},
   "outputs": [],
   "source": [
    "# Function checking the attrition probability for stock option level\n",
    "def SOL_probability(input_SOL):\n",
    "    StockL = input_SOL.value\n",
    "    Attr_Y_prob = df_ds_SOL_Y_N.loc[df_ds_SOL_Y_N[\"StockOptionLevel\"]==StockL, \"Probability_YES\"]\n",
    "    pSOL = Attr_Y_prob[StockL]\n",
    "    return pSOL\n",
    "    # print(pSOL)\n",
    "    # print(\"pSOL: {}\".format(Attr_Y_prob[StockL]))"
   ]
  },
  {
   "cell_type": "code",
   "execution_count": 236,
   "metadata": {},
   "outputs": [
    {
     "output_type": "display_data",
     "data": {
      "text/plain": "interactive(children=(IntSlider(value=0, continuous_update=False, description='Stock level option: ', layout=L…",
      "application/vnd.jupyter.widget-view+json": {
       "version_major": 2,
       "version_minor": 0,
       "model_id": "7012478bfeae4d1992953d674e9c03df"
      }
     },
     "metadata": {}
    }
   ],
   "source": [
    "# Slider connected with value_handler function returning probability\n",
    "def SOL_prob(v):\n",
    "    TrainNo = SOL_slider.value\n",
    "    Attr_Y_prob = df_ds_SOL_Y_N.loc[df_ds_SOL_Y_N[\"StockOptionLevel\"]==TrainNo, \"Probability_YES\"]\n",
    "    print(\"Prawdopodobieństwo odejścia z firmy wynosi: {}\".format(Attr_Y_prob[TrainNo]))\n",
    "\n",
    "\n",
    "widgets.interactive(SOL_prob, v=SOL_slider)"
   ]
  },
  {
   "source": [
    "# PROBABILITIES #"
   ],
   "cell_type": "markdown",
   "metadata": {}
  },
  {
   "cell_type": "code",
   "execution_count": 250,
   "metadata": {},
   "outputs": [
    {
     "output_type": "display_data",
     "data": {
      "text/plain": "VBox(children=(IntSlider(value=0, continuous_update=False, description='Number of trainings in last year:', la…",
      "application/vnd.jupyter.widget-view+json": {
       "version_major": 2,
       "version_minor": 0,
       "model_id": "8af55667105b47f2946f509373730e06"
      }
     },
     "metadata": {}
    },
    {
     "output_type": "display_data",
     "data": {
      "text/plain": "Output()",
      "application/vnd.jupyter.widget-view+json": {
       "version_major": 2,
       "version_minor": 0,
       "model_id": "2e13a8a9c85c40b4b5814b8ab4f863a7"
      }
     },
     "metadata": {}
    }
   ],
   "source": [
    "# All widgets together in VBox\n",
    "from ipywidgets import Box \n",
    "def probabilities(input_TTLY, input_YAC, input_YICR, input_TWY, input_SOL):\n",
    "\n",
    "#TTLY\n",
    "    pTTLY = TTLY_probability(TTLY_slider)\n",
    "    # TrainNo = TTLY_slider.value\n",
    "    # Attr_Y_prob = df_ds_TTLY_Y_N.loc[df_ds_TTLY_Y_N[\"TrainingTimesLastYear\"]==TrainNo, \"Probability_YES\"]\n",
    "    # pTTLY = Attr_Y_prob[TrainNo]\n",
    "    # print(pTTLY)\n",
    "    print(\"pTTLY: {}\".format(pTTLY))\n",
    "\n",
    "#YAC\n",
    "    pYAC = YAC_probability(YAC_toggle)\n",
    "    # if YAC_toggle.value == \"(0-3>\":\n",
    "    #     CompYearsNo = 0 #\"(-1, 3]\"\n",
    "    # elif YAC_toggle.value == \"(3-7>\":\n",
    "    #     CompYearsNo = 1 #\"(3, 7]\"\n",
    "    # elif YAC_toggle.value == \"(7-10>\":\n",
    "    #     CompYearsNo = 2 #\"(7, 10]\"\n",
    "    # else:\n",
    "    #     CompYearsNo = 3 #\"(10, 30]\"\n",
    "    # pYAC = df_ds_YAC_Y_N.loc[int(CompYearsNo), \"Probability_YES\"]\n",
    "    # print(pYAC)\n",
    "    print(\"pYAC: {}\".format(pYAC))\n",
    "\n",
    "\n",
    "#YICR\n",
    "    pYICR = YICR_probability(YICR_toggle)\n",
    "    # if YICR_toggle.value == \"(0-3>\":\n",
    "    #     RoleYearsNo = 0 #\"(-1, 3]\"\n",
    "    # elif YICR_toggle.value == \"(3-7>\":\n",
    "    #     RoleYearsNo = 1 #\"(3, 7]\"\n",
    "    # else:\n",
    "    #     RoleYearsNo = 2 #\"(7, 18]\"\n",
    "    # pYICR = df_ds_YICR_Y_N.loc[int(RoleYearsNo), \"Probability_YES\"]\n",
    "    # print(pYICR)\n",
    "    print(\"pYICR: {}\".format(pYICR))\n",
    "\n",
    "\n",
    "#TWY\n",
    "    pTWY = TWY_probability(TWY_toggle)\n",
    "    # if TWY_toggle.value == \"(0-3>\":\n",
    "    #     WorkYearsNo = 0 #\"(-1, 3]\"\n",
    "    # elif TWY_toggle.value == \"(3-7>\":\n",
    "    #     WorkYearsNo = 1 #\"(3, 7]\"\n",
    "    # elif TWY_toggle.value == \"(7-12>\":\n",
    "    #     WorkYearsNo = 2 #\"(7, 12]\"\n",
    "    # elif TWY_toggle.value == \"(12-20>\":\n",
    "    #     WorkYearsNo = 3 #\"(12, 20]\"  \n",
    "    # else:\n",
    "    #     WorkYearsNo = 4 #\"(20, 40]\"\n",
    "    # pTWY = df_ds_TWY_Y_N.loc[int(WorkYearsNo), \"Probability_YES\"]\n",
    "    # print(pTWY)\n",
    "    print(\"pTWY: {}\".format(pTWY))\n",
    "\n",
    "#SOL\n",
    "    pSOL = SOL_probability(SOL_slider)\n",
    "    # StockL = SOL_slider.value\n",
    "    # Attr_Y_prob = df_ds_SOL_Y_N.loc[df_ds_SOL_Y_N[\"StockOptionLevel\"]==StockL, \"Probability_YES\"]\n",
    "    # pSOL = Attr_Y_prob[StockL]\n",
    "    # print(pSOL)\n",
    "    print(\"pSOL: {}\".format(pSOL))\n",
    "\n",
    "# Display widgets\n",
    "ui = widgets.VBox([TTLY_slider, YAC_toggle, YICR_toggle, TWY_toggle, SOL_slider])\n",
    "# Send inputs to function reading probabilities\n",
    "out = widgets.interactive_output(probabilities, {'input_TTLY':TTLY_slider, 'input_YAC':YAC_toggle, 'input_YICR':YICR_toggle, 'input_TWY':TWY_toggle, 'input_SOL':SOL_slider})\n",
    "\n",
    "display(ui, out)\n"
   ]
  },
  {
   "cell_type": "code",
   "execution_count": 70,
   "metadata": {},
   "outputs": [
    {
     "output_type": "stream",
     "name": "stdout",
     "text": [
      "0    0.244057\nName: Probability_YES, dtype: float64\n0.19047619047619047\n"
     ]
    },
    {
     "output_type": "display_data",
     "data": {
      "text/plain": "Box(children=(Box(children=(Label(value='Liczba szkoleń w ostatnim roku: '), IntSlider(value=0, continuous_upd…",
      "application/vnd.jupyter.widget-view+json": {
       "version_major": 2,
       "version_minor": 0,
       "model_id": "2949593aaf9d462da0e9bca919e02512"
      }
     },
     "metadata": {}
    }
   ],
   "source": [
    "from ipywidgets import Layout, Button, Box, FloatText, Textarea, Dropdown, Label, IntSlider\n",
    "\n",
    "def SOL_prob(v):\n",
    "    TrainNo = SOL_slider.value\n",
    "    # Attr_Y_prob = df_ds_SOL_Y_N.loc[df_ds_SOL_Y_N[\"StockOptionLevel\"]==TrainNo, \"Probability_YES\"]\n",
    "    #print(\"Prawdopodobieństwo odejścia z firmy wynosi: {}\".format(Attr_Y_prob[TrainNo]))\n",
    "    return df_ds_SOL_Y_N.loc[df_ds_SOL_Y_N[\"StockOptionLevel\"]==TrainNo, \"Probability_YES\"]\n",
    "\n",
    "def TWY_prob(v):\n",
    "    if TWY_toggle.value == \"(0-3>\":\n",
    "        CYearsNo = 0 #\"(-1, 3]\"\n",
    "    elif TWY_toggle.value == \"(3-7>\":\n",
    "        CYearsNo = 1 #\"(3, 7]\"\n",
    "    elif TWY_toggle.value == \"(7-12>\":\n",
    "        CYearsNo = 2 #\"(7, 12]\"\n",
    "    elif TWY_toggle.value == \"(12-20>\":\n",
    "        CYearsNo = 3 #\"(12, 20]\"  \n",
    "    else:\n",
    "        CYearsNo = 4 #\"(20, 40]\"\n",
    "    #print(\"Prawdopodobieństwo odejścia z firmy wynosi: {}\".format(df_ds_TWY_Y_N.loc[int(CYearsNo), \"Probability_YES\"]))\n",
    "    return df_ds_TWY_Y_N.loc[int(CYearsNo), \"Probability_YES\"] \n",
    "\n",
    "form_item_layout = Layout(\n",
    "    display='flex',\n",
    "    flex_flow='row',\n",
    "    justify_content='space-between'\n",
    ")\n",
    "\n",
    "form_items = [\n",
    "    Box([Label(value='Liczba szkoleń w ostatnim roku: '), TTLY_slider], layout=form_item_layout),\n",
    "    Box([Label(value='Liczba lat w firmie: '), YAC_toggle], layout=form_item_layout),\n",
    "    Box([Label(value='Liczba lat na obecnym stanowisku: '), YICR_toggle], layout=form_item_layout),\n",
    "    Box([Label(value='Lata doświadczenia zawodowego: '), TWY_toggle], layout=form_item_layout),\n",
    "    Box([Label(value='Poziom opcji na akcje: '), SOL_slider], layout=form_item_layout)\n",
    "]\n",
    "\n",
    "PROB_SOL = SOL_prob(SOL_slider.value)\n",
    "print(PROB_SOL)\n",
    "PROB_TWY = TWY_prob(TWY_toggle.value)\n",
    "print(PROB_TWY)\n",
    "\n",
    "form = Box(form_items, layout=Layout(\n",
    "    display='flex',\n",
    "    flex_flow='column',\n",
    "    border='solid 2px',\n",
    "    align_items='stretch',\n",
    "    width=''\n",
    "))\n",
    "form\n",
    "\n"
   ]
  },
  {
   "cell_type": "code",
   "execution_count": null,
   "metadata": {},
   "outputs": [],
   "source": []
  }
 ],
 "metadata": {
  "kernelspec": {
   "name": "python385jvsc74a57bd0c36c01fa1ab5aefb8d209c2e3d4347cfec383d454c43e2ba9ed4499078094772",
   "display_name": "Python 3.8.5 64-bit ('base': conda)"
  },
  "language_info": {
   "codemirror_mode": {
    "name": "ipython",
    "version": 3
   },
   "file_extension": ".py",
   "mimetype": "text/x-python",
   "name": "python",
   "nbconvert_exporter": "python",
   "pygments_lexer": "ipython3",
   "version": "3.8.5"
  }
 },
 "nbformat": 4,
 "nbformat_minor": 5
}