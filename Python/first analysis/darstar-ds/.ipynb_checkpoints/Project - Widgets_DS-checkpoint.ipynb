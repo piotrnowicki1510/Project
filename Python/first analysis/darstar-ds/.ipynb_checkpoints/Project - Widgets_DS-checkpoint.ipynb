{
 "cells": [
  {
   "cell_type": "code",
   "execution_count": 1,
   "metadata": {},
   "outputs": [],
   "source": [
    "import pandas as pd\n",
    "import matplotlib.pyplot as plt\n",
    "import seaborn as sns\n",
    "import ipywidgets as widgets"
   ]
  },
  {
   "cell_type": "code",
   "execution_count": 2,
   "metadata": {},
   "outputs": [],
   "source": [
    "#zaimportowanie pliku z danymi\n",
    "df = pd.read_csv(\"../WA_Fn-UseC_-HR-Employee-Attrition.csv\") \n",
    "#df"
   ]
  },
  {
   "cell_type": "code",
   "execution_count": 3,
   "metadata": {},
   "outputs": [
    {
     "data": {
      "text/html": [
       "<div>\n",
       "<style scoped>\n",
       "    .dataframe tbody tr th:only-of-type {\n",
       "        vertical-align: middle;\n",
       "    }\n",
       "\n",
       "    .dataframe tbody tr th {\n",
       "        vertical-align: top;\n",
       "    }\n",
       "\n",
       "    .dataframe thead th {\n",
       "        text-align: right;\n",
       "    }\n",
       "</style>\n",
       "<table border=\"1\" class=\"dataframe\">\n",
       "  <thead>\n",
       "    <tr style=\"text-align: right;\">\n",
       "      <th></th>\n",
       "      <th>Attrition</th>\n",
       "      <th>TrainingTimesLastYear</th>\n",
       "      <th>TotalWorkingYears</th>\n",
       "      <th>YearsAtCompany</th>\n",
       "      <th>YearsInCurrentRole</th>\n",
       "      <th>YearsSinceLastPromotion</th>\n",
       "      <th>YearsWithCurrManager</th>\n",
       "      <th>StockOptionLevel</th>\n",
       "    </tr>\n",
       "  </thead>\n",
       "  <tbody>\n",
       "    <tr>\n",
       "      <th>0</th>\n",
       "      <td>Yes</td>\n",
       "      <td>0</td>\n",
       "      <td>8</td>\n",
       "      <td>6</td>\n",
       "      <td>4</td>\n",
       "      <td>0</td>\n",
       "      <td>5</td>\n",
       "      <td>0</td>\n",
       "    </tr>\n",
       "    <tr>\n",
       "      <th>1</th>\n",
       "      <td>No</td>\n",
       "      <td>3</td>\n",
       "      <td>10</td>\n",
       "      <td>10</td>\n",
       "      <td>7</td>\n",
       "      <td>1</td>\n",
       "      <td>7</td>\n",
       "      <td>1</td>\n",
       "    </tr>\n",
       "    <tr>\n",
       "      <th>2</th>\n",
       "      <td>Yes</td>\n",
       "      <td>3</td>\n",
       "      <td>7</td>\n",
       "      <td>0</td>\n",
       "      <td>0</td>\n",
       "      <td>0</td>\n",
       "      <td>0</td>\n",
       "      <td>0</td>\n",
       "    </tr>\n",
       "    <tr>\n",
       "      <th>3</th>\n",
       "      <td>No</td>\n",
       "      <td>3</td>\n",
       "      <td>8</td>\n",
       "      <td>8</td>\n",
       "      <td>7</td>\n",
       "      <td>3</td>\n",
       "      <td>0</td>\n",
       "      <td>0</td>\n",
       "    </tr>\n",
       "    <tr>\n",
       "      <th>4</th>\n",
       "      <td>No</td>\n",
       "      <td>3</td>\n",
       "      <td>6</td>\n",
       "      <td>2</td>\n",
       "      <td>2</td>\n",
       "      <td>2</td>\n",
       "      <td>2</td>\n",
       "      <td>1</td>\n",
       "    </tr>\n",
       "    <tr>\n",
       "      <th>...</th>\n",
       "      <td>...</td>\n",
       "      <td>...</td>\n",
       "      <td>...</td>\n",
       "      <td>...</td>\n",
       "      <td>...</td>\n",
       "      <td>...</td>\n",
       "      <td>...</td>\n",
       "      <td>...</td>\n",
       "    </tr>\n",
       "    <tr>\n",
       "      <th>1465</th>\n",
       "      <td>No</td>\n",
       "      <td>3</td>\n",
       "      <td>17</td>\n",
       "      <td>5</td>\n",
       "      <td>2</td>\n",
       "      <td>0</td>\n",
       "      <td>3</td>\n",
       "      <td>1</td>\n",
       "    </tr>\n",
       "    <tr>\n",
       "      <th>1466</th>\n",
       "      <td>No</td>\n",
       "      <td>5</td>\n",
       "      <td>9</td>\n",
       "      <td>7</td>\n",
       "      <td>7</td>\n",
       "      <td>1</td>\n",
       "      <td>7</td>\n",
       "      <td>1</td>\n",
       "    </tr>\n",
       "    <tr>\n",
       "      <th>1467</th>\n",
       "      <td>No</td>\n",
       "      <td>0</td>\n",
       "      <td>6</td>\n",
       "      <td>6</td>\n",
       "      <td>2</td>\n",
       "      <td>0</td>\n",
       "      <td>3</td>\n",
       "      <td>1</td>\n",
       "    </tr>\n",
       "    <tr>\n",
       "      <th>1468</th>\n",
       "      <td>No</td>\n",
       "      <td>3</td>\n",
       "      <td>17</td>\n",
       "      <td>9</td>\n",
       "      <td>6</td>\n",
       "      <td>0</td>\n",
       "      <td>8</td>\n",
       "      <td>0</td>\n",
       "    </tr>\n",
       "    <tr>\n",
       "      <th>1469</th>\n",
       "      <td>No</td>\n",
       "      <td>3</td>\n",
       "      <td>6</td>\n",
       "      <td>4</td>\n",
       "      <td>3</td>\n",
       "      <td>1</td>\n",
       "      <td>2</td>\n",
       "      <td>0</td>\n",
       "    </tr>\n",
       "  </tbody>\n",
       "</table>\n",
       "<p>1470 rows × 8 columns</p>\n",
       "</div>"
      ],
      "text/plain": [
       "     Attrition  TrainingTimesLastYear  TotalWorkingYears  YearsAtCompany  \\\n",
       "0          Yes                      0                  8               6   \n",
       "1           No                      3                 10              10   \n",
       "2          Yes                      3                  7               0   \n",
       "3           No                      3                  8               8   \n",
       "4           No                      3                  6               2   \n",
       "...        ...                    ...                ...             ...   \n",
       "1465        No                      3                 17               5   \n",
       "1466        No                      5                  9               7   \n",
       "1467        No                      0                  6               6   \n",
       "1468        No                      3                 17               9   \n",
       "1469        No                      3                  6               4   \n",
       "\n",
       "      YearsInCurrentRole  YearsSinceLastPromotion  YearsWithCurrManager  \\\n",
       "0                      4                        0                     5   \n",
       "1                      7                        1                     7   \n",
       "2                      0                        0                     0   \n",
       "3                      7                        3                     0   \n",
       "4                      2                        2                     2   \n",
       "...                  ...                      ...                   ...   \n",
       "1465                   2                        0                     3   \n",
       "1466                   7                        1                     7   \n",
       "1467                   2                        0                     3   \n",
       "1468                   6                        0                     8   \n",
       "1469                   3                        1                     2   \n",
       "\n",
       "      StockOptionLevel  \n",
       "0                    0  \n",
       "1                    1  \n",
       "2                    0  \n",
       "3                    0  \n",
       "4                    1  \n",
       "...                ...  \n",
       "1465                 1  \n",
       "1466                 1  \n",
       "1467                 1  \n",
       "1468                 0  \n",
       "1469                 0  \n",
       "\n",
       "[1470 rows x 8 columns]"
      ]
     },
     "execution_count": 3,
     "metadata": {},
     "output_type": "execute_result"
    }
   ],
   "source": [
    "# wybranie przydzielonych kolumn + Attrition\n",
    "df_ds = df[[\"Attrition\", \"TrainingTimesLastYear\", \"TotalWorkingYears\",\n",
    "       \"YearsAtCompany\", \"YearsInCurrentRole\", \"YearsSinceLastPromotion\",\n",
    "       \"YearsWithCurrManager\", \"StockOptionLevel\"]] \n",
    "df_ds"
   ]
  },
  {
   "cell_type": "markdown",
   "metadata": {},
   "source": [
    "# TrainingTimesLastYear vs. Attrition #"
   ]
  },
  {
   "cell_type": "code",
   "execution_count": 4,
   "metadata": {},
   "outputs": [
    {
     "data": {
      "text/html": [
       "<div>\n",
       "<style scoped>\n",
       "    .dataframe tbody tr th:only-of-type {\n",
       "        vertical-align: middle;\n",
       "    }\n",
       "\n",
       "    .dataframe tbody tr th {\n",
       "        vertical-align: top;\n",
       "    }\n",
       "\n",
       "    .dataframe thead th {\n",
       "        text-align: right;\n",
       "    }\n",
       "</style>\n",
       "<table border=\"1\" class=\"dataframe\">\n",
       "  <thead>\n",
       "    <tr style=\"text-align: right;\">\n",
       "      <th>TrainingTimesLastYear</th>\n",
       "      <th>0</th>\n",
       "      <th>1</th>\n",
       "      <th>2</th>\n",
       "      <th>3</th>\n",
       "      <th>4</th>\n",
       "      <th>5</th>\n",
       "      <th>6</th>\n",
       "    </tr>\n",
       "    <tr>\n",
       "      <th>Attrition</th>\n",
       "      <th></th>\n",
       "      <th></th>\n",
       "      <th></th>\n",
       "      <th></th>\n",
       "      <th></th>\n",
       "      <th></th>\n",
       "      <th></th>\n",
       "    </tr>\n",
       "  </thead>\n",
       "  <tbody>\n",
       "    <tr>\n",
       "      <th>No</th>\n",
       "      <td>39</td>\n",
       "      <td>62</td>\n",
       "      <td>449</td>\n",
       "      <td>422</td>\n",
       "      <td>97</td>\n",
       "      <td>105</td>\n",
       "      <td>59</td>\n",
       "    </tr>\n",
       "    <tr>\n",
       "      <th>Yes</th>\n",
       "      <td>15</td>\n",
       "      <td>9</td>\n",
       "      <td>98</td>\n",
       "      <td>69</td>\n",
       "      <td>26</td>\n",
       "      <td>14</td>\n",
       "      <td>6</td>\n",
       "    </tr>\n",
       "  </tbody>\n",
       "</table>\n",
       "</div>"
      ],
      "text/plain": [
       "TrainingTimesLastYear   0   1    2    3   4    5   6\n",
       "Attrition                                           \n",
       "No                     39  62  449  422  97  105  59\n",
       "Yes                    15   9   98   69  26   14   6"
      ]
     },
     "execution_count": 4,
     "metadata": {},
     "output_type": "execute_result"
    }
   ],
   "source": [
    "# Tabela przestawna dla liczby szkoleń w ostatnim roku\n",
    "TTLY = pd.crosstab(df_ds[\"Attrition\"], df_ds[\"TrainingTimesLastYear\"]) \n",
    "TTLY"
   ]
  },
  {
   "cell_type": "code",
   "execution_count": 5,
   "metadata": {},
   "outputs": [],
   "source": [
    "# Number of employees that left a company vs. the number of trainings in the last year\n",
    "# Create a copy of dataframe with Attrition=Yes\n",
    "df_ds_TTLY_YES = df_ds[df_ds[\"Attrition\"]==\"Yes\"].copy()\n",
    "# Count the employees that left the company\n",
    "df_ds_TTLY_YES_only = df_ds_TTLY_YES.groupby(by=\"TrainingTimesLastYear\").count() [\"Attrition\"].reset_index()\n",
    "# Change the name of column Attrition -> Atttrition_YES\n",
    "df_ds_TTLY_YES_only = df_ds_TTLY_YES_only.rename(columns = {\"Attrition\":\"Attrition_YES\"})\n",
    "# df_ds_TTLY_YES_only"
   ]
  },
  {
   "cell_type": "code",
   "execution_count": 6,
   "metadata": {},
   "outputs": [],
   "source": [
    "# Number of employees that stayed in a company vs. the number of trainings in the last year\n",
    "# Create a copy of dataframe with Attrition=No\n",
    "df_ds_TTLY_NO = df_ds[df_ds[\"Attrition\"]==\"No\"].copy()\n",
    "# Count the employees that stayed in a company\n",
    "df_ds_TTLY_NO_only = df_ds_TTLY_NO.groupby(by=\"TrainingTimesLastYear\").count() [\"Attrition\"].reset_index()\n",
    "# Change the name of column Attrition -> Atttrition_NO\n",
    "df_ds_TTLY_NO_only = df_ds_TTLY_NO_only.rename(columns = {\"Attrition\":\"Attrition_NO\"})\n",
    "# df_ds_TTLY_NO_only"
   ]
  },
  {
   "cell_type": "code",
   "execution_count": 7,
   "metadata": {},
   "outputs": [
    {
     "name": "stdout",
     "output_type": "stream",
     "text": [
      "   TrainingTimesLastYear  Attrition_YES  Attrition_NO  Yes+No  Probability_YES\n",
      "0                      0             15            39      54         0.277778\n",
      "1                      1              9            62      71         0.126761\n",
      "2                      2             98           449     547         0.179159\n",
      "3                      3             69           422     491         0.140530\n",
      "4                      4             26            97     123         0.211382\n",
      "5                      5             14           105     119         0.117647\n",
      "6                      6              6            59      65         0.092308\n"
     ]
    }
   ],
   "source": [
    "# Merge tables with trainings and attrition both YES and NO\n",
    "df_ds_TTLY_Y_N = pd.merge(df_ds_TTLY_YES_only, df_ds_TTLY_NO_only, on=\"TrainingTimesLastYear\", how=\"left\")\n",
    "# Reset index\n",
    "df_ds_TTLY_Y_N.reset_index()\n",
    "# Add a column with total number of employees\n",
    "df_ds_TTLY_Y_N[\"Yes+No\"] = df_ds_TTLY_Y_N[\"Attrition_YES\"] + df_ds_TTLY_Y_N[\"Attrition_NO\"]\n",
    "# Add a column with probability of leaving a company\n",
    "df_ds_TTLY_Y_N[\"Probability_YES\"] = df_ds_TTLY_Y_N[\"Attrition_YES\"]/df_ds_TTLY_Y_N[\"Yes+No\"]\n",
    "print(df_ds_TTLY_Y_N)"
   ]
  },
  {
   "cell_type": "code",
   "execution_count": 8,
   "metadata": {},
   "outputs": [
    {
     "data": {
      "application/vnd.jupyter.widget-view+json": {
       "model_id": "cae6a2c83cdd4d37a95e080e8ff66452",
       "version_major": 2,
       "version_minor": 0
      },
      "text/plain": [
       "HBox(children=(Label(value='Liczba szkoleń w ostatnim roku:'), IntSlider(value=0, continuous_update=False, max…"
      ]
     },
     "metadata": {},
     "output_type": "display_data"
    }
   ],
   "source": [
    "# Characteristics of slider for number of trainings in the last year\n",
    "\n",
    "from IPython.display import display\n",
    "from ipywidgets import HBox, Label\n",
    "\n",
    "TTLY_slider = widgets.IntSlider(\n",
    "    value=0,\n",
    "    min=0,\n",
    "    max=6,\n",
    "    step=1,\n",
    "    description='',\n",
    "    disabled=False,\n",
    "    continuous_update=False,\n",
    "    orientation='horizontal',\n",
    "    readout=True,\n",
    "    readout_format='d'\n",
    ")\n",
    "\n",
    "# display(TTLY_slider)\n",
    "HBox([Label('Liczba szkoleń w ostatnim roku:'), TTLY_slider])"
   ]
  },
  {
   "cell_type": "code",
   "execution_count": 9,
   "metadata": {},
   "outputs": [
    {
     "data": {
      "application/vnd.jupyter.widget-view+json": {
       "model_id": "6cacbf16b70c4f4c9fb9ad0fe79ccc41",
       "version_major": 2,
       "version_minor": 0
      },
      "text/plain": [
       "interactive(children=(IntSlider(value=0, continuous_update=False, description='v', max=6), Output()), _dom_cla…"
      ]
     },
     "metadata": {},
     "output_type": "display_data"
    },
    {
     "data": {
      "text/plain": [
       "<function __main__.value_handler(v)>"
      ]
     },
     "execution_count": 9,
     "metadata": {},
     "output_type": "execute_result"
    }
   ],
   "source": [
    "# Slider connected with value_handler function returning probability\n",
    "def value_handler(v):\n",
    "    TrainNo = TTLY_slider.value\n",
    "    Attr_Y_prob = df_ds_TTLY_Y_N.loc[df_ds_TTLY_Y_N[\"TrainingTimesLastYear\"]==TrainNo, \"Probability_YES\"]\n",
    "    print(\"Prawdopodobieństwo odejścia z firmy wynosi: {}\".format(Attr_Y_prob[TrainNo]))\n",
    "\n",
    "\n",
    "widgets.interact(value_handler, v=TTLY_slider)"
   ]
  },
  {
   "cell_type": "markdown",
   "metadata": {},
   "source": [
    "# YearsAtCompany vs. Attrition #"
   ]
  },
  {
   "cell_type": "code",
   "execution_count": 10,
   "metadata": {},
   "outputs": [
    {
     "data": {
      "text/html": [
       "<div>\n",
       "<style scoped>\n",
       "    .dataframe tbody tr th:only-of-type {\n",
       "        vertical-align: middle;\n",
       "    }\n",
       "\n",
       "    .dataframe tbody tr th {\n",
       "        vertical-align: top;\n",
       "    }\n",
       "\n",
       "    .dataframe thead th {\n",
       "        text-align: right;\n",
       "    }\n",
       "</style>\n",
       "<table border=\"1\" class=\"dataframe\">\n",
       "  <thead>\n",
       "    <tr style=\"text-align: right;\">\n",
       "      <th>YearsAtCompany</th>\n",
       "      <th>0</th>\n",
       "      <th>1</th>\n",
       "      <th>2</th>\n",
       "      <th>3</th>\n",
       "      <th>4</th>\n",
       "      <th>5</th>\n",
       "      <th>6</th>\n",
       "      <th>7</th>\n",
       "      <th>8</th>\n",
       "      <th>9</th>\n",
       "      <th>...</th>\n",
       "      <th>27</th>\n",
       "      <th>29</th>\n",
       "      <th>30</th>\n",
       "      <th>31</th>\n",
       "      <th>32</th>\n",
       "      <th>33</th>\n",
       "      <th>34</th>\n",
       "      <th>36</th>\n",
       "      <th>37</th>\n",
       "      <th>40</th>\n",
       "    </tr>\n",
       "    <tr>\n",
       "      <th>Attrition</th>\n",
       "      <th></th>\n",
       "      <th></th>\n",
       "      <th></th>\n",
       "      <th></th>\n",
       "      <th></th>\n",
       "      <th></th>\n",
       "      <th></th>\n",
       "      <th></th>\n",
       "      <th></th>\n",
       "      <th></th>\n",
       "      <th></th>\n",
       "      <th></th>\n",
       "      <th></th>\n",
       "      <th></th>\n",
       "      <th></th>\n",
       "      <th></th>\n",
       "      <th></th>\n",
       "      <th></th>\n",
       "      <th></th>\n",
       "      <th></th>\n",
       "      <th></th>\n",
       "    </tr>\n",
       "  </thead>\n",
       "  <tbody>\n",
       "    <tr>\n",
       "      <th>No</th>\n",
       "      <td>28</td>\n",
       "      <td>112</td>\n",
       "      <td>100</td>\n",
       "      <td>108</td>\n",
       "      <td>91</td>\n",
       "      <td>175</td>\n",
       "      <td>67</td>\n",
       "      <td>79</td>\n",
       "      <td>71</td>\n",
       "      <td>74</td>\n",
       "      <td>...</td>\n",
       "      <td>2</td>\n",
       "      <td>2</td>\n",
       "      <td>1</td>\n",
       "      <td>2</td>\n",
       "      <td>2</td>\n",
       "      <td>4</td>\n",
       "      <td>1</td>\n",
       "      <td>2</td>\n",
       "      <td>1</td>\n",
       "      <td>0</td>\n",
       "    </tr>\n",
       "    <tr>\n",
       "      <th>Yes</th>\n",
       "      <td>16</td>\n",
       "      <td>59</td>\n",
       "      <td>27</td>\n",
       "      <td>20</td>\n",
       "      <td>19</td>\n",
       "      <td>21</td>\n",
       "      <td>9</td>\n",
       "      <td>11</td>\n",
       "      <td>9</td>\n",
       "      <td>8</td>\n",
       "      <td>...</td>\n",
       "      <td>0</td>\n",
       "      <td>0</td>\n",
       "      <td>0</td>\n",
       "      <td>1</td>\n",
       "      <td>1</td>\n",
       "      <td>1</td>\n",
       "      <td>0</td>\n",
       "      <td>0</td>\n",
       "      <td>0</td>\n",
       "      <td>1</td>\n",
       "    </tr>\n",
       "  </tbody>\n",
       "</table>\n",
       "<p>2 rows × 37 columns</p>\n",
       "</div>"
      ],
      "text/plain": [
       "YearsAtCompany  0    1    2    3   4    5   6   7   8   9   ...  27  29  30  \\\n",
       "Attrition                                                   ...               \n",
       "No              28  112  100  108  91  175  67  79  71  74  ...   2   2   1   \n",
       "Yes             16   59   27   20  19   21   9  11   9   8  ...   0   0   0   \n",
       "\n",
       "YearsAtCompany  31  32  33  34  36  37  40  \n",
       "Attrition                                   \n",
       "No               2   2   4   1   2   1   0  \n",
       "Yes              1   1   1   0   0   0   1  \n",
       "\n",
       "[2 rows x 37 columns]"
      ]
     },
     "execution_count": 10,
     "metadata": {},
     "output_type": "execute_result"
    }
   ],
   "source": [
    "YAC = pd.crosstab(df_ds[\"Attrition\"], df_ds[\"YearsAtCompany\"]) # Tabela przestawna dla lat przepracowanych w firmie\n",
    "YAC"
   ]
  },
  {
   "cell_type": "code",
   "execution_count": 11,
   "metadata": {},
   "outputs": [
    {
     "data": {
      "text/plain": [
       "40"
      ]
     },
     "execution_count": 11,
     "metadata": {},
     "output_type": "execute_result"
    }
   ],
   "source": [
    "df_ds[\"YearsAtCompany\"].max()"
   ]
  },
  {
   "cell_type": "code",
   "execution_count": 12,
   "metadata": {},
   "outputs": [
    {
     "name": "stdout",
     "output_type": "stream",
     "text": [
      "YearsAtCompany  Attrition\n",
      "0               No            28\n",
      "                Yes           16\n",
      "1               No           112\n",
      "                Yes           59\n",
      "2               No           100\n",
      "                            ... \n",
      "33              Yes            1\n",
      "34              No             1\n",
      "36              No             2\n",
      "37              No             1\n",
      "40              Yes            1\n",
      "Name: StockOptionLevel, Length: 64, dtype: int64\n"
     ]
    }
   ],
   "source": [
    "print(df_ds.groupby(by=[\"YearsAtCompany\", \"Attrition\"]).count()[\"StockOptionLevel\"])"
   ]
  },
  {
   "cell_type": "code",
   "execution_count": 13,
   "metadata": {},
   "outputs": [
    {
     "data": {
      "text/plain": [
       "(-1, 3]     122\n",
       "(3, 7]       60\n",
       "(7, 10]      35\n",
       "(10, 30]     16\n",
       "Name: YearsAtCompany_bins, dtype: int64"
      ]
     },
     "execution_count": 13,
     "metadata": {},
     "output_type": "execute_result"
    }
   ],
   "source": [
    "# Create copy of df_ds with Attrition and YearsAtCompany only\n",
    "df_ds_YAC_YES = df_ds.loc[df_ds[\"Attrition\"]==\"Yes\", [\"Attrition\", \"YearsAtCompany\"]].copy()\n",
    "# Gather data in bins to avoid empty values\n",
    "df_ds_YAC_YES[\"YearsAtCompany_bins\"] = pd.cut(df_ds_YAC_YES[\"YearsAtCompany\"], bins=[-1,3,7,10,30])\n",
    "df_ds_YAC_YES[\"YearsAtCompany_bins\"].value_counts()"
   ]
  },
  {
   "cell_type": "code",
   "execution_count": 14,
   "metadata": {},
   "outputs": [],
   "source": [
    "# Number of employees that left a company vs. the number of years worked in a company\n",
    "# Create a copy of dataframe with Attrition=Yes\n",
    "df_ds_YAC_YES = df_ds[df_ds[\"Attrition\"]==\"Yes\"].copy()\n",
    "df_ds_YAC_YES[\"YearsAtCompany_bins\"] = pd.cut(df_ds_YAC_YES[\"YearsAtCompany\"], bins=[-1,3,7,10,30])\n",
    "# Count the employees that left the company\n",
    "df_ds_YAC_YES_only = df_ds_YAC_YES.groupby(by=\"YearsAtCompany_bins\").count() [\"Attrition\"].reset_index()\n",
    "# Change the name of column Attrition -> Atttrition_YES\n",
    "df_ds_YAC_YES_only = df_ds_YAC_YES_only.rename(columns = {\"Attrition\":\"Attrition_YES\"})\n",
    "# df_ds_YAC_YES_only"
   ]
  },
  {
   "cell_type": "code",
   "execution_count": 15,
   "metadata": {},
   "outputs": [],
   "source": [
    "# Number of employees that stayed in a company vs. the number of years worked in a company\n",
    "# Create a copy of dataframe with Attrition=No\n",
    "df_ds_YAC_NO = df_ds[df_ds[\"Attrition\"]==\"No\"].copy()\n",
    "df_ds_YAC_NO[\"YearsAtCompany_bins\"] = pd.cut(df_ds_YAC_NO[\"YearsAtCompany\"], bins=[-1,3,7,10,30])\n",
    "# Count the employees that stayed in a company\n",
    "df_ds_YAC_NO_only = df_ds_YAC_NO.groupby(by=\"YearsAtCompany_bins\").count() [\"Attrition\"].reset_index()\n",
    "# Change the name of column Attrition -> Atttrition_NO\n",
    "df_ds_YAC_NO_only = df_ds_YAC_NO_only.rename(columns = {\"Attrition\":\"Attrition_NO\"})\n",
    "# df_ds_YAC_NO_only"
   ]
  },
  {
   "cell_type": "code",
   "execution_count": 16,
   "metadata": {},
   "outputs": [
    {
     "data": {
      "text/html": [
       "<div>\n",
       "<style scoped>\n",
       "    .dataframe tbody tr th:only-of-type {\n",
       "        vertical-align: middle;\n",
       "    }\n",
       "\n",
       "    .dataframe tbody tr th {\n",
       "        vertical-align: top;\n",
       "    }\n",
       "\n",
       "    .dataframe thead th {\n",
       "        text-align: right;\n",
       "    }\n",
       "</style>\n",
       "<table border=\"1\" class=\"dataframe\">\n",
       "  <thead>\n",
       "    <tr style=\"text-align: right;\">\n",
       "      <th></th>\n",
       "      <th>YearsAtCompany_bins</th>\n",
       "      <th>Attrition_YES</th>\n",
       "      <th>Attrition_NO</th>\n",
       "      <th>Yes+No</th>\n",
       "      <th>Probability_YES</th>\n",
       "    </tr>\n",
       "  </thead>\n",
       "  <tbody>\n",
       "    <tr>\n",
       "      <th>0</th>\n",
       "      <td>(-1, 3]</td>\n",
       "      <td>122</td>\n",
       "      <td>348</td>\n",
       "      <td>470</td>\n",
       "      <td>0.259574</td>\n",
       "    </tr>\n",
       "    <tr>\n",
       "      <th>1</th>\n",
       "      <td>(3, 7]</td>\n",
       "      <td>60</td>\n",
       "      <td>412</td>\n",
       "      <td>472</td>\n",
       "      <td>0.127119</td>\n",
       "    </tr>\n",
       "    <tr>\n",
       "      <th>2</th>\n",
       "      <td>(7, 10]</td>\n",
       "      <td>35</td>\n",
       "      <td>247</td>\n",
       "      <td>282</td>\n",
       "      <td>0.124113</td>\n",
       "    </tr>\n",
       "    <tr>\n",
       "      <th>3</th>\n",
       "      <td>(10, 30]</td>\n",
       "      <td>16</td>\n",
       "      <td>214</td>\n",
       "      <td>230</td>\n",
       "      <td>0.069565</td>\n",
       "    </tr>\n",
       "  </tbody>\n",
       "</table>\n",
       "</div>"
      ],
      "text/plain": [
       "  YearsAtCompany_bins  Attrition_YES  Attrition_NO  Yes+No  Probability_YES\n",
       "0             (-1, 3]            122           348     470         0.259574\n",
       "1              (3, 7]             60           412     472         0.127119\n",
       "2             (7, 10]             35           247     282         0.124113\n",
       "3            (10, 30]             16           214     230         0.069565"
      ]
     },
     "execution_count": 16,
     "metadata": {},
     "output_type": "execute_result"
    }
   ],
   "source": [
    "# Merge tables with trainings and attrition both YES and NO\n",
    "df_ds_YAC_Y_N = pd.merge(df_ds_YAC_YES_only, df_ds_YAC_NO_only, on=\"YearsAtCompany_bins\", how=\"left\")\n",
    "# Reset index\n",
    "df_ds_YAC_Y_N.reset_index()\n",
    "# Add a column with total number of employees\n",
    "df_ds_YAC_Y_N[\"Yes+No\"] = df_ds_YAC_Y_N[\"Attrition_YES\"] + df_ds_YAC_Y_N[\"Attrition_NO\"]\n",
    "# Add a column with probability of leaving a company\n",
    "df_ds_YAC_Y_N[\"Probability_YES\"] = df_ds_YAC_Y_N[\"Attrition_YES\"]/df_ds_YAC_Y_N[\"Yes+No\"]\n",
    "df_ds_YAC_Y_N"
   ]
  },
  {
   "cell_type": "code",
   "execution_count": 17,
   "metadata": {},
   "outputs": [
    {
     "data": {
      "application/vnd.jupyter.widget-view+json": {
       "model_id": "e614ac3f3f394981b64ad3e596845030",
       "version_major": 2,
       "version_minor": 0
      },
      "text/plain": [
       "HBox(children=(Label(value='Liczba lat przepracowanych w firmie:'), ToggleButtons(options=('(0-3>', '(3-7>', '…"
      ]
     },
     "metadata": {},
     "output_type": "display_data"
    }
   ],
   "source": [
    "# Characteristics of slider for the number of years worked in a company\n",
    "from IPython.display import display\n",
    "from ipywidgets import HBox, Label\n",
    "\n",
    "YAC_toggle = widgets.ToggleButtons(\n",
    "    options=['(0-3>', '(3-7>', '(7-10>', '(10-30)'],\n",
    "    description='',\n",
    "    disabled=False,\n",
    "    button_style=''\n",
    ")\n",
    "\n",
    "# display(YAC_slider)\n",
    "HBox([Label('Liczba lat przepracowanych w firmie:'), YAC_toggle])"
   ]
  },
  {
   "cell_type": "code",
   "execution_count": 18,
   "metadata": {},
   "outputs": [
    {
     "data": {
      "application/vnd.jupyter.widget-view+json": {
       "model_id": "a6113fb275b64d61986e6e8c06138df6",
       "version_major": 2,
       "version_minor": 0
      },
      "text/plain": [
       "interactive(children=(ToggleButtons(description='v', options=('(0-3>', '(3-7>', '(7-10>', '(10-30)'), value='(…"
      ]
     },
     "metadata": {},
     "output_type": "display_data"
    },
    {
     "data": {
      "text/plain": [
       "<function __main__.value_handler(v)>"
      ]
     },
     "execution_count": 18,
     "metadata": {},
     "output_type": "execute_result"
    }
   ],
   "source": [
    "# Nie mogłem się odwołać do tego pogrupowanego indexu, więc zamieniłem na wartości z indexu podstawowego\n",
    "def value_handler(v):\n",
    "    if YAC_toggle.value == \"(0-3>\":\n",
    "        CYearsNo = 0 #\"(-1, 3]\"\n",
    "    elif YAC_toggle.value == \"(3-7>\":\n",
    "        CYearsNo = 1 #\"(3, 7]\"\n",
    "    elif YAC_toggle.value == \"(7-10>\":\n",
    "        CYearsNo = 2 #\"(7, 10]\"\n",
    "    else:\n",
    "        CYearsNo = 3 #\"(10, 30]\"\n",
    "    \n",
    "    print(\"Prawdopodobieństwo odejścia z firmy wynosi: {}\".format(df_ds_YAC_Y_N.loc[int(CYearsNo), \"Probability_YES\"]))\n",
    "\n",
    "\n",
    "widgets.interact(value_handler, v=YAC_toggle)"
   ]
  },
  {
   "cell_type": "markdown",
   "metadata": {},
   "source": [
    "# YearsInCurrentRole vs. Attrition #"
   ]
  },
  {
   "cell_type": "code",
   "execution_count": 19,
   "metadata": {},
   "outputs": [
    {
     "data": {
      "text/html": [
       "<div>\n",
       "<style scoped>\n",
       "    .dataframe tbody tr th:only-of-type {\n",
       "        vertical-align: middle;\n",
       "    }\n",
       "\n",
       "    .dataframe tbody tr th {\n",
       "        vertical-align: top;\n",
       "    }\n",
       "\n",
       "    .dataframe thead th {\n",
       "        text-align: right;\n",
       "    }\n",
       "</style>\n",
       "<table border=\"1\" class=\"dataframe\">\n",
       "  <thead>\n",
       "    <tr style=\"text-align: right;\">\n",
       "      <th>YearsInCurrentRole</th>\n",
       "      <th>0</th>\n",
       "      <th>1</th>\n",
       "      <th>2</th>\n",
       "      <th>3</th>\n",
       "      <th>4</th>\n",
       "      <th>5</th>\n",
       "      <th>6</th>\n",
       "      <th>7</th>\n",
       "      <th>8</th>\n",
       "      <th>9</th>\n",
       "      <th>10</th>\n",
       "      <th>11</th>\n",
       "      <th>12</th>\n",
       "      <th>13</th>\n",
       "      <th>14</th>\n",
       "      <th>15</th>\n",
       "      <th>16</th>\n",
       "      <th>17</th>\n",
       "      <th>18</th>\n",
       "    </tr>\n",
       "    <tr>\n",
       "      <th>Attrition</th>\n",
       "      <th></th>\n",
       "      <th></th>\n",
       "      <th></th>\n",
       "      <th></th>\n",
       "      <th></th>\n",
       "      <th></th>\n",
       "      <th></th>\n",
       "      <th></th>\n",
       "      <th></th>\n",
       "      <th></th>\n",
       "      <th></th>\n",
       "      <th></th>\n",
       "      <th></th>\n",
       "      <th></th>\n",
       "      <th></th>\n",
       "      <th></th>\n",
       "      <th></th>\n",
       "      <th></th>\n",
       "      <th></th>\n",
       "    </tr>\n",
       "  </thead>\n",
       "  <tbody>\n",
       "    <tr>\n",
       "      <th>No</th>\n",
       "      <td>171</td>\n",
       "      <td>46</td>\n",
       "      <td>304</td>\n",
       "      <td>119</td>\n",
       "      <td>89</td>\n",
       "      <td>35</td>\n",
       "      <td>35</td>\n",
       "      <td>191</td>\n",
       "      <td>82</td>\n",
       "      <td>61</td>\n",
       "      <td>27</td>\n",
       "      <td>22</td>\n",
       "      <td>9</td>\n",
       "      <td>13</td>\n",
       "      <td>10</td>\n",
       "      <td>6</td>\n",
       "      <td>7</td>\n",
       "      <td>4</td>\n",
       "      <td>2</td>\n",
       "    </tr>\n",
       "    <tr>\n",
       "      <th>Yes</th>\n",
       "      <td>73</td>\n",
       "      <td>11</td>\n",
       "      <td>68</td>\n",
       "      <td>16</td>\n",
       "      <td>15</td>\n",
       "      <td>1</td>\n",
       "      <td>2</td>\n",
       "      <td>31</td>\n",
       "      <td>7</td>\n",
       "      <td>6</td>\n",
       "      <td>2</td>\n",
       "      <td>0</td>\n",
       "      <td>1</td>\n",
       "      <td>1</td>\n",
       "      <td>1</td>\n",
       "      <td>2</td>\n",
       "      <td>0</td>\n",
       "      <td>0</td>\n",
       "      <td>0</td>\n",
       "    </tr>\n",
       "  </tbody>\n",
       "</table>\n",
       "</div>"
      ],
      "text/plain": [
       "YearsInCurrentRole   0   1    2    3   4   5   6    7   8   9   10  11  12  \\\n",
       "Attrition                                                                    \n",
       "No                  171  46  304  119  89  35  35  191  82  61  27  22   9   \n",
       "Yes                  73  11   68   16  15   1   2   31   7   6   2   0   1   \n",
       "\n",
       "YearsInCurrentRole  13  14  15  16  17  18  \n",
       "Attrition                                   \n",
       "No                  13  10   6   7   4   2  \n",
       "Yes                  1   1   2   0   0   0  "
      ]
     },
     "execution_count": 19,
     "metadata": {},
     "output_type": "execute_result"
    }
   ],
   "source": [
    "YICR = pd.crosstab(df_ds[\"Attrition\"], df_ds[\"YearsInCurrentRole\"]) # Tabela przestawna dla lat przepracowanych na obecnym stanowisku\n",
    "YICR"
   ]
  },
  {
   "cell_type": "code",
   "execution_count": 20,
   "metadata": {},
   "outputs": [
    {
     "name": "stdout",
     "output_type": "stream",
     "text": [
      "YearsInCurrentRole  Attrition\n",
      "0                   No           171\n",
      "                    Yes           73\n",
      "1                   No            46\n",
      "                    Yes           11\n",
      "2                   No           304\n",
      "                    Yes           68\n",
      "3                   No           119\n",
      "                    Yes           16\n",
      "4                   No            89\n",
      "                    Yes           15\n",
      "5                   No            35\n",
      "                    Yes            1\n",
      "6                   No            35\n",
      "                    Yes            2\n",
      "7                   No           191\n",
      "                    Yes           31\n",
      "8                   No            82\n",
      "                    Yes            7\n",
      "9                   No            61\n",
      "                    Yes            6\n",
      "10                  No            27\n",
      "                    Yes            2\n",
      "11                  No            22\n",
      "12                  No             9\n",
      "                    Yes            1\n",
      "13                  No            13\n",
      "                    Yes            1\n",
      "14                  No            10\n",
      "                    Yes            1\n",
      "15                  No             6\n",
      "                    Yes            2\n",
      "16                  No             7\n",
      "17                  No             4\n",
      "18                  No             2\n",
      "Name: StockOptionLevel, dtype: int64\n"
     ]
    }
   ],
   "source": [
    "print(df_ds.groupby(by=[\"YearsInCurrentRole\", \"Attrition\"]).count()[\"StockOptionLevel\"])"
   ]
  },
  {
   "cell_type": "code",
   "execution_count": 21,
   "metadata": {},
   "outputs": [
    {
     "data": {
      "text/plain": [
       "(-1, 3]    168\n",
       "(3, 7]      49\n",
       "(7, 18]     20\n",
       "Name: YearsInCurrentRole_bins, dtype: int64"
      ]
     },
     "execution_count": 21,
     "metadata": {},
     "output_type": "execute_result"
    }
   ],
   "source": [
    "# Create copy of df_ds with Attrition and YearsInCurrentRole only\n",
    "df_ds_YICR_YES = df_ds.loc[df_ds[\"Attrition\"]==\"Yes\", [\"Attrition\", \"YearsInCurrentRole\"]].copy()\n",
    "# Gather data in bins to avoid empty values\n",
    "df_ds_YICR_YES[\"YearsInCurrentRole_bins\"] = pd.cut(df_ds_YICR_YES[\"YearsInCurrentRole\"], bins=[-1,3,7,18])\n",
    "df_ds_YICR_YES[\"YearsInCurrentRole_bins\"].value_counts()"
   ]
  },
  {
   "cell_type": "code",
   "execution_count": 22,
   "metadata": {},
   "outputs": [],
   "source": [
    "# Number of employees that left a company vs. the number of years worked at current position\n",
    "# Create a copy of dataframe with Attrition=Yes\n",
    "df_ds_YICR_YES = df_ds[df_ds[\"Attrition\"]==\"Yes\"].copy()\n",
    "df_ds_YICR_YES[\"YearsInCurrentRole_bins\"] = pd.cut(df_ds_YICR_YES[\"YearsInCurrentRole\"], bins=[-1,3,7,18])\n",
    "# Count the employees that left the company\n",
    "df_ds_YICR_YES_only = df_ds_YICR_YES.groupby(by=\"YearsInCurrentRole_bins\").count() [\"Attrition\"].reset_index()\n",
    "# Change the name of column Attrition -> Atttrition_YES\n",
    "df_ds_YICR_YES_only = df_ds_YICR_YES_only.rename(columns = {\"Attrition\":\"Attrition_YES\"})\n",
    "# df_ds_YAC_YES_only"
   ]
  },
  {
   "cell_type": "code",
   "execution_count": 23,
   "metadata": {},
   "outputs": [],
   "source": [
    "# Number of employees that stayed in a company vs. the number of years worked in a company\n",
    "# Create a copy of dataframe with Attrition=No\n",
    "df_ds_YICR_NO = df_ds[df_ds[\"Attrition\"]==\"No\"].copy()\n",
    "df_ds_YICR_NO[\"YearsInCurrentRole_bins\"] = pd.cut(df_ds_YICR_NO[\"YearsInCurrentRole\"], bins=[-1,3,7,18])\n",
    "# Count the employees that stayed in a company\n",
    "df_ds_YICR_NO_only = df_ds_YICR_NO.groupby(by=\"YearsInCurrentRole_bins\").count() [\"Attrition\"].reset_index()\n",
    "# Change the name of column Attrition -> Atttrition_NO\n",
    "df_ds_YICR_NO_only = df_ds_YICR_NO_only.rename(columns = {\"Attrition\":\"Attrition_NO\"})\n",
    "# df_ds_YAC_NO_only"
   ]
  },
  {
   "cell_type": "code",
   "execution_count": 24,
   "metadata": {},
   "outputs": [
    {
     "data": {
      "text/html": [
       "<div>\n",
       "<style scoped>\n",
       "    .dataframe tbody tr th:only-of-type {\n",
       "        vertical-align: middle;\n",
       "    }\n",
       "\n",
       "    .dataframe tbody tr th {\n",
       "        vertical-align: top;\n",
       "    }\n",
       "\n",
       "    .dataframe thead th {\n",
       "        text-align: right;\n",
       "    }\n",
       "</style>\n",
       "<table border=\"1\" class=\"dataframe\">\n",
       "  <thead>\n",
       "    <tr style=\"text-align: right;\">\n",
       "      <th></th>\n",
       "      <th>YearsInCurrentRole_bins</th>\n",
       "      <th>Attrition_YES</th>\n",
       "      <th>Attrition_NO</th>\n",
       "      <th>Yes+No</th>\n",
       "      <th>Probability_YES</th>\n",
       "    </tr>\n",
       "  </thead>\n",
       "  <tbody>\n",
       "    <tr>\n",
       "      <th>0</th>\n",
       "      <td>(-1, 3]</td>\n",
       "      <td>168</td>\n",
       "      <td>640</td>\n",
       "      <td>808</td>\n",
       "      <td>0.207921</td>\n",
       "    </tr>\n",
       "    <tr>\n",
       "      <th>1</th>\n",
       "      <td>(3, 7]</td>\n",
       "      <td>49</td>\n",
       "      <td>350</td>\n",
       "      <td>399</td>\n",
       "      <td>0.122807</td>\n",
       "    </tr>\n",
       "    <tr>\n",
       "      <th>2</th>\n",
       "      <td>(7, 18]</td>\n",
       "      <td>20</td>\n",
       "      <td>243</td>\n",
       "      <td>263</td>\n",
       "      <td>0.076046</td>\n",
       "    </tr>\n",
       "  </tbody>\n",
       "</table>\n",
       "</div>"
      ],
      "text/plain": [
       "  YearsInCurrentRole_bins  Attrition_YES  Attrition_NO  Yes+No  \\\n",
       "0                 (-1, 3]            168           640     808   \n",
       "1                  (3, 7]             49           350     399   \n",
       "2                 (7, 18]             20           243     263   \n",
       "\n",
       "   Probability_YES  \n",
       "0         0.207921  \n",
       "1         0.122807  \n",
       "2         0.076046  "
      ]
     },
     "execution_count": 24,
     "metadata": {},
     "output_type": "execute_result"
    }
   ],
   "source": [
    "# Merge tables with trainings and attrition both YES and NO\n",
    "df_ds_YICR_Y_N = pd.merge(df_ds_YICR_YES_only, df_ds_YICR_NO_only, on=\"YearsInCurrentRole_bins\", how=\"left\")\n",
    "# Reset index\n",
    "df_ds_YICR_Y_N.reset_index()\n",
    "# Add a column with total number of employees\n",
    "df_ds_YICR_Y_N[\"Yes+No\"] = df_ds_YICR_Y_N[\"Attrition_YES\"] + df_ds_YICR_Y_N[\"Attrition_NO\"]\n",
    "# Add a column with probability of leaving a company\n",
    "df_ds_YICR_Y_N[\"Probability_YES\"] = df_ds_YICR_Y_N[\"Attrition_YES\"]/df_ds_YICR_Y_N[\"Yes+No\"]\n",
    "df_ds_YICR_Y_N"
   ]
  },
  {
   "cell_type": "code",
   "execution_count": 25,
   "metadata": {},
   "outputs": [
    {
     "data": {
      "application/vnd.jupyter.widget-view+json": {
       "model_id": "a054e70644c146ac857f67777a6ffa60",
       "version_major": 2,
       "version_minor": 0
      },
      "text/plain": [
       "HBox(children=(Label(value='Liczba lat przepracowanych na obecnym stanowisku:'), ToggleButtons(options=('(0-3>…"
      ]
     },
     "metadata": {},
     "output_type": "display_data"
    }
   ],
   "source": [
    "# Characteristics of slider for the number of years worked at current position\n",
    "from IPython.display import display\n",
    "from ipywidgets import HBox, Label\n",
    "\n",
    "YICR_toggle = widgets.ToggleButtons(\n",
    "    options=['(0-3>', '(3-7>', '(7-18>'],\n",
    "    description='',\n",
    "    disabled=False,\n",
    "    button_style=''\n",
    ")\n",
    "\n",
    "# display(YICR_slider)\n",
    "HBox([Label('Liczba lat przepracowanych na obecnym stanowisku:'), YICR_toggle])"
   ]
  },
  {
   "cell_type": "code",
   "execution_count": 26,
   "metadata": {},
   "outputs": [
    {
     "data": {
      "application/vnd.jupyter.widget-view+json": {
       "model_id": "c68b9b3f4c80437b8b950d6f2ec87268",
       "version_major": 2,
       "version_minor": 0
      },
      "text/plain": [
       "interactive(children=(ToggleButtons(description='v', options=('(0-3>', '(3-7>', '(7-18>'), value='(0-3>'), Out…"
      ]
     },
     "metadata": {},
     "output_type": "display_data"
    },
    {
     "data": {
      "text/plain": [
       "<function __main__.value_handler(v)>"
      ]
     },
     "execution_count": 26,
     "metadata": {},
     "output_type": "execute_result"
    }
   ],
   "source": [
    "# Nie mogłem się odwołać do tego pogrupowanego indexu, więc zamieniłem na wartości z indexu podstawowego\n",
    "def value_handler(v):\n",
    "    if YICR_toggle.value == \"(0-3>\":\n",
    "        CYearsNo = 0 #\"(-1, 3]\"\n",
    "    elif YICR_toggle.value == \"(3-7>\":\n",
    "        CYearsNo = 1 #\"(3, 7]\"\n",
    "    else:\n",
    "        CYearsNo = 2 #\"(7, 18]\"\n",
    "    \n",
    "    print(\"Prawdopodobieństwo odejścia z firmy wynosi: {}\".format(df_ds_YICR_Y_N.loc[int(CYearsNo), \"Probability_YES\"]))\n",
    "\n",
    "\n",
    "widgets.interact(value_handler, v=YICR_toggle)"
   ]
  },
  {
   "cell_type": "markdown",
   "metadata": {},
   "source": [
    "# TotalWorkingYears vs. Attrition #"
   ]
  },
  {
   "cell_type": "code",
   "execution_count": 27,
   "metadata": {},
   "outputs": [
    {
     "data": {
      "text/html": [
       "<div>\n",
       "<style scoped>\n",
       "    .dataframe tbody tr th:only-of-type {\n",
       "        vertical-align: middle;\n",
       "    }\n",
       "\n",
       "    .dataframe tbody tr th {\n",
       "        vertical-align: top;\n",
       "    }\n",
       "\n",
       "    .dataframe thead th {\n",
       "        text-align: right;\n",
       "    }\n",
       "</style>\n",
       "<table border=\"1\" class=\"dataframe\">\n",
       "  <thead>\n",
       "    <tr style=\"text-align: right;\">\n",
       "      <th>TotalWorkingYears</th>\n",
       "      <th>0</th>\n",
       "      <th>1</th>\n",
       "      <th>2</th>\n",
       "      <th>3</th>\n",
       "      <th>4</th>\n",
       "      <th>5</th>\n",
       "      <th>6</th>\n",
       "      <th>7</th>\n",
       "      <th>8</th>\n",
       "      <th>9</th>\n",
       "      <th>...</th>\n",
       "      <th>30</th>\n",
       "      <th>31</th>\n",
       "      <th>32</th>\n",
       "      <th>33</th>\n",
       "      <th>34</th>\n",
       "      <th>35</th>\n",
       "      <th>36</th>\n",
       "      <th>37</th>\n",
       "      <th>38</th>\n",
       "      <th>40</th>\n",
       "    </tr>\n",
       "    <tr>\n",
       "      <th>Attrition</th>\n",
       "      <th></th>\n",
       "      <th></th>\n",
       "      <th></th>\n",
       "      <th></th>\n",
       "      <th></th>\n",
       "      <th></th>\n",
       "      <th></th>\n",
       "      <th></th>\n",
       "      <th></th>\n",
       "      <th></th>\n",
       "      <th></th>\n",
       "      <th></th>\n",
       "      <th></th>\n",
       "      <th></th>\n",
       "      <th></th>\n",
       "      <th></th>\n",
       "      <th></th>\n",
       "      <th></th>\n",
       "      <th></th>\n",
       "      <th></th>\n",
       "      <th></th>\n",
       "    </tr>\n",
       "  </thead>\n",
       "  <tbody>\n",
       "    <tr>\n",
       "      <th>No</th>\n",
       "      <td>6</td>\n",
       "      <td>41</td>\n",
       "      <td>22</td>\n",
       "      <td>33</td>\n",
       "      <td>51</td>\n",
       "      <td>72</td>\n",
       "      <td>103</td>\n",
       "      <td>63</td>\n",
       "      <td>87</td>\n",
       "      <td>86</td>\n",
       "      <td>...</td>\n",
       "      <td>7</td>\n",
       "      <td>8</td>\n",
       "      <td>9</td>\n",
       "      <td>6</td>\n",
       "      <td>4</td>\n",
       "      <td>3</td>\n",
       "      <td>6</td>\n",
       "      <td>4</td>\n",
       "      <td>1</td>\n",
       "      <td>0</td>\n",
       "    </tr>\n",
       "    <tr>\n",
       "      <th>Yes</th>\n",
       "      <td>5</td>\n",
       "      <td>40</td>\n",
       "      <td>9</td>\n",
       "      <td>9</td>\n",
       "      <td>12</td>\n",
       "      <td>16</td>\n",
       "      <td>22</td>\n",
       "      <td>18</td>\n",
       "      <td>16</td>\n",
       "      <td>10</td>\n",
       "      <td>...</td>\n",
       "      <td>0</td>\n",
       "      <td>1</td>\n",
       "      <td>0</td>\n",
       "      <td>1</td>\n",
       "      <td>1</td>\n",
       "      <td>0</td>\n",
       "      <td>0</td>\n",
       "      <td>0</td>\n",
       "      <td>0</td>\n",
       "      <td>2</td>\n",
       "    </tr>\n",
       "  </tbody>\n",
       "</table>\n",
       "<p>2 rows × 40 columns</p>\n",
       "</div>"
      ],
      "text/plain": [
       "TotalWorkingYears  0   1   2   3   4   5    6   7   8   9   ...  30  31  32  \\\n",
       "Attrition                                                   ...               \n",
       "No                  6  41  22  33  51  72  103  63  87  86  ...   7   8   9   \n",
       "Yes                 5  40   9   9  12  16   22  18  16  10  ...   0   1   0   \n",
       "\n",
       "TotalWorkingYears  33  34  35  36  37  38  40  \n",
       "Attrition                                      \n",
       "No                  6   4   3   6   4   1   0  \n",
       "Yes                 1   1   0   0   0   0   2  \n",
       "\n",
       "[2 rows x 40 columns]"
      ]
     },
     "execution_count": 27,
     "metadata": {},
     "output_type": "execute_result"
    }
   ],
   "source": [
    "TWY = pd.crosstab(df_ds[\"Attrition\"], df_ds[\"TotalWorkingYears\"]) # Tabela przestawna dla lat przepracowanych na obecnym stanowisku\n",
    "TWY"
   ]
  },
  {
   "cell_type": "code",
   "execution_count": 28,
   "metadata": {},
   "outputs": [
    {
     "name": "stdout",
     "output_type": "stream",
     "text": [
      "TotalWorkingYears  Attrition\n",
      "0                  No           6 \n",
      "                   Yes          5 \n",
      "1                  No           41\n",
      "                   Yes          40\n",
      "2                  No           22\n",
      "                                ..\n",
      "35                 No           3 \n",
      "36                 No           6 \n",
      "37                 No           4 \n",
      "38                 No           1 \n",
      "40                 Yes          2 \n",
      "Name: YearsAtCompany, Length: 71, dtype: int64\n"
     ]
    },
    {
     "name": "stderr",
     "output_type": "stream",
     "text": [
      "<ipython-input-28-8f4ed39b1095>:5: FutureWarning: Passing a negative integer is deprecated in version 1.0 and will not be supported in future version. Instead, use None to not limit the column width.\n",
      "  pd.set_option('display.max_colwidth', -1)\n"
     ]
    }
   ],
   "source": [
    "# Settings to display full dataframe date\n",
    "pd.set_option('display.max_rows', 50)\n",
    "pd.set_option('display.max_columns', 12)\n",
    "pd.set_option('display.width', None)\n",
    "pd.set_option('display.max_colwidth', -1)\n",
    "\n",
    "print(df_ds.groupby(by=[\"TotalWorkingYears\", \"Attrition\"]).count()[\"YearsAtCompany\"])"
   ]
  },
  {
   "cell_type": "code",
   "execution_count": 29,
   "metadata": {},
   "outputs": [
    {
     "data": {
      "text/plain": [
       "(3, 7]      68\n",
       "(7, 12]     63\n",
       "(-1, 3]     63\n",
       "(12, 20]    27\n",
       "(20, 40]    16\n",
       "Name: TotalWorkingYears_bins, dtype: int64"
      ]
     },
     "execution_count": 29,
     "metadata": {},
     "output_type": "execute_result"
    }
   ],
   "source": [
    "# Create copy of df_ds with Attrition and YearsInCurrentRole only\n",
    "df_ds_TWY_YES = df_ds.loc[df_ds[\"Attrition\"]==\"Yes\", [\"Attrition\", \"TotalWorkingYears\"]].copy()\n",
    "# Gather data in bins to avoid empty values\n",
    "df_ds_TWY_YES[\"TotalWorkingYears_bins\"] = pd.cut(df_ds_TWY_YES[\"TotalWorkingYears\"], bins=[-1,3,7,12,20,40])\n",
    "df_ds_TWY_YES[\"TotalWorkingYears_bins\"].value_counts()"
   ]
  },
  {
   "cell_type": "code",
   "execution_count": 30,
   "metadata": {},
   "outputs": [],
   "source": [
    "# Number of employees that left a company vs. the number of years worked at current position\n",
    "# Create a copy of dataframe with Attrition=Yes\n",
    "df_ds_TWY_YES = df_ds[df_ds[\"Attrition\"]==\"Yes\"].copy()\n",
    "df_ds_TWY_YES[\"TotalWorkingYears_bins\"] = pd.cut(df_ds_TWY_YES[\"TotalWorkingYears\"], bins=[-1,3,7,12,20,40])\n",
    "# Count the employees that left the company\n",
    "df_ds_TWY_YES_only = df_ds_TWY_YES.groupby(by=\"TotalWorkingYears_bins\").count() [\"Attrition\"].reset_index()\n",
    "# Change the name of column Attrition -> Atttrition_YES\n",
    "df_ds_TWY_YES_only = df_ds_TWY_YES_only.rename(columns = {\"Attrition\":\"Attrition_YES\"})\n",
    "# df_ds_YAC_YES_only"
   ]
  },
  {
   "cell_type": "code",
   "execution_count": 31,
   "metadata": {},
   "outputs": [],
   "source": [
    "# Number of employees that stayed in a company vs. the number of years worked in a company\n",
    "# Create a copy of dataframe with Attrition=No\n",
    "df_ds_TWY_NO = df_ds[df_ds[\"Attrition\"]==\"No\"].copy()\n",
    "df_ds_TWY_NO[\"TotalWorkingYears_bins\"] = pd.cut(df_ds_TWY_NO[\"TotalWorkingYears\"], bins=[-1,3,7,12,20,40])\n",
    "# Count the employees that stayed in a company\n",
    "df_ds_TWY_NO_only = df_ds_TWY_NO.groupby(by=\"TotalWorkingYears_bins\").count() [\"Attrition\"].reset_index()\n",
    "# Change the name of column Attrition -> Atttrition_NO\n",
    "df_ds_TWY_NO_only = df_ds_TWY_NO_only.rename(columns = {\"Attrition\":\"Attrition_NO\"})\n",
    "# df_ds_YAC_NO_only"
   ]
  },
  {
   "cell_type": "code",
   "execution_count": 32,
   "metadata": {},
   "outputs": [
    {
     "data": {
      "text/html": [
       "<div>\n",
       "<style scoped>\n",
       "    .dataframe tbody tr th:only-of-type {\n",
       "        vertical-align: middle;\n",
       "    }\n",
       "\n",
       "    .dataframe tbody tr th {\n",
       "        vertical-align: top;\n",
       "    }\n",
       "\n",
       "    .dataframe thead th {\n",
       "        text-align: right;\n",
       "    }\n",
       "</style>\n",
       "<table border=\"1\" class=\"dataframe\">\n",
       "  <thead>\n",
       "    <tr style=\"text-align: right;\">\n",
       "      <th></th>\n",
       "      <th>TotalWorkingYears_bins</th>\n",
       "      <th>Attrition_YES</th>\n",
       "      <th>Attrition_NO</th>\n",
       "      <th>Yes+No</th>\n",
       "      <th>Probability_YES</th>\n",
       "    </tr>\n",
       "  </thead>\n",
       "  <tbody>\n",
       "    <tr>\n",
       "      <th>0</th>\n",
       "      <td>(-1, 3]</td>\n",
       "      <td>63</td>\n",
       "      <td>102</td>\n",
       "      <td>165</td>\n",
       "      <td>0.381818</td>\n",
       "    </tr>\n",
       "    <tr>\n",
       "      <th>1</th>\n",
       "      <td>(3, 7]</td>\n",
       "      <td>68</td>\n",
       "      <td>289</td>\n",
       "      <td>357</td>\n",
       "      <td>0.190476</td>\n",
       "    </tr>\n",
       "    <tr>\n",
       "      <th>2</th>\n",
       "      <td>(7, 12]</td>\n",
       "      <td>63</td>\n",
       "      <td>422</td>\n",
       "      <td>485</td>\n",
       "      <td>0.129897</td>\n",
       "    </tr>\n",
       "    <tr>\n",
       "      <th>3</th>\n",
       "      <td>(12, 20]</td>\n",
       "      <td>27</td>\n",
       "      <td>229</td>\n",
       "      <td>256</td>\n",
       "      <td>0.105469</td>\n",
       "    </tr>\n",
       "    <tr>\n",
       "      <th>4</th>\n",
       "      <td>(20, 40]</td>\n",
       "      <td>16</td>\n",
       "      <td>191</td>\n",
       "      <td>207</td>\n",
       "      <td>0.077295</td>\n",
       "    </tr>\n",
       "  </tbody>\n",
       "</table>\n",
       "</div>"
      ],
      "text/plain": [
       "  TotalWorkingYears_bins  Attrition_YES  Attrition_NO  Yes+No  Probability_YES\n",
       "0  (-1, 3]                63             102           165     0.381818       \n",
       "1  (3, 7]                 68             289           357     0.190476       \n",
       "2  (7, 12]                63             422           485     0.129897       \n",
       "3  (12, 20]               27             229           256     0.105469       \n",
       "4  (20, 40]               16             191           207     0.077295       "
      ]
     },
     "execution_count": 32,
     "metadata": {},
     "output_type": "execute_result"
    }
   ],
   "source": [
    "# Merge tables with trainings and attrition both YES and NO\n",
    "df_ds_TWY_Y_N = pd.merge(df_ds_TWY_YES_only, df_ds_TWY_NO_only, on=\"TotalWorkingYears_bins\", how=\"left\")\n",
    "# Reset index\n",
    "df_ds_TWY_Y_N.reset_index()\n",
    "# Add a column with total number of employees\n",
    "df_ds_TWY_Y_N[\"Yes+No\"] = df_ds_TWY_Y_N[\"Attrition_YES\"] + df_ds_TWY_Y_N[\"Attrition_NO\"]\n",
    "# Add a column with probability of leaving a company\n",
    "df_ds_TWY_Y_N[\"Probability_YES\"] = df_ds_TWY_Y_N[\"Attrition_YES\"]/df_ds_TWY_Y_N[\"Yes+No\"]\n",
    "df_ds_TWY_Y_N"
   ]
  },
  {
   "cell_type": "code",
   "execution_count": 33,
   "metadata": {},
   "outputs": [
    {
     "data": {
      "application/vnd.jupyter.widget-view+json": {
       "model_id": "9b45c3008dfe482b91026dbd4698685f",
       "version_major": 2,
       "version_minor": 0
      },
      "text/plain": [
       "HBox(children=(Label(value='Liczba lat przepracowanych w sumie:'), ToggleButtons(options=('(0-3>', '(3-7>', '(…"
      ]
     },
     "metadata": {},
     "output_type": "display_data"
    }
   ],
   "source": [
    "# Characteristics of slider for the number of years worked in total\n",
    "from IPython.display import display\n",
    "from ipywidgets import HBox, Label\n",
    "\n",
    "TWY_toggle = widgets.ToggleButtons(\n",
    "    options=['(0-3>', '(3-7>', '(7-12>', '(12-20>', '(20-40>'],\n",
    "    description='',\n",
    "    disabled=False,\n",
    "    button_style=''\n",
    ")\n",
    "\n",
    "# display(TWS_slider)\n",
    "HBox([Label('Liczba lat przepracowanych w sumie:'), TWY_toggle])"
   ]
  },
  {
   "cell_type": "code",
   "execution_count": 34,
   "metadata": {},
   "outputs": [
    {
     "data": {
      "application/vnd.jupyter.widget-view+json": {
       "model_id": "5ff80b5dc98e4e2ea74325cdaa86933f",
       "version_major": 2,
       "version_minor": 0
      },
      "text/plain": [
       "interactive(children=(ToggleButtons(description='v', options=('(0-3>', '(3-7>', '(7-12>', '(12-20>', '(20-40>'…"
      ]
     },
     "metadata": {},
     "output_type": "display_data"
    },
    {
     "data": {
      "text/plain": [
       "<function __main__.value_handler(v)>"
      ]
     },
     "execution_count": 34,
     "metadata": {},
     "output_type": "execute_result"
    }
   ],
   "source": [
    "# Nie mogłem się odwołać do tego pogrupowanego indexu, więc zamieniłem na wartości z indexu podstawowego\n",
    "def value_handler(v):\n",
    "    if TWY_toggle.value == \"(0-3>\":\n",
    "        CYearsNo = 0 #\"(-1, 3]\"\n",
    "    elif TWY_toggle.value == \"(3-7>\":\n",
    "        CYearsNo = 1 #\"(3, 7]\"\n",
    "    elif TWY_toggle.value == \"(7-12>\":\n",
    "        CYearsNo = 2 #\"(7, 12]\"\n",
    "    elif TWY_toggle.value == \"(12-20>\":\n",
    "        CYearsNo = 3 #\"(12, 20]\"  \n",
    "    else:\n",
    "        CYearsNo = 4 #\"(20, 40]\"\n",
    "    \n",
    "    print(\"Prawdopodobieństwo odejścia z firmy wynosi: {}\".format(df_ds_TWY_Y_N.loc[int(CYearsNo), \"Probability_YES\"]))\n",
    "\n",
    "\n",
    "widgets.interact(value_handler, v=TWY_toggle)"
   ]
  },
  {
   "cell_type": "code",
   "execution_count": null,
   "metadata": {},
   "outputs": [],
   "source": []
  },
  {
   "cell_type": "markdown",
   "metadata": {},
   "source": [
    "# StockOptionLevel vs. Attrition #"
   ]
  },
  {
   "cell_type": "code",
   "execution_count": 35,
   "metadata": {},
   "outputs": [
    {
     "data": {
      "text/html": [
       "<div>\n",
       "<style scoped>\n",
       "    .dataframe tbody tr th:only-of-type {\n",
       "        vertical-align: middle;\n",
       "    }\n",
       "\n",
       "    .dataframe tbody tr th {\n",
       "        vertical-align: top;\n",
       "    }\n",
       "\n",
       "    .dataframe thead th {\n",
       "        text-align: right;\n",
       "    }\n",
       "</style>\n",
       "<table border=\"1\" class=\"dataframe\">\n",
       "  <thead>\n",
       "    <tr style=\"text-align: right;\">\n",
       "      <th>StockOptionLevel</th>\n",
       "      <th>0</th>\n",
       "      <th>1</th>\n",
       "      <th>2</th>\n",
       "      <th>3</th>\n",
       "    </tr>\n",
       "    <tr>\n",
       "      <th>Attrition</th>\n",
       "      <th></th>\n",
       "      <th></th>\n",
       "      <th></th>\n",
       "      <th></th>\n",
       "    </tr>\n",
       "  </thead>\n",
       "  <tbody>\n",
       "    <tr>\n",
       "      <th>No</th>\n",
       "      <td>477</td>\n",
       "      <td>540</td>\n",
       "      <td>146</td>\n",
       "      <td>70</td>\n",
       "    </tr>\n",
       "    <tr>\n",
       "      <th>Yes</th>\n",
       "      <td>154</td>\n",
       "      <td>56</td>\n",
       "      <td>12</td>\n",
       "      <td>15</td>\n",
       "    </tr>\n",
       "  </tbody>\n",
       "</table>\n",
       "</div>"
      ],
      "text/plain": [
       "StockOptionLevel    0    1    2   3\n",
       "Attrition                          \n",
       "No                477  540  146  70\n",
       "Yes               154  56   12   15"
      ]
     },
     "execution_count": 35,
     "metadata": {},
     "output_type": "execute_result"
    }
   ],
   "source": [
    "# Pivot table for the level of stock options\n",
    "SOL = pd.crosstab(df_ds[\"Attrition\"], df_ds[\"StockOptionLevel\"]) \n",
    "SOL"
   ]
  },
  {
   "cell_type": "code",
   "execution_count": 36,
   "metadata": {},
   "outputs": [],
   "source": [
    "# Number of employees that left a company vs. the level of options for stock\n",
    "# Create a copy of dataframe with Attrition=Yes\n",
    "df_ds_SOL_YES = df_ds[df_ds[\"Attrition\"]==\"Yes\"].copy()\n",
    "# Count the employees that left the company\n",
    "df_ds_SOL_YES_only = df_ds_SOL_YES.groupby(by=\"StockOptionLevel\").count() [\"Attrition\"].reset_index()\n",
    "# Change the name of column Attrition -> Atttrition_YES\n",
    "df_ds_SOL_YES_only = df_ds_SOL_YES_only.rename(columns = {\"Attrition\":\"Attrition_YES\"})\n",
    "# df_ds_SOL_YES_only"
   ]
  },
  {
   "cell_type": "code",
   "execution_count": 37,
   "metadata": {},
   "outputs": [],
   "source": [
    "# Number of employees that stayed in a company vs. the level of options for stock\n",
    "# Create a copy of dataframe with Attrition=No\n",
    "df_ds_SOL_NO = df_ds[df_ds[\"Attrition\"]==\"No\"].copy()\n",
    "# Count the employees that stayed in a company\n",
    "df_ds_SOL_NO_only = df_ds_SOL_NO.groupby(by=\"StockOptionLevel\").count() [\"Attrition\"].reset_index()\n",
    "# Change the name of column Attrition -> Atttrition_NO\n",
    "df_ds_SOL_NO_only = df_ds_SOL_NO_only.rename(columns = {\"Attrition\":\"Attrition_NO\"})\n",
    "# df_ds_TTLY_NO_only"
   ]
  },
  {
   "cell_type": "code",
   "execution_count": 38,
   "metadata": {},
   "outputs": [
    {
     "name": "stdout",
     "output_type": "stream",
     "text": [
      "   StockOptionLevel  Attrition_YES  Attrition_NO  Yes+No  Probability_YES\n",
      "0  0                 154            477           631     0.244057       \n",
      "1  1                 56             540           596     0.093960       \n",
      "2  2                 12             146           158     0.075949       \n",
      "3  3                 15             70            85      0.176471       \n"
     ]
    }
   ],
   "source": [
    "# Merge tables with trainings and attrition both YES and NO\n",
    "df_ds_SOL_Y_N = pd.merge(df_ds_SOL_YES_only, df_ds_SOL_NO_only, on=\"StockOptionLevel\", how=\"left\")\n",
    "# Reset index\n",
    "df_ds_SOL_Y_N.reset_index()\n",
    "# Add a column with total number of employees\n",
    "df_ds_SOL_Y_N[\"Yes+No\"] = df_ds_SOL_Y_N[\"Attrition_YES\"] + df_ds_SOL_Y_N[\"Attrition_NO\"]\n",
    "# Add a column with probability of leaving a company\n",
    "df_ds_SOL_Y_N[\"Probability_YES\"] = df_ds_SOL_Y_N[\"Attrition_YES\"]/df_ds_SOL_Y_N[\"Yes+No\"]\n",
    "print(df_ds_SOL_Y_N)"
   ]
  },
  {
   "cell_type": "code",
   "execution_count": 39,
   "metadata": {},
   "outputs": [
    {
     "data": {
      "application/vnd.jupyter.widget-view+json": {
       "model_id": "68fa6f25df414d2c86e9bf9e718b5dce",
       "version_major": 2,
       "version_minor": 0
      },
      "text/plain": [
       "HBox(children=(Label(value='Poziom opcji na akcje:'), IntSlider(value=0, continuous_update=False, max=3)))"
      ]
     },
     "metadata": {},
     "output_type": "display_data"
    }
   ],
   "source": [
    "# Characteristics of slider for the level of options for stock\n",
    "\n",
    "from IPython.display import display\n",
    "from ipywidgets import HBox, Label\n",
    "\n",
    "SOL_slider = widgets.IntSlider(\n",
    "    value=0,\n",
    "    min=0,\n",
    "    max=3,\n",
    "    step=1,\n",
    "    description='',\n",
    "    disabled=False,\n",
    "    continuous_update=False,\n",
    "    orientation='horizontal',\n",
    "    readout=True,\n",
    "    readout_format='d'\n",
    ")\n",
    "\n",
    "# display(TTLY_slider)\n",
    "HBox([Label('Poziom opcji na akcje:'), SOL_slider])"
   ]
  },
  {
   "cell_type": "code",
   "execution_count": 40,
   "metadata": {},
   "outputs": [
    {
     "data": {
      "application/vnd.jupyter.widget-view+json": {
       "model_id": "ec34409a73114873b8bd5e10c7009809",
       "version_major": 2,
       "version_minor": 0
      },
      "text/plain": [
       "interactive(children=(IntSlider(value=0, continuous_update=False, description='v', max=3), Output()), _dom_cla…"
      ]
     },
     "metadata": {},
     "output_type": "display_data"
    },
    {
     "data": {
      "text/plain": [
       "<function __main__.value_handler(v)>"
      ]
     },
     "execution_count": 40,
     "metadata": {},
     "output_type": "execute_result"
    }
   ],
   "source": [
    "# Slider connected with value_handler function returning probability\n",
    "def value_handler(v):\n",
    "    TrainNo = SOL_slider.value\n",
    "    Attr_Y_prob = df_ds_SOL_Y_N.loc[df_ds_SOL_Y_N[\"StockOptionLevel\"]==TrainNo, \"Probability_YES\"]\n",
    "    print(\"Prawdopodobieństwo odejścia z firmy wynosi: {}\".format(Attr_Y_prob[TrainNo]))\n",
    "\n",
    "\n",
    "widgets.interact(value_handler, v=SOL_slider)"
   ]
  },
  {
   "cell_type": "code",
   "execution_count": null,
   "metadata": {},
   "outputs": [],
   "source": []
  }
 ],
 "metadata": {
  "kernelspec": {
   "display_name": "Python 3",
   "language": "python",
   "name": "python3"
  },
  "language_info": {
   "codemirror_mode": {
    "name": "ipython",
    "version": 3
   },
   "file_extension": ".py",
   "mimetype": "text/x-python",
   "name": "python",
   "nbconvert_exporter": "python",
   "pygments_lexer": "ipython3",
   "version": "3.8.5"
  }
 },
 "nbformat": 4,
 "nbformat_minor": 5
}
