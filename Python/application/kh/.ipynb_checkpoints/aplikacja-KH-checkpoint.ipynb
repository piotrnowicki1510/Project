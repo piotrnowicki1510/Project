{
 "cells": [
  {
   "cell_type": "code",
   "execution_count": 21,
   "metadata": {},
   "outputs": [],
   "source": [
    "import pandas as pd\n",
    "import matplotlib.pyplot as plt\n",
    "import ipywidgets as widgets"
   ]
  },
  {
   "cell_type": "code",
   "execution_count": 22,
   "metadata": {},
   "outputs": [],
   "source": [
    "df = pd.read_csv(\"WA_Fn-UseC_-HR-Employee-Attrition.csv\")"
   ]
  },
  {
   "cell_type": "code",
   "execution_count": 23,
   "metadata": {},
   "outputs": [],
   "source": [
    "#podstawowe parametry\n",
    "att_yes = df.loc[df['Attrition'] == \"Yes\"]\n",
    "att_no = df.loc[df['Attrition'] == \"No\"]"
   ]
  },
  {
   "cell_type": "code",
   "execution_count": 24,
   "metadata": {},
   "outputs": [],
   "source": [
    "#przedzialy\n",
    "powyzej1 = df.loc[df['DistanceFromHome'] >= 1]\n",
    "ponizej5 = df.loc[df['DistanceFromHome'] <= 5]\n",
    "powyzej6 = df.loc[df['DistanceFromHome'] >= 6]\n",
    "ponizej11 = df.loc[df['DistanceFromHome'] <= 11]\n",
    "powyzej12 = df.loc[df['DistanceFromHome'] >= 12]\n",
    "ponizej17 = df.loc[df['DistanceFromHome'] <= 17]\n",
    "powyzej18 = df.loc[df['DistanceFromHome'] >= 18]\n",
    "ponizej22 = df.loc[df['DistanceFromHome'] <= 22]\n",
    "powyzej23 = df.loc[df['DistanceFromHome'] >= 23]\n",
    "ponizej28 = df.loc[df['DistanceFromHome'] <= 28]"
   ]
  },
  {
   "cell_type": "code",
   "execution_count": 25,
   "metadata": {},
   "outputs": [
    {
     "data": {
      "image/png": "[encoded data removed]",
      "text/plain": [
       "<Figure size 432x288 with 1 Axes>"
      ]
     },
     "metadata": {
      "needs_background": "light"
     },
     "output_type": "display_data"
    }
   ],
   "source": [
    "group = df[['DistanceFromHome', 'EmployeeCount']].groupby(by = 'DistanceFromHome').count()\n",
    "group['DistanceFromHome'] = group.index.get_level_values('DistanceFromHome')\n",
    "\n",
    "wykres = group.plot(\"DistanceFromHome\", \"EmployeeCount\")"
   ]
  },
  {
   "cell_type": "code",
   "execution_count": 26,
   "metadata": {},
   "outputs": [
    {
     "data": {
      "text/plain": [
       "count    1470.000000\n",
       "mean        9.192517\n",
       "std         8.106864\n",
       "min         1.000000\n",
       "25%         2.000000\n",
       "50%         7.000000\n",
       "75%        14.000000\n",
       "max        29.000000\n",
       "Name: DistanceFromHome, dtype: float64"
      ]
     },
     "execution_count": 26,
     "metadata": {},
     "output_type": "execute_result"
    }
   ],
   "source": [
    "df[\"DistanceFromHome\"].describe()\n",
    "#min = 1 km\n",
    "#max = 29 km"
   ]
  },
  {
   "cell_type": "code",
   "execution_count": 27,
   "metadata": {},
   "outputs": [
    {
     "data": {
      "application/vnd.jupyter.widget-view+json": {
       "model_id": "8325352dcf204055844d3991c2141d0b",
       "version_major": 2,
       "version_minor": 0
      },
      "text/plain": [
       "FloatSlider(value=14.0, continuous_update=False, description='Distance to work: ', max=29.0, min=1.0, readout_…"
      ]
     },
     "metadata": {},
     "output_type": "display_data"
    }
   ],
   "source": [
    "slider_distance = widgets.FloatSlider(\n",
    "    value=14,\n",
    "    min=1,\n",
    "    max=29,\n",
    "    step=1,\n",
    "    description='Distance to work: ',\n",
    "    disabled=False,\n",
    "    continuous_update=False,\n",
    "    orientation='horizontal',\n",
    "    readout=True,\n",
    "    readout_format='d',\n",
    ")\n",
    "slider_distance"
   ]
  },
  {
   "cell_type": "code",
   "execution_count": 28,
   "metadata": {},
   "outputs": [
    {
     "name": "stdout",
     "output_type": "stream",
     "text": [
      "The probability of leaving the company with given distance from home: 14 [km] is: 0.19047619047619047.\n"
     ]
    }
   ],
   "source": [
    "a = int(slider_distance.value)\n",
    "b = 'DistanceFromHome'\n",
    "\n",
    "spraw = df.loc[df[b] == a]\n",
    "sum_spraw = spraw + att_yes\n",
    "sprawdz = sum_spraw['EmployeeCount'].count()\n",
    "\n",
    "if sprawdz == 0:\n",
    "    if  23 <= a <= 28:\n",
    "        zm = (ponizej28 + powyzej23)\n",
    "    elif 18 <= a <= 22:\n",
    "        zm = (ponizej22 + powyzej18)\n",
    "    elif 12 <= a <= 17:\n",
    "        zm = (ponizej17 + powyzej12)\n",
    "    elif 6 <= a <= 11:\n",
    "        zm = (ponizej11 + powyzej6)\n",
    "    elif 1 <= a <= 5:\n",
    "        zm = (ponizej5 + powyzej1)\n",
    "elif sprawdz != 0:\n",
    "    zm = df.loc[df[b] == a] \n",
    "    \n",
    "sum_yes = zm + att_yes\n",
    "sum_no = zm + att_no\n",
    "sum_all = sum_yes['EmployeeCount'].count() + sum_no['EmployeeCount'].count()\n",
    "prob = sum_yes['EmployeeCount'].count() / sum_all\n",
    "print(\"The probability of leaving the company with given distance from home: {0} [km] is: {1}.\".format(a,prob))"
   ]
  },
  {
   "cell_type": "code",
   "execution_count": 31,
   "metadata": {},
   "outputs": [
    {
     "data": {
      "text/html": [
       "<div>\n",
       "<style scoped>\n",
       "    .dataframe tbody tr th:only-of-type {\n",
       "        vertical-align: middle;\n",
       "    }\n",
       "\n",
       "    .dataframe tbody tr th {\n",
       "        vertical-align: top;\n",
       "    }\n",
       "\n",
       "    .dataframe thead th {\n",
       "        text-align: right;\n",
       "    }\n",
       "</style>\n",
       "<table border=\"1\" class=\"dataframe\">\n",
       "  <thead>\n",
       "    <tr style=\"text-align: right;\">\n",
       "      <th>DistanceFromHome</th>\n",
       "      <th>1</th>\n",
       "      <th>2</th>\n",
       "      <th>3</th>\n",
       "      <th>4</th>\n",
       "      <th>5</th>\n",
       "      <th>6</th>\n",
       "      <th>7</th>\n",
       "      <th>8</th>\n",
       "      <th>9</th>\n",
       "      <th>10</th>\n",
       "      <th>...</th>\n",
       "      <th>20</th>\n",
       "      <th>21</th>\n",
       "      <th>22</th>\n",
       "      <th>23</th>\n",
       "      <th>24</th>\n",
       "      <th>25</th>\n",
       "      <th>26</th>\n",
       "      <th>27</th>\n",
       "      <th>28</th>\n",
       "      <th>29</th>\n",
       "    </tr>\n",
       "    <tr>\n",
       "      <th>Attrition</th>\n",
       "      <th></th>\n",
       "      <th></th>\n",
       "      <th></th>\n",
       "      <th></th>\n",
       "      <th></th>\n",
       "      <th></th>\n",
       "      <th></th>\n",
       "      <th></th>\n",
       "      <th></th>\n",
       "      <th></th>\n",
       "      <th></th>\n",
       "      <th></th>\n",
       "      <th></th>\n",
       "      <th></th>\n",
       "      <th></th>\n",
       "      <th></th>\n",
       "      <th></th>\n",
       "      <th></th>\n",
       "      <th></th>\n",
       "      <th></th>\n",
       "      <th></th>\n",
       "    </tr>\n",
       "  </thead>\n",
       "  <tbody>\n",
       "    <tr>\n",
       "      <th>No</th>\n",
       "      <td>182</td>\n",
       "      <td>183</td>\n",
       "      <td>70</td>\n",
       "      <td>55</td>\n",
       "      <td>55</td>\n",
       "      <td>52</td>\n",
       "      <td>73</td>\n",
       "      <td>70</td>\n",
       "      <td>67</td>\n",
       "      <td>75</td>\n",
       "      <td>...</td>\n",
       "      <td>21</td>\n",
       "      <td>15</td>\n",
       "      <td>13</td>\n",
       "      <td>22</td>\n",
       "      <td>16</td>\n",
       "      <td>19</td>\n",
       "      <td>22</td>\n",
       "      <td>9</td>\n",
       "      <td>21</td>\n",
       "      <td>22</td>\n",
       "    </tr>\n",
       "    <tr>\n",
       "      <th>Yes</th>\n",
       "      <td>26</td>\n",
       "      <td>28</td>\n",
       "      <td>14</td>\n",
       "      <td>9</td>\n",
       "      <td>10</td>\n",
       "      <td>7</td>\n",
       "      <td>11</td>\n",
       "      <td>10</td>\n",
       "      <td>18</td>\n",
       "      <td>11</td>\n",
       "      <td>...</td>\n",
       "      <td>4</td>\n",
       "      <td>3</td>\n",
       "      <td>6</td>\n",
       "      <td>5</td>\n",
       "      <td>12</td>\n",
       "      <td>6</td>\n",
       "      <td>3</td>\n",
       "      <td>3</td>\n",
       "      <td>2</td>\n",
       "      <td>5</td>\n",
       "    </tr>\n",
       "  </tbody>\n",
       "</table>\n",
       "<p>2 rows × 29 columns</p>\n",
       "</div>"
      ],
      "text/plain": [
       "DistanceFromHome   1    2   3   4   5   6   7   8   9   10  ...  20  21  22  \\\n",
       "Attrition                                                   ...               \n",
       "No                182  183  70  55  55  52  73  70  67  75  ...  21  15  13   \n",
       "Yes                26   28  14   9  10   7  11  10  18  11  ...   4   3   6   \n",
       "\n",
       "DistanceFromHome  23  24  25  26  27  28  29  \n",
       "Attrition                                     \n",
       "No                22  16  19  22   9  21  22  \n",
       "Yes                5  12   6   3   3   2   5  \n",
       "\n",
       "[2 rows x 29 columns]"
      ]
     },
     "execution_count": 31,
     "metadata": {},
     "output_type": "execute_result"
    }
   ],
   "source": [
    "# Crosstab\n",
    "DFH = pd.crosstab(df[\"Attrition\"], df[\"DistanceFromHome\"]) \n",
    "DFH"
   ]
  },
  {
   "cell_type": "code",
   "execution_count": 34,
   "metadata": {},
   "outputs": [],
   "source": [
    "# Count the employees that left the company\n",
    "df_DFH_YES_only = att_yes.groupby(by=\"DistanceFromHome\").count() [\"Attrition\"].reset_index()\n",
    "# Change the name of column Attrition -> Atttrition_YES\n",
    "df_DFH_YES_only = df_DFH_YES_only.rename(columns = {\"Attrition\":\"Attrition_YES\"})\n",
    "#df_DFH_YES_only"
   ]
  },
  {
   "cell_type": "code",
   "execution_count": 37,
   "metadata": {},
   "outputs": [],
   "source": [
    "# Count the employees that stayed in a company\n",
    "df_DFH_NO_only = att_no.groupby(by=\"DistanceFromHome\").count() [\"Attrition\"].reset_index()\n",
    "# Change the name of column Attrition -> Atttrition_NO\n",
    "df_DFH_NO_only = df_DFH_NO_only.rename(columns = {\"Attrition\":\"Attrition_NO\"})\n",
    "#df_DFH_NO_only"
   ]
  },
  {
   "cell_type": "code",
   "execution_count": 41,
   "metadata": {},
   "outputs": [],
   "source": [
    "# Merge tables with trainings and attrition both YES and NO\n",
    "df_DFH_Y_N = pd.merge(df_DFH_YES_only, df_DFH_NO_only, on=\"DistanceFromHome\", how=\"left\")\n",
    "# Reset index\n",
    "df_DFH_Y_N.reset_index()\n",
    "# Add a column with total number of employees\n",
    "df_DFH_Y_N[\"Yes+No\"] = df_DFH_Y_N[\"Attrition_YES\"] + df_DFH_Y_N[\"Attrition_NO\"]\n",
    "# Add a column with probability of leaving a company\n",
    "df_DFH_Y_N[\"Probability_YES\"] = df_DFH_Y_N[\"Attrition_YES\"]/df_DFH_Y_N[\"Yes+No\"]\n",
    "#print(df_DFH_Y_N)"
   ]
  },
  {
   "cell_type": "code",
   "execution_count": null,
   "metadata": {},
   "outputs": [],
   "source": []
  },
  {
   "cell_type": "code",
   "execution_count": 54,
   "metadata": {},
   "outputs": [
    {
     "data": {
      "application/vnd.jupyter.widget-view+json": {
       "model_id": "2e42f4a6814a44dea1b7f4a726bb83e6",
       "version_major": 2,
       "version_minor": 0
      },
      "text/plain": [
       "HBox(children=(Label(value='Distance from home:'), IntSlider(value=1, continuous_update=False, max=29, min=1))…"
      ]
     },
     "metadata": {},
     "output_type": "display_data"
    }
   ],
   "source": [
    "from IPython.display import display\n",
    "from ipywidgets import HBox, Label\n",
    "\n",
    "DFH_slider = widgets.IntSlider(\n",
    "    value=1,\n",
    "    min=1,\n",
    "    max=29,\n",
    "    step=1,\n",
    "    description='',\n",
    "    disabled=False,\n",
    "    continuous_update=False,\n",
    "    orientation='horizontal',\n",
    "    readout=True,\n",
    "    readout_format='d'\n",
    ")\n",
    "\n",
    "# display(DFH_slider)\n",
    "HBox([Label('Distance from home:'), DFH_slider])\n",
    "\n"
   ]
  },
  {
   "cell_type": "code",
   "execution_count": 65,
   "metadata": {},
   "outputs": [
    {
     "data": {
      "application/vnd.jupyter.widget-view+json": {
       "model_id": "dc060cff33424e249797855f5034637f",
       "version_major": 2,
       "version_minor": 0
      },
      "text/plain": [
       "interactive(children=(IntSlider(value=16, continuous_update=False, description='v', max=29, min=1), Output()),…"
      ]
     },
     "metadata": {},
     "output_type": "display_data"
    },
    {
     "data": {
      "text/plain": [
       "<function __main__.val_handler(v)>"
      ]
     },
     "execution_count": 65,
     "metadata": {},
     "output_type": "execute_result"
    }
   ],
   "source": [
    "# Slider connected with value_handler function returning probability\n",
    "\n",
    "def val_handler(v):\n",
    "    DFH = DFH_slider.value\n",
    "    probab = df_DFH_Y_N.loc[df_DFH_Y_N[\"DistanceFromHome\"]==DFH, \"Probability_YES\"]\n",
    "        \n",
    "    print(\"Prawdopodobieństwo odejścia z firmy wynosi: {}\".format(probab[DFH]))\n",
    "\n",
    "\n",
    "widgets.interact(val_handler, v = DFH_slider)"
   ]
  },
  {
   "cell_type": "code",
   "execution_count": null,
   "metadata": {},
   "outputs": [],
   "source": []
  }
 ],
 "metadata": {
  "kernelspec": {
   "display_name": "Python 3",
   "language": "python",
   "name": "python3"
  },
  "language_info": {
   "codemirror_mode": {
    "name": "ipython",
    "version": 3
   },
   "file_extension": ".py",
   "mimetype": "text/x-python",
   "name": "python",
   "nbconvert_exporter": "python",
   "pygments_lexer": "ipython3",
   "version": "3.8.5"
  }
 },
 "nbformat": 4,
 "nbformat_minor": 4
}
