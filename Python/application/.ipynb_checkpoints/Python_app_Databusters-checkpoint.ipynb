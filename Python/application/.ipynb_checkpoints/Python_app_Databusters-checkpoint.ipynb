{
 "cells": [
  {
   "cell_type": "code",
   "execution_count": 1,
   "id": "5832edda",
   "metadata": {},
   "outputs": [],
   "source": [
    "import pandas as pd\n",
    "import matplotlib.pyplot as plt\n",
    "import seaborn as sns\n",
    "import statistics\n",
    "import ipywidgets as widgets\n",
    "from IPython.display import display\n",
    "from ipywidgets import HBox, Label, Layout, IntSlider"
   ]
  },
  {
   "cell_type": "code",
   "execution_count": 2,
   "id": "712f50db",
   "metadata": {},
   "outputs": [],
   "source": [
    "#zaimportowanie pliku z danymi\n",
    "df = pd.read_csv(\"WA_Fn-UseC_-HR-Employee-Attrition.csv\") \n",
    "#df"
   ]
  },
  {
   "cell_type": "code",
   "execution_count": 3,
   "id": "2eb23ddf",
   "metadata": {},
   "outputs": [
    {
     "data": {
      "text/html": [
       "<div>\n",
       "<style scoped>\n",
       "    .dataframe tbody tr th:only-of-type {\n",
       "        vertical-align: middle;\n",
       "    }\n",
       "\n",
       "    .dataframe tbody tr th {\n",
       "        vertical-align: top;\n",
       "    }\n",
       "\n",
       "    .dataframe thead th {\n",
       "        text-align: right;\n",
       "    }\n",
       "</style>\n",
       "<table border=\"1\" class=\"dataframe\">\n",
       "  <thead>\n",
       "    <tr style=\"text-align: right;\">\n",
       "      <th></th>\n",
       "      <th>Attrition</th>\n",
       "      <th>TrainingTimesLastYear</th>\n",
       "      <th>TotalWorkingYears</th>\n",
       "      <th>YearsAtCompany</th>\n",
       "      <th>YearsInCurrentRole</th>\n",
       "      <th>YearsSinceLastPromotion</th>\n",
       "      <th>YearsWithCurrManager</th>\n",
       "      <th>StockOptionLevel</th>\n",
       "    </tr>\n",
       "  </thead>\n",
       "  <tbody>\n",
       "    <tr>\n",
       "      <th>0</th>\n",
       "      <td>Yes</td>\n",
       "      <td>0</td>\n",
       "      <td>8</td>\n",
       "      <td>6</td>\n",
       "      <td>4</td>\n",
       "      <td>0</td>\n",
       "      <td>5</td>\n",
       "      <td>0</td>\n",
       "    </tr>\n",
       "    <tr>\n",
       "      <th>1</th>\n",
       "      <td>No</td>\n",
       "      <td>3</td>\n",
       "      <td>10</td>\n",
       "      <td>10</td>\n",
       "      <td>7</td>\n",
       "      <td>1</td>\n",
       "      <td>7</td>\n",
       "      <td>1</td>\n",
       "    </tr>\n",
       "    <tr>\n",
       "      <th>2</th>\n",
       "      <td>Yes</td>\n",
       "      <td>3</td>\n",
       "      <td>7</td>\n",
       "      <td>0</td>\n",
       "      <td>0</td>\n",
       "      <td>0</td>\n",
       "      <td>0</td>\n",
       "      <td>0</td>\n",
       "    </tr>\n",
       "    <tr>\n",
       "      <th>3</th>\n",
       "      <td>No</td>\n",
       "      <td>3</td>\n",
       "      <td>8</td>\n",
       "      <td>8</td>\n",
       "      <td>7</td>\n",
       "      <td>3</td>\n",
       "      <td>0</td>\n",
       "      <td>0</td>\n",
       "    </tr>\n",
       "    <tr>\n",
       "      <th>4</th>\n",
       "      <td>No</td>\n",
       "      <td>3</td>\n",
       "      <td>6</td>\n",
       "      <td>2</td>\n",
       "      <td>2</td>\n",
       "      <td>2</td>\n",
       "      <td>2</td>\n",
       "      <td>1</td>\n",
       "    </tr>\n",
       "    <tr>\n",
       "      <th>...</th>\n",
       "      <td>...</td>\n",
       "      <td>...</td>\n",
       "      <td>...</td>\n",
       "      <td>...</td>\n",
       "      <td>...</td>\n",
       "      <td>...</td>\n",
       "      <td>...</td>\n",
       "      <td>...</td>\n",
       "    </tr>\n",
       "    <tr>\n",
       "      <th>1465</th>\n",
       "      <td>No</td>\n",
       "      <td>3</td>\n",
       "      <td>17</td>\n",
       "      <td>5</td>\n",
       "      <td>2</td>\n",
       "      <td>0</td>\n",
       "      <td>3</td>\n",
       "      <td>1</td>\n",
       "    </tr>\n",
       "    <tr>\n",
       "      <th>1466</th>\n",
       "      <td>No</td>\n",
       "      <td>5</td>\n",
       "      <td>9</td>\n",
       "      <td>7</td>\n",
       "      <td>7</td>\n",
       "      <td>1</td>\n",
       "      <td>7</td>\n",
       "      <td>1</td>\n",
       "    </tr>\n",
       "    <tr>\n",
       "      <th>1467</th>\n",
       "      <td>No</td>\n",
       "      <td>0</td>\n",
       "      <td>6</td>\n",
       "      <td>6</td>\n",
       "      <td>2</td>\n",
       "      <td>0</td>\n",
       "      <td>3</td>\n",
       "      <td>1</td>\n",
       "    </tr>\n",
       "    <tr>\n",
       "      <th>1468</th>\n",
       "      <td>No</td>\n",
       "      <td>3</td>\n",
       "      <td>17</td>\n",
       "      <td>9</td>\n",
       "      <td>6</td>\n",
       "      <td>0</td>\n",
       "      <td>8</td>\n",
       "      <td>0</td>\n",
       "    </tr>\n",
       "    <tr>\n",
       "      <th>1469</th>\n",
       "      <td>No</td>\n",
       "      <td>3</td>\n",
       "      <td>6</td>\n",
       "      <td>4</td>\n",
       "      <td>3</td>\n",
       "      <td>1</td>\n",
       "      <td>2</td>\n",
       "      <td>0</td>\n",
       "    </tr>\n",
       "  </tbody>\n",
       "</table>\n",
       "<p>1470 rows × 8 columns</p>\n",
       "</div>"
      ],
      "text/plain": [
       "     Attrition  TrainingTimesLastYear  TotalWorkingYears  YearsAtCompany  \\\n",
       "0          Yes                      0                  8               6   \n",
       "1           No                      3                 10              10   \n",
       "2          Yes                      3                  7               0   \n",
       "3           No                      3                  8               8   \n",
       "4           No                      3                  6               2   \n",
       "...        ...                    ...                ...             ...   \n",
       "1465        No                      3                 17               5   \n",
       "1466        No                      5                  9               7   \n",
       "1467        No                      0                  6               6   \n",
       "1468        No                      3                 17               9   \n",
       "1469        No                      3                  6               4   \n",
       "\n",
       "      YearsInCurrentRole  YearsSinceLastPromotion  YearsWithCurrManager  \\\n",
       "0                      4                        0                     5   \n",
       "1                      7                        1                     7   \n",
       "2                      0                        0                     0   \n",
       "3                      7                        3                     0   \n",
       "4                      2                        2                     2   \n",
       "...                  ...                      ...                   ...   \n",
       "1465                   2                        0                     3   \n",
       "1466                   7                        1                     7   \n",
       "1467                   2                        0                     3   \n",
       "1468                   6                        0                     8   \n",
       "1469                   3                        1                     2   \n",
       "\n",
       "      StockOptionLevel  \n",
       "0                    0  \n",
       "1                    1  \n",
       "2                    0  \n",
       "3                    0  \n",
       "4                    1  \n",
       "...                ...  \n",
       "1465                 1  \n",
       "1466                 1  \n",
       "1467                 1  \n",
       "1468                 0  \n",
       "1469                 0  \n",
       "\n",
       "[1470 rows x 8 columns]"
      ]
     },
     "execution_count": 3,
     "metadata": {},
     "output_type": "execute_result"
    }
   ],
   "source": [
    "# wybranie przydzielonych kolumn + Attrition\n",
    "df_ds = df[[\"Attrition\", \"TrainingTimesLastYear\", \"TotalWorkingYears\",\n",
    "       \"YearsAtCompany\", \"YearsInCurrentRole\", \"YearsSinceLastPromotion\",\n",
    "       \"YearsWithCurrManager\", \"StockOptionLevel\"]] \n",
    "df_ds"
   ]
  },
  {
   "cell_type": "markdown",
   "id": "9aa9e76c",
   "metadata": {},
   "source": [
    "# Age vs. Attrition #"
   ]
  },
  {
   "cell_type": "code",
   "execution_count": 4,
   "id": "cd97182f",
   "metadata": {},
   "outputs": [],
   "source": [
    "# Basic parameters\n",
    "female = df.loc[df['Gender'] == \"Female\"]\n",
    "male = df.loc[df['Gender'] == \"Male\"]\n",
    "att_yes = df.loc[df['Attrition'] == \"Yes\"]\n",
    "att_no = df.loc[df['Attrition'] == \"No\"]"
   ]
  },
  {
   "cell_type": "code",
   "execution_count": 5,
   "id": "5621b02f",
   "metadata": {},
   "outputs": [],
   "source": [
    "# Age bins\n",
    "powyzej18 = df.loc[df['Age'] >= 18]\n",
    "ponizej26 = df.loc[df['Age'] <= 26]\n",
    "powyzej27 = df.loc[df['Age'] >= 27]\n",
    "ponizej35 = df.loc[df['Age'] <= 35]\n",
    "powyzej36 = df.loc[df['Age'] >= 36]\n",
    "ponizej44 = df.loc[df['Age'] <= 44]\n",
    "powyzej45 = df.loc[df['Age'] >= 45]\n",
    "ponizej53 = df.loc[df['Age'] <= 53]\n",
    "powyzej54 = df.loc[df['Age'] >= 54]\n",
    "ponizej62 = df.loc[df['Age'] <= 62]"
   ]
  },
  {
   "cell_type": "code",
   "execution_count": 6,
   "id": "4af30e02",
   "metadata": {},
   "outputs": [
    {
     "data": {
      "application/vnd.jupyter.widget-view+json": {
       "model_id": "ba2ceac8616147658d84990b79352656",
       "version_major": 2,
       "version_minor": 0
      },
      "text/plain": [
       "FloatSlider(value=18.0, continuous_update=False, description='Age: ', layout=Layout(width='80%'), max=60.0, mi…"
      ]
     },
     "metadata": {},
     "output_type": "display_data"
    }
   ],
   "source": [
    "style = {'description_width': '350px'}\n",
    "AGE_slider = widgets.FloatSlider(\n",
    "    value=18,\n",
    "    min=18,\n",
    "    max=60,\n",
    "    step=1,\n",
    "    description='Age: ',\n",
    "    disabled=False,\n",
    "    continuous_update=False,\n",
    "    orientation='horizontal',\n",
    "    readout=True,\n",
    "    readout_format='d',\n",
    "    style = style,\n",
    "    layout = Layout(width=\"80%\")\n",
    ")\n",
    "AGE_slider"
   ]
  },
  {
   "cell_type": "code",
   "execution_count": 7,
   "id": "631dd03d",
   "metadata": {},
   "outputs": [],
   "source": [
    "# Function checking the attrition probability for age of employees\n",
    "def AGE_probability(input_AGE):\n",
    "    x = int(AGE_slider.value)\n",
    "    y = 'Age'\n",
    "\n",
    "    sprawdzana = df.loc[df[y] == x]\n",
    "    suma_spraw = sprawdzana + att_yes\n",
    "    sprawdzenie = suma_spraw['EmployeeCount'].count()\n",
    "\n",
    "    if sprawdzenie == 0:\n",
    "        if  54 <= x <= 62:\n",
    "            zmienna = (ponizej62 + powyzej54)\n",
    "        elif 45 <= x <= 53:\n",
    "            zmienna = (ponizej53 + powyzej45)\n",
    "        elif 36 <= x <= 44:\n",
    "            zmienna = (ponizej44 + powyzej36)\n",
    "        elif 27 <= x <= 35:\n",
    "            zmienna = (ponizej35 + powyzej27)\n",
    "        elif 18 <= x <= 26:\n",
    "            zmienna = (ponizej26 + powyzej18)\n",
    "        elif 45 <= x <= 53:\n",
    "            zmienna = (ponizej53 + powyzej45)\n",
    "    elif sprawdzenie != 0:\n",
    "        zmienna = df.loc[df[y] == x] \n",
    "        \n",
    "    suma_yes = zmienna + att_yes\n",
    "    suma_no = zmienna + att_no\n",
    "    suma_cal = suma_yes['EmployeeCount'].count() + suma_no['EmployeeCount'].count()\n",
    "    pAGE = suma_yes['EmployeeCount'].count() / suma_cal\n",
    "    return pAGE\n",
    "    # print(\"Prawdopodobieństwo odejścia z firmy, przy podanym wieku: {0}, wynosi: {1}.\".format(x,p))"
   ]
  },
  {
   "cell_type": "markdown",
   "id": "56859e52",
   "metadata": {},
   "source": [
    "# Gender vs. Attrition #"
   ]
  },
  {
   "cell_type": "code",
   "execution_count": 8,
   "id": "c6211631",
   "metadata": {},
   "outputs": [
    {
     "data": {
      "text/html": [
       "<div>\n",
       "<style scoped>\n",
       "    .dataframe tbody tr th:only-of-type {\n",
       "        vertical-align: middle;\n",
       "    }\n",
       "\n",
       "    .dataframe tbody tr th {\n",
       "        vertical-align: top;\n",
       "    }\n",
       "\n",
       "    .dataframe thead th {\n",
       "        text-align: right;\n",
       "    }\n",
       "</style>\n",
       "<table border=\"1\" class=\"dataframe\">\n",
       "  <thead>\n",
       "    <tr style=\"text-align: right;\">\n",
       "      <th>Gender</th>\n",
       "      <th>Female</th>\n",
       "      <th>Male</th>\n",
       "    </tr>\n",
       "    <tr>\n",
       "      <th>Attrition</th>\n",
       "      <th></th>\n",
       "      <th></th>\n",
       "    </tr>\n",
       "  </thead>\n",
       "  <tbody>\n",
       "    <tr>\n",
       "      <th>No</th>\n",
       "      <td>501</td>\n",
       "      <td>732</td>\n",
       "    </tr>\n",
       "    <tr>\n",
       "      <th>Yes</th>\n",
       "      <td>87</td>\n",
       "      <td>150</td>\n",
       "    </tr>\n",
       "  </tbody>\n",
       "</table>\n",
       "</div>"
      ],
      "text/plain": [
       "Gender     Female  Male\n",
       "Attrition              \n",
       "No            501   732\n",
       "Yes            87   150"
      ]
     },
     "execution_count": 8,
     "metadata": {},
     "output_type": "execute_result"
    }
   ],
   "source": [
    "df.groupby(['Attrition', 'Gender'])['EmployeeCount'].count().unstack(fill_value=0)"
   ]
  },
  {
   "cell_type": "code",
   "execution_count": 9,
   "id": "505254e0",
   "metadata": {},
   "outputs": [
    {
     "name": "stdout",
     "output_type": "stream",
     "text": [
      "0.14795918367346939\n"
     ]
    }
   ],
   "source": [
    "suma_yes_fem = female + att_yes\n",
    "suma_no_fem = female + att_no\n",
    "suma_cal_fem = suma_yes_fem['EmployeeCount'].count() + suma_no_fem['EmployeeCount'].count()\n",
    "p_fem = suma_yes_fem['EmployeeCount'].count() / suma_cal_fem\n",
    "print(p_fem)"
   ]
  },
  {
   "cell_type": "code",
   "execution_count": 10,
   "id": "82edf62c",
   "metadata": {},
   "outputs": [
    {
     "name": "stdout",
     "output_type": "stream",
     "text": [
      "0.17006802721088435\n"
     ]
    }
   ],
   "source": [
    "suma_yes_mal = male + att_yes\n",
    "suma_no_mal = male + att_no\n",
    "suma_cal_mal = suma_yes_mal['EmployeeCount'].count() + suma_no_mal['EmployeeCount'].count()\n",
    "p_mal = suma_yes_mal['EmployeeCount'].count() / suma_cal_mal\n",
    "print(p_mal)"
   ]
  },
  {
   "cell_type": "code",
   "execution_count": 11,
   "id": "30a24f7c",
   "metadata": {},
   "outputs": [
    {
     "data": {
      "application/vnd.jupyter.widget-view+json": {
       "model_id": "ce59a3e83f72406799153b6d2162c8b1",
       "version_major": 2,
       "version_minor": 0
      },
      "text/plain": [
       "Dropdown(description='Sex: ', index=1, layout=Layout(width='40%'), options=(('Female', 'Female'), ('Male', 'Ma…"
      ]
     },
     "metadata": {},
     "output_type": "display_data"
    }
   ],
   "source": [
    "style = {'description_width': '350px'}\n",
    "GENDER_dropdown = widgets.Dropdown(\n",
    "    options=[('Female', 'Female'), ('Male', 'Male')],\n",
    "    value='Male',\n",
    "    description='Sex: ',\n",
    "    style = style,\n",
    "    layout = Layout(width=\"40%\")\n",
    ")\n",
    "GENDER_dropdown"
   ]
  },
  {
   "cell_type": "code",
   "execution_count": 12,
   "id": "37d6bc2f",
   "metadata": {},
   "outputs": [],
   "source": [
    "# Function checking the attrition probability for gender of employees\n",
    "def GENDER_probability(input_GENDER):\n",
    "    gender = str(GENDER_dropdown.value)\n",
    "    if gender.lower() == \"male\":\n",
    "        pGENDER = p_mal\n",
    "    elif gender.lower() == \"female\":\n",
    "        pGENDER = p_fem\n",
    "    return pGENDER"
   ]
  },
  {
   "cell_type": "markdown",
   "id": "3eee7145",
   "metadata": {},
   "source": [
    "# WorkLifeBalance vs. Attrition #"
   ]
  },
  {
   "cell_type": "code",
   "execution_count": 13,
   "id": "89151b64",
   "metadata": {},
   "outputs": [],
   "source": [
    "# Basic parameters\n",
    "yes = df.loc[df['OverTime'] == \"Yes\"]\n",
    "no = df.loc[df['OverTime'] == \"No\"]\n",
    "att_yes = df.loc[df['Attrition'] == \"Yes\"]\n",
    "att_no = df.loc[df['Attrition'] == \"No\"]"
   ]
  },
  {
   "cell_type": "code",
   "execution_count": 14,
   "id": "081b266c",
   "metadata": {},
   "outputs": [
    {
     "data": {
      "application/vnd.jupyter.widget-view+json": {
       "model_id": "d29b48e9eb8f4a07bbc38fd703bdc397",
       "version_major": 2,
       "version_minor": 0
      },
      "text/plain": [
       "HBox(children=(FloatSlider(value=1.0, continuous_update=False, description='WorkLife balance on a scale of 1 t…"
      ]
     },
     "metadata": {},
     "output_type": "display_data"
    }
   ],
   "source": [
    "style = {'description_width': '350px'}\n",
    "WLB_slider = widgets.FloatSlider(\n",
    "    value=1,\n",
    "    min=1,\n",
    "    max=4,\n",
    "    step=1,\n",
    "    description='WorkLife balance on a scale of 1 to 4: ',\n",
    "    description_tooltip='Describe your work-life balance on a scale 1-4',\n",
    "    disabled=False,\n",
    "    continuous_update=False,\n",
    "    orientation='horizontal',\n",
    "    readout=True,\n",
    "    readout_format='d',\n",
    "    style=style,\n",
    "    layout=Layout(width=\"60%\")\n",
    ")\n",
    "\n",
    "HBox([WLB_slider])"
   ]
  },
  {
   "cell_type": "code",
   "execution_count": 15,
   "id": "5543aa20",
   "metadata": {},
   "outputs": [],
   "source": [
    "# Function checking the attrition probability for worklife balance of employees\n",
    "def WLB_probability(input_WLB):\n",
    "    x = int(WLB_slider.value)\n",
    "    y = \"WorkLifeBalance\"\n",
    "    sprawdzana = df.loc[df[y] == x]\n",
    "    suma_spraw = sprawdzana + att_yes\n",
    "    sprawdzenie = suma_spraw[\"EmployeeCount\"].count()\n",
    "    suma_yes = sprawdzana + att_yes\n",
    "    suma_no = sprawdzana + att_no\n",
    "    suma_cal = suma_yes[\"EmployeeCount\"].count() + suma_no[\"EmployeeCount\"].count()\n",
    "    pWLB = suma_yes[\"EmployeeCount\"].count() / suma_cal\n",
    "    return pWLB\n",
    "    # print(\"The probability of leaving the company with given WorkLifeBalance: {0} is: {1}.\".format(x,p))"
   ]
  },
  {
   "cell_type": "markdown",
   "id": "58704b08",
   "metadata": {},
   "source": [
    "# JobSatisfaction vs. Attrition #"
   ]
  },
  {
   "cell_type": "code",
   "execution_count": 16,
   "id": "e24338d9",
   "metadata": {},
   "outputs": [
    {
     "data": {
      "application/vnd.jupyter.widget-view+json": {
       "model_id": "885d2c544ade4ca28c25af1efd29ed76",
       "version_major": 2,
       "version_minor": 0
      },
      "text/plain": [
       "HBox(children=(FloatSlider(value=1.0, continuous_update=False, description='Job satisfaction on a scale of 1 t…"
      ]
     },
     "metadata": {},
     "output_type": "display_data"
    }
   ],
   "source": [
    "style = {'description_width': '350px'}\n",
    "JS_slider = widgets.FloatSlider(\n",
    "    value=1,\n",
    "    min=1,\n",
    "    max=4,\n",
    "    step=1,\n",
    "    description='Job satisfaction on a scale of 1 to 4: ',\n",
    "    disabled=False,\n",
    "    continuous_update=False,\n",
    "    orientation='horizontal',\n",
    "    readout=True,\n",
    "    readout_format='d',\n",
    "    style=style,\n",
    "    layout=Layout(width=\"60%\")\n",
    ")\n",
    "\n",
    "HBox([JS_slider])"
   ]
  },
  {
   "cell_type": "code",
   "execution_count": 17,
   "id": "50006177",
   "metadata": {},
   "outputs": [],
   "source": [
    "# Function checking the attrition probability for job satisfaction of employees\n",
    "def JS_probability(input_JS):\n",
    "    x = int(JS_slider.value)\n",
    "    y = \"JobSatisfaction\"\n",
    "    sprawdzana = df.loc[df[y] == x]\n",
    "    suma_spraw = sprawdzana + att_yes\n",
    "    sprawdzenie = suma_spraw[\"EmployeeCount\"].count()\n",
    "    suma_yes = sprawdzana + att_yes\n",
    "    suma_no = sprawdzana + att_no\n",
    "    suma_cal = suma_yes[\"EmployeeCount\"].count() + suma_no[\"EmployeeCount\"].count()\n",
    "    pJS = suma_yes[\"EmployeeCount\"].count() / suma_cal\n",
    "    return pJS\n",
    "    # print(\"The probability of leaving the company with given JobSatisfaction: {0} is: {1}.\".format(x,p))"
   ]
  },
  {
   "cell_type": "markdown",
   "id": "92c84a77",
   "metadata": {},
   "source": [
    "# PerformanceRating vs. Attrition #"
   ]
  },
  {
   "cell_type": "code",
   "execution_count": 18,
   "id": "44ede364",
   "metadata": {},
   "outputs": [
    {
     "data": {
      "application/vnd.jupyter.widget-view+json": {
       "model_id": "bfd0b9c8011a44efa0a0508be42e66b1",
       "version_major": 2,
       "version_minor": 0
      },
      "text/plain": [
       "HBox(children=(FloatSlider(value=1.0, continuous_update=False, description='Performance rating on a scale of 1…"
      ]
     },
     "metadata": {},
     "output_type": "display_data"
    }
   ],
   "source": [
    "style = {'description_width': '350px'}\n",
    "PR_slider = widgets.FloatSlider(\n",
    "    value=1,\n",
    "    min=1,\n",
    "    max=4,\n",
    "    step=1,\n",
    "    description='Performance rating on a scale of 1 to 4: ',\n",
    "    disabled=False,\n",
    "    continuous_update=False,\n",
    "    orientation='horizontal',\n",
    "    readout=True,\n",
    "    readout_format='d',\n",
    "    style=style,\n",
    "    layout=Layout(width=\"60%\")\n",
    ")\n",
    "\n",
    "HBox([PR_slider])"
   ]
  },
  {
   "cell_type": "code",
   "execution_count": 19,
   "id": "e8a73d46",
   "metadata": {},
   "outputs": [],
   "source": [
    "# Function checking the attrition probability for performance rating of employees\n",
    "def PR_probability(input_PR):\n",
    "    x = int(PR_slider.value)\n",
    "    y = \"PerformanceRating\"\n",
    "    sprawdzana = df.loc[df[y] == x]\n",
    "    suma_spraw = sprawdzana + att_yes\n",
    "    sprawdzenie = suma_spraw[\"EmployeeCount\"].count()\n",
    "    suma_yes = sprawdzana + att_yes\n",
    "    suma_no = sprawdzana + att_no\n",
    "    suma_cal = suma_yes[\"EmployeeCount\"].count() + suma_no[\"EmployeeCount\"].count()\n",
    "    if x < 3:\n",
    "        pPR = 0\n",
    "    else:\n",
    "        pPR = suma_yes[\"EmployeeCount\"].count() / suma_cal\n",
    "    return pPR"
   ]
  },
  {
   "cell_type": "markdown",
   "id": "3527c309",
   "metadata": {},
   "source": [
    "# EnvironmentSatisfaction vs. Attrition #"
   ]
  },
  {
   "cell_type": "code",
   "execution_count": 20,
   "id": "7f84297f",
   "metadata": {},
   "outputs": [
    {
     "data": {
      "application/vnd.jupyter.widget-view+json": {
       "model_id": "bae551069c1a4c1aab84250f9d5ac225",
       "version_major": 2,
       "version_minor": 0
      },
      "text/plain": [
       "HBox(children=(FloatSlider(value=1.0, continuous_update=False, description='Office environment satisfaction on…"
      ]
     },
     "metadata": {},
     "output_type": "display_data"
    }
   ],
   "source": [
    "style = {'description_width': '350px'}\n",
    "ES_slider = widgets.FloatSlider(\n",
    "    value=1,\n",
    "    min=1,\n",
    "    max=4,\n",
    "    step=1,\n",
    "    description='Office environment satisfaction on scale 1-4: ',\n",
    "    disabled=False,\n",
    "    continuous_update=False,\n",
    "    orientation='horizontal',\n",
    "    readout=True,\n",
    "    readout_format='d',\n",
    "    style=style,\n",
    "    layout=Layout(width=\"60%\")\n",
    ")\n",
    "\n",
    "HBox([ES_slider])"
   ]
  },
  {
   "cell_type": "code",
   "execution_count": 21,
   "id": "e044b6d3",
   "metadata": {},
   "outputs": [],
   "source": [
    "# Function checking the attrition probability for office environment satisfaction of employees\n",
    "def ES_probability(input_ES):\n",
    "    x = int(ES_slider.value)\n",
    "    y = \"EnvironmentSatisfaction\"\n",
    "    sprawdzana = df.loc[df[y] == x]\n",
    "    suma_spraw = sprawdzana + att_yes\n",
    "    sprawdzenie = suma_spraw[\"EmployeeCount\"].count()\n",
    "    suma_yes = sprawdzana + att_yes\n",
    "    suma_no = sprawdzana + att_no\n",
    "    suma_cal = suma_yes[\"EmployeeCount\"].count() + suma_no[\"EmployeeCount\"].count()\n",
    "    pES = suma_yes[\"EmployeeCount\"].count() / suma_cal\n",
    "    return pES\n",
    "    # print(\"The probability of leaving the company with given EnvironmentSatisfaction: {0} is: {1}.\".format(x,p))"
   ]
  },
  {
   "cell_type": "markdown",
   "id": "95b18e6f",
   "metadata": {},
   "source": [
    "# OverTime vs. Attrition #"
   ]
  },
  {
   "cell_type": "code",
   "execution_count": 22,
   "id": "82759c2d",
   "metadata": {},
   "outputs": [
    {
     "name": "stdout",
     "output_type": "stream",
     "text": [
      "0.30528846153846156\n"
     ]
    }
   ],
   "source": [
    "suma_yes_overtimeyes = yes + att_yes\n",
    "suma_no_overtimeyes = yes + att_no\n",
    "suma_cal_overtimeyes = suma_yes_overtimeyes['EmployeeCount'].count() + suma_no_overtimeyes['EmployeeCount'].count()\n",
    "p_overtimeyes = suma_yes_overtimeyes['EmployeeCount'].count() / suma_cal_overtimeyes\n",
    "print(p_overtimeyes)"
   ]
  },
  {
   "cell_type": "code",
   "execution_count": 23,
   "id": "d1a81cca",
   "metadata": {},
   "outputs": [
    {
     "name": "stdout",
     "output_type": "stream",
     "text": [
      "0.10436432637571158\n"
     ]
    }
   ],
   "source": [
    "suma_yes_overtimeno = no + att_yes\n",
    "suma_no_overtimeno = no + att_no\n",
    "suma_cal_overtimeno = suma_yes_overtimeno['EmployeeCount'].count() + suma_no_overtimeno['EmployeeCount'].count()\n",
    "p_overtimeno = suma_yes_overtimeno['EmployeeCount'].count() / suma_cal_overtimeno\n",
    "print(p_overtimeno)"
   ]
  },
  {
   "cell_type": "code",
   "execution_count": 24,
   "id": "ef05819d",
   "metadata": {},
   "outputs": [
    {
     "data": {
      "application/vnd.jupyter.widget-view+json": {
       "model_id": "f7350250c7774547ab25f7079308bee4",
       "version_major": 2,
       "version_minor": 0
      },
      "text/plain": [
       "HBox(children=(Dropdown(description='Do you work overtime?: ', layout=Layout(width='40%'), options=(('Yes', 'Y…"
      ]
     },
     "metadata": {},
     "output_type": "display_data"
    }
   ],
   "source": [
    "style = {'description_width': '350px'}\n",
    "OT_dropdown = widgets.Dropdown(\n",
    "    options=[(\"Yes\", \"Yes\"), (\"No\", \"No\")],\n",
    "    value=\"Yes\",\n",
    "    description='Do you work overtime?: ',\n",
    "    style=style,\n",
    "    layout=Layout(width=\"40%\")\n",
    ")\n",
    "\n",
    "HBox([OT_dropdown])"
   ]
  },
  {
   "cell_type": "code",
   "execution_count": 25,
   "id": "641b6794",
   "metadata": {},
   "outputs": [],
   "source": [
    "# Function checking the attrition probability for working overtime\n",
    "def OT_probability(input_OT):\n",
    "    overtime = str(OT_dropdown.value)\n",
    "    if overtime.lower() == \"yes\":\n",
    "        pOT = p_overtimeyes\n",
    "    elif overtime.lower() == \"no\":\n",
    "        pOT = p_overtimeno\n",
    "    return pOT\n",
    "    # print(pOT)"
   ]
  },
  {
   "cell_type": "markdown",
   "id": "ec31674b",
   "metadata": {},
   "source": [
    "# DistanceFromHome vs. Attrition #"
   ]
  },
  {
   "cell_type": "code",
   "execution_count": 26,
   "id": "ad9dd231",
   "metadata": {},
   "outputs": [],
   "source": [
    "# Basic parameters\n",
    "att_yes = df.loc[df['Attrition'] == \"Yes\"]\n",
    "att_no = df.loc[df['Attrition'] == \"No\"]"
   ]
  },
  {
   "cell_type": "code",
   "execution_count": 27,
   "id": "758fdf82",
   "metadata": {},
   "outputs": [],
   "source": [
    "# Kilometers bins\n",
    "powyzej1 = df.loc[df['DistanceFromHome'] >= 1]\n",
    "ponizej5 = df.loc[df['DistanceFromHome'] <= 5]\n",
    "powyzej6 = df.loc[df['DistanceFromHome'] >= 6]\n",
    "ponizej11 = df.loc[df['DistanceFromHome'] <= 11]\n",
    "powyzej12 = df.loc[df['DistanceFromHome'] >= 12]\n",
    "ponizej17 = df.loc[df['DistanceFromHome'] <= 17]\n",
    "powyzej18 = df.loc[df['DistanceFromHome'] >= 18]\n",
    "ponizej22 = df.loc[df['DistanceFromHome'] <= 22]\n",
    "powyzej23 = df.loc[df['DistanceFromHome'] >= 23]\n",
    "ponizej28 = df.loc[df['DistanceFromHome'] <= 28]"
   ]
  },
  {
   "cell_type": "code",
   "execution_count": 28,
   "id": "c150f1b6",
   "metadata": {},
   "outputs": [
    {
     "data": {
      "application/vnd.jupyter.widget-view+json": {
       "model_id": "18ca617812cf4ec6a593839931e21523",
       "version_major": 2,
       "version_minor": 0
      },
      "text/plain": [
       "FloatSlider(value=14.0, continuous_update=False, description='Distance to work: ', layout=Layout(width='70%'),…"
      ]
     },
     "metadata": {},
     "output_type": "display_data"
    }
   ],
   "source": [
    "style = {'description_width': '350px'}\n",
    "DFH_slider = widgets.FloatSlider(\n",
    "    value=14,\n",
    "    min=1,\n",
    "    max=29,\n",
    "    step=1,\n",
    "    description='Distance to work: ',\n",
    "    disabled=False,\n",
    "    continuous_update=False,\n",
    "    orientation='horizontal',\n",
    "    readout=True,\n",
    "    readout_format='d',\n",
    "    style=style,\n",
    "    layout = Layout(width=\"70%\")\n",
    ")\n",
    "DFH_slider"
   ]
  },
  {
   "cell_type": "code",
   "execution_count": 29,
   "id": "53558850",
   "metadata": {},
   "outputs": [],
   "source": [
    "# Function checking the attrition probability for distance from home\n",
    "def DFH_probability(input_DFH):\n",
    "    a = int(DFH_slider.value)\n",
    "    b = 'DistanceFromHome'\n",
    "\n",
    "    spraw = df.loc[df[b] == a]\n",
    "    sum_spraw = spraw + att_yes\n",
    "    sprawdz = sum_spraw['EmployeeCount'].count()\n",
    "\n",
    "    if sprawdz == 0:\n",
    "        if  23 <= a <= 28:\n",
    "            zm = (ponizej28 + powyzej23)\n",
    "        elif 18 <= a <= 22:\n",
    "            zm = (ponizej22 + powyzej18)\n",
    "        elif 12 <= a <= 17:\n",
    "            zm = (ponizej17 + powyzej12)\n",
    "        elif 6 <= a <= 11:\n",
    "            zm = (ponizej11 + powyzej6)\n",
    "        elif 1 <= a <= 5:\n",
    "            zm = (ponizej5 + powyzej1)\n",
    "    elif sprawdz != 0:\n",
    "        zm = df.loc[df[b] == a] \n",
    "        \n",
    "    sum_yes = zm + att_yes\n",
    "    sum_no = zm + att_no\n",
    "    sum_all = sum_yes['EmployeeCount'].count() + sum_no['EmployeeCount'].count()\n",
    "    pDFH = sum_yes['EmployeeCount'].count() / sum_all\n",
    "    return pDFH"
   ]
  },
  {
   "cell_type": "markdown",
   "id": "a0374ff3",
   "metadata": {},
   "source": [
    "# TrainingTimesLastYear vs. Attrition #"
   ]
  },
  {
   "cell_type": "code",
   "execution_count": 30,
   "id": "725d9c02",
   "metadata": {},
   "outputs": [
    {
     "data": {
      "text/html": [
       "<div>\n",
       "<style scoped>\n",
       "    .dataframe tbody tr th:only-of-type {\n",
       "        vertical-align: middle;\n",
       "    }\n",
       "\n",
       "    .dataframe tbody tr th {\n",
       "        vertical-align: top;\n",
       "    }\n",
       "\n",
       "    .dataframe thead th {\n",
       "        text-align: right;\n",
       "    }\n",
       "</style>\n",
       "<table border=\"1\" class=\"dataframe\">\n",
       "  <thead>\n",
       "    <tr style=\"text-align: right;\">\n",
       "      <th>TrainingTimesLastYear</th>\n",
       "      <th>0</th>\n",
       "      <th>1</th>\n",
       "      <th>2</th>\n",
       "      <th>3</th>\n",
       "      <th>4</th>\n",
       "      <th>5</th>\n",
       "      <th>6</th>\n",
       "    </tr>\n",
       "    <tr>\n",
       "      <th>Attrition</th>\n",
       "      <th></th>\n",
       "      <th></th>\n",
       "      <th></th>\n",
       "      <th></th>\n",
       "      <th></th>\n",
       "      <th></th>\n",
       "      <th></th>\n",
       "    </tr>\n",
       "  </thead>\n",
       "  <tbody>\n",
       "    <tr>\n",
       "      <th>No</th>\n",
       "      <td>39</td>\n",
       "      <td>62</td>\n",
       "      <td>449</td>\n",
       "      <td>422</td>\n",
       "      <td>97</td>\n",
       "      <td>105</td>\n",
       "      <td>59</td>\n",
       "    </tr>\n",
       "    <tr>\n",
       "      <th>Yes</th>\n",
       "      <td>15</td>\n",
       "      <td>9</td>\n",
       "      <td>98</td>\n",
       "      <td>69</td>\n",
       "      <td>26</td>\n",
       "      <td>14</td>\n",
       "      <td>6</td>\n",
       "    </tr>\n",
       "  </tbody>\n",
       "</table>\n",
       "</div>"
      ],
      "text/plain": [
       "TrainingTimesLastYear   0   1    2    3   4    5   6\n",
       "Attrition                                           \n",
       "No                     39  62  449  422  97  105  59\n",
       "Yes                    15   9   98   69  26   14   6"
      ]
     },
     "execution_count": 30,
     "metadata": {},
     "output_type": "execute_result"
    }
   ],
   "source": [
    "# Pivot table for a number of trainings in the last year\n",
    "TTLY = pd.crosstab(df_ds[\"Attrition\"], df_ds[\"TrainingTimesLastYear\"]) \n",
    "TTLY"
   ]
  },
  {
   "cell_type": "code",
   "execution_count": 31,
   "id": "e6b94a60",
   "metadata": {},
   "outputs": [],
   "source": [
    "# Number of employees that left a company vs. the number of trainings in the last year\n",
    "# Create a copy of dataframe with Attrition=Yes\n",
    "df_ds_TTLY_YES = df_ds[df_ds[\"Attrition\"]==\"Yes\"].copy()\n",
    "# Count the employees that left the company\n",
    "df_ds_TTLY_YES_only = df_ds_TTLY_YES.groupby(by=\"TrainingTimesLastYear\").count() [\"Attrition\"].reset_index()\n",
    "# Change the name of column Attrition -> Atttrition_YES\n",
    "df_ds_TTLY_YES_only = df_ds_TTLY_YES_only.rename(columns = {\"Attrition\":\"Attrition_YES\"})\n",
    "# df_ds_TTLY_YES_only"
   ]
  },
  {
   "cell_type": "code",
   "execution_count": 32,
   "id": "2bed48d2",
   "metadata": {},
   "outputs": [],
   "source": [
    "# Number of employees that stayed in a company vs. the number of trainings in the last year\n",
    "# Create a copy of dataframe with Attrition=No\n",
    "df_ds_TTLY_NO = df_ds[df_ds[\"Attrition\"]==\"No\"].copy()\n",
    "# Count the employees that stayed in a company\n",
    "df_ds_TTLY_NO_only = df_ds_TTLY_NO.groupby(by=\"TrainingTimesLastYear\").count() [\"Attrition\"].reset_index()\n",
    "# Change the name of column Attrition -> Atttrition_NO\n",
    "df_ds_TTLY_NO_only = df_ds_TTLY_NO_only.rename(columns = {\"Attrition\":\"Attrition_NO\"})\n",
    "# df_ds_TTLY_NO_only"
   ]
  },
  {
   "cell_type": "code",
   "execution_count": 33,
   "id": "6a7db46c",
   "metadata": {},
   "outputs": [
    {
     "name": "stdout",
     "output_type": "stream",
     "text": [
      "   TrainingTimesLastYear  Attrition_YES  Attrition_NO  Yes+No  Probability_YES\n",
      "0                      0             15            39      54         0.277778\n",
      "1                      1              9            62      71         0.126761\n",
      "2                      2             98           449     547         0.179159\n",
      "3                      3             69           422     491         0.140530\n",
      "4                      4             26            97     123         0.211382\n",
      "5                      5             14           105     119         0.117647\n",
      "6                      6              6            59      65         0.092308\n"
     ]
    }
   ],
   "source": [
    "# Merge tables with trainings and attrition both YES and NO\n",
    "df_ds_TTLY_Y_N = pd.merge(df_ds_TTLY_YES_only, df_ds_TTLY_NO_only, on=\"TrainingTimesLastYear\", how=\"left\")\n",
    "# Reset index\n",
    "df_ds_TTLY_Y_N.reset_index()\n",
    "# Add a column with total number of employees\n",
    "df_ds_TTLY_Y_N[\"Yes+No\"] = df_ds_TTLY_Y_N[\"Attrition_YES\"] + df_ds_TTLY_Y_N[\"Attrition_NO\"]\n",
    "# Add a column with probability of leaving a company\n",
    "df_ds_TTLY_Y_N[\"Probability_YES\"] = df_ds_TTLY_Y_N[\"Attrition_YES\"]/df_ds_TTLY_Y_N[\"Yes+No\"]\n",
    "print(df_ds_TTLY_Y_N)"
   ]
  },
  {
   "cell_type": "code",
   "execution_count": 34,
   "id": "f455185f",
   "metadata": {},
   "outputs": [
    {
     "data": {
      "application/vnd.jupyter.widget-view+json": {
       "model_id": "5a2eea6eb52e41d98f6f91a1e01085de",
       "version_major": 2,
       "version_minor": 0
      },
      "text/plain": [
       "HBox(children=(IntSlider(value=0, continuous_update=False, description='Number of trainings in last year:', la…"
      ]
     },
     "metadata": {},
     "output_type": "display_data"
    }
   ],
   "source": [
    "# Characteristics of slider for number of trainings in the last year\n",
    "\n",
    "from IPython.display import display\n",
    "\n",
    "\n",
    "style = {'description_width': '350px'}\n",
    "TTLY_slider = IntSlider(\n",
    "    value=0,\n",
    "    min=0,\n",
    "    max=6,\n",
    "    step=1,\n",
    "    description='Number of trainings in last year:',\n",
    "    disabled=False,\n",
    "    continuous_update=False,\n",
    "    orientation='horizontal',\n",
    "    readout=True,\n",
    "    readout_format='d',\n",
    "    style = style,\n",
    "    layout = Layout(width='70%')\n",
    ")\n",
    "\n",
    "# display(TTLY_slider)\n",
    "HBox([TTLY_slider])"
   ]
  },
  {
   "cell_type": "code",
   "execution_count": 35,
   "id": "62d5effb",
   "metadata": {},
   "outputs": [],
   "source": [
    "# Function checking the attrition probability for number of trainings in the last year\n",
    "def TTLY_probability(input_TTLY):  \n",
    "    TrainNo = input_TTLY.value\n",
    "    Attr_Y_prob = df_ds_TTLY_Y_N.loc[df_ds_TTLY_Y_N[\"TrainingTimesLastYear\"]==TrainNo, \"Probability_YES\"]\n",
    "    pTTLY = Attr_Y_prob[TrainNo]\n",
    "    return pTTLY"
   ]
  },
  {
   "cell_type": "code",
   "execution_count": 36,
   "id": "4bec5292",
   "metadata": {},
   "outputs": [
    {
     "data": {
      "application/vnd.jupyter.widget-view+json": {
       "model_id": "4b75872f56954c5aac28fcb7acfef0d7",
       "version_major": 2,
       "version_minor": 0
      },
      "text/plain": [
       "interactive(children=(IntSlider(value=0, continuous_update=False, description='Number of trainings in last yea…"
      ]
     },
     "metadata": {},
     "output_type": "display_data"
    },
    {
     "data": {
      "text/plain": [
       "<function __main__.value_handler(v)>"
      ]
     },
     "execution_count": 36,
     "metadata": {},
     "output_type": "execute_result"
    }
   ],
   "source": [
    "# Slider connected with value_handler function returning probability\n",
    "def value_handler(v):\n",
    "    TrainNo = TTLY_slider.value\n",
    "    Attr_Y_prob = df_ds_TTLY_Y_N.loc[df_ds_TTLY_Y_N[\"TrainingTimesLastYear\"]==TrainNo, \"Probability_YES\"]\n",
    "    print(\"Prawdopodobieństwo odejścia z firmy wynosi: {}\".format(Attr_Y_prob[TrainNo]))\n",
    "\n",
    "\n",
    "widgets.interact(value_handler, v=TTLY_slider)"
   ]
  },
  {
   "cell_type": "markdown",
   "id": "e9b2f341",
   "metadata": {},
   "source": [
    "# YearsAtCompany vs. Attrition #"
   ]
  },
  {
   "cell_type": "code",
   "execution_count": 37,
   "id": "20bd7586",
   "metadata": {},
   "outputs": [
    {
     "data": {
      "text/html": [
       "<div>\n",
       "<style scoped>\n",
       "    .dataframe tbody tr th:only-of-type {\n",
       "        vertical-align: middle;\n",
       "    }\n",
       "\n",
       "    .dataframe tbody tr th {\n",
       "        vertical-align: top;\n",
       "    }\n",
       "\n",
       "    .dataframe thead th {\n",
       "        text-align: right;\n",
       "    }\n",
       "</style>\n",
       "<table border=\"1\" class=\"dataframe\">\n",
       "  <thead>\n",
       "    <tr style=\"text-align: right;\">\n",
       "      <th>YearsAtCompany</th>\n",
       "      <th>0</th>\n",
       "      <th>1</th>\n",
       "      <th>2</th>\n",
       "      <th>3</th>\n",
       "      <th>4</th>\n",
       "      <th>5</th>\n",
       "      <th>6</th>\n",
       "      <th>7</th>\n",
       "      <th>8</th>\n",
       "      <th>9</th>\n",
       "      <th>...</th>\n",
       "      <th>27</th>\n",
       "      <th>29</th>\n",
       "      <th>30</th>\n",
       "      <th>31</th>\n",
       "      <th>32</th>\n",
       "      <th>33</th>\n",
       "      <th>34</th>\n",
       "      <th>36</th>\n",
       "      <th>37</th>\n",
       "      <th>40</th>\n",
       "    </tr>\n",
       "    <tr>\n",
       "      <th>Attrition</th>\n",
       "      <th></th>\n",
       "      <th></th>\n",
       "      <th></th>\n",
       "      <th></th>\n",
       "      <th></th>\n",
       "      <th></th>\n",
       "      <th></th>\n",
       "      <th></th>\n",
       "      <th></th>\n",
       "      <th></th>\n",
       "      <th></th>\n",
       "      <th></th>\n",
       "      <th></th>\n",
       "      <th></th>\n",
       "      <th></th>\n",
       "      <th></th>\n",
       "      <th></th>\n",
       "      <th></th>\n",
       "      <th></th>\n",
       "      <th></th>\n",
       "      <th></th>\n",
       "    </tr>\n",
       "  </thead>\n",
       "  <tbody>\n",
       "    <tr>\n",
       "      <th>No</th>\n",
       "      <td>28</td>\n",
       "      <td>112</td>\n",
       "      <td>100</td>\n",
       "      <td>108</td>\n",
       "      <td>91</td>\n",
       "      <td>175</td>\n",
       "      <td>67</td>\n",
       "      <td>79</td>\n",
       "      <td>71</td>\n",
       "      <td>74</td>\n",
       "      <td>...</td>\n",
       "      <td>2</td>\n",
       "      <td>2</td>\n",
       "      <td>1</td>\n",
       "      <td>2</td>\n",
       "      <td>2</td>\n",
       "      <td>4</td>\n",
       "      <td>1</td>\n",
       "      <td>2</td>\n",
       "      <td>1</td>\n",
       "      <td>0</td>\n",
       "    </tr>\n",
       "    <tr>\n",
       "      <th>Yes</th>\n",
       "      <td>16</td>\n",
       "      <td>59</td>\n",
       "      <td>27</td>\n",
       "      <td>20</td>\n",
       "      <td>19</td>\n",
       "      <td>21</td>\n",
       "      <td>9</td>\n",
       "      <td>11</td>\n",
       "      <td>9</td>\n",
       "      <td>8</td>\n",
       "      <td>...</td>\n",
       "      <td>0</td>\n",
       "      <td>0</td>\n",
       "      <td>0</td>\n",
       "      <td>1</td>\n",
       "      <td>1</td>\n",
       "      <td>1</td>\n",
       "      <td>0</td>\n",
       "      <td>0</td>\n",
       "      <td>0</td>\n",
       "      <td>1</td>\n",
       "    </tr>\n",
       "  </tbody>\n",
       "</table>\n",
       "<p>2 rows × 37 columns</p>\n",
       "</div>"
      ],
      "text/plain": [
       "YearsAtCompany  0    1    2    3   4    5   6   7   8   9   ...  27  29  30  \\\n",
       "Attrition                                                   ...               \n",
       "No              28  112  100  108  91  175  67  79  71  74  ...   2   2   1   \n",
       "Yes             16   59   27   20  19   21   9  11   9   8  ...   0   0   0   \n",
       "\n",
       "YearsAtCompany  31  32  33  34  36  37  40  \n",
       "Attrition                                   \n",
       "No               2   2   4   1   2   1   0  \n",
       "Yes              1   1   1   0   0   0   1  \n",
       "\n",
       "[2 rows x 37 columns]"
      ]
     },
     "execution_count": 37,
     "metadata": {},
     "output_type": "execute_result"
    }
   ],
   "source": [
    "YAC = pd.crosstab(df_ds[\"Attrition\"], df_ds[\"YearsAtCompany\"]) # Tabela przestawna dla lat przepracowanych w firmie\n",
    "YAC"
   ]
  },
  {
   "cell_type": "code",
   "execution_count": 38,
   "id": "d083a25d",
   "metadata": {},
   "outputs": [
    {
     "data": {
      "text/plain": [
       "40"
      ]
     },
     "execution_count": 38,
     "metadata": {},
     "output_type": "execute_result"
    }
   ],
   "source": [
    "df_ds[\"YearsAtCompany\"].max()"
   ]
  },
  {
   "cell_type": "code",
   "execution_count": 39,
   "id": "e665de3f",
   "metadata": {},
   "outputs": [
    {
     "name": "stdout",
     "output_type": "stream",
     "text": [
      "YearsAtCompany  Attrition\n",
      "0               No            28\n",
      "                Yes           16\n",
      "1               No           112\n",
      "                Yes           59\n",
      "2               No           100\n",
      "                            ... \n",
      "33              Yes            1\n",
      "34              No             1\n",
      "36              No             2\n",
      "37              No             1\n",
      "40              Yes            1\n",
      "Name: StockOptionLevel, Length: 64, dtype: int64\n"
     ]
    }
   ],
   "source": [
    "print(df_ds.groupby(by=[\"YearsAtCompany\", \"Attrition\"]).count()[\"StockOptionLevel\"])"
   ]
  },
  {
   "cell_type": "code",
   "execution_count": 40,
   "id": "7d0f5446",
   "metadata": {},
   "outputs": [
    {
     "data": {
      "text/plain": [
       "(-1, 3]     122\n",
       "(3, 7]       60\n",
       "(7, 10]      35\n",
       "(10, 30]     16\n",
       "Name: YearsAtCompany_bins, dtype: int64"
      ]
     },
     "execution_count": 40,
     "metadata": {},
     "output_type": "execute_result"
    }
   ],
   "source": [
    "# Create copy of df_ds with Attrition and YearsAtCompany only\n",
    "df_ds_YAC_YES = df_ds.loc[df_ds[\"Attrition\"]==\"Yes\", [\"Attrition\", \"YearsAtCompany\"]].copy()\n",
    "# Gather data in bins to avoid empty values\n",
    "df_ds_YAC_YES[\"YearsAtCompany_bins\"] = pd.cut(df_ds_YAC_YES[\"YearsAtCompany\"], bins=[-1,3,7,10,30])\n",
    "df_ds_YAC_YES[\"YearsAtCompany_bins\"].value_counts()"
   ]
  },
  {
   "cell_type": "code",
   "execution_count": 41,
   "id": "c2d7db70",
   "metadata": {},
   "outputs": [],
   "source": [
    "# Number of employees that left a company vs. the number of years worked in a company\n",
    "# Create a copy of dataframe with Attrition=Yes\n",
    "df_ds_YAC_YES = df_ds[df_ds[\"Attrition\"]==\"Yes\"].copy()\n",
    "df_ds_YAC_YES[\"YearsAtCompany_bins\"] = pd.cut(df_ds_YAC_YES[\"YearsAtCompany\"], bins=[-1,3,7,10,30])\n",
    "# Count the employees that left the company\n",
    "df_ds_YAC_YES_only = df_ds_YAC_YES.groupby(by=\"YearsAtCompany_bins\").count() [\"Attrition\"].reset_index()\n",
    "# Change the name of column Attrition -> Atttrition_YES\n",
    "df_ds_YAC_YES_only = df_ds_YAC_YES_only.rename(columns = {\"Attrition\":\"Attrition_YES\"})\n",
    "# df_ds_YAC_YES_only"
   ]
  },
  {
   "cell_type": "code",
   "execution_count": 42,
   "id": "8b98eb12",
   "metadata": {},
   "outputs": [],
   "source": [
    "# Number of employees that stayed in a company vs. the number of years worked in a company\n",
    "# Create a copy of dataframe with Attrition=No\n",
    "df_ds_YAC_NO = df_ds[df_ds[\"Attrition\"]==\"No\"].copy()\n",
    "df_ds_YAC_NO[\"YearsAtCompany_bins\"] = pd.cut(df_ds_YAC_NO[\"YearsAtCompany\"], bins=[-1,3,7,10,30])\n",
    "# Count the employees that stayed in a company\n",
    "df_ds_YAC_NO_only = df_ds_YAC_NO.groupby(by=\"YearsAtCompany_bins\").count() [\"Attrition\"].reset_index()\n",
    "# Change the name of column Attrition -> Atttrition_NO\n",
    "df_ds_YAC_NO_only = df_ds_YAC_NO_only.rename(columns = {\"Attrition\":\"Attrition_NO\"})\n",
    "# df_ds_YAC_NO_only"
   ]
  },
  {
   "cell_type": "code",
   "execution_count": 43,
   "id": "583f5a12",
   "metadata": {},
   "outputs": [
    {
     "data": {
      "text/html": [
       "<div>\n",
       "<style scoped>\n",
       "    .dataframe tbody tr th:only-of-type {\n",
       "        vertical-align: middle;\n",
       "    }\n",
       "\n",
       "    .dataframe tbody tr th {\n",
       "        vertical-align: top;\n",
       "    }\n",
       "\n",
       "    .dataframe thead th {\n",
       "        text-align: right;\n",
       "    }\n",
       "</style>\n",
       "<table border=\"1\" class=\"dataframe\">\n",
       "  <thead>\n",
       "    <tr style=\"text-align: right;\">\n",
       "      <th></th>\n",
       "      <th>YearsAtCompany_bins</th>\n",
       "      <th>Attrition_YES</th>\n",
       "      <th>Attrition_NO</th>\n",
       "      <th>Yes+No</th>\n",
       "      <th>Probability_YES</th>\n",
       "    </tr>\n",
       "  </thead>\n",
       "  <tbody>\n",
       "    <tr>\n",
       "      <th>0</th>\n",
       "      <td>(-1, 3]</td>\n",
       "      <td>122</td>\n",
       "      <td>348</td>\n",
       "      <td>470</td>\n",
       "      <td>0.259574</td>\n",
       "    </tr>\n",
       "    <tr>\n",
       "      <th>1</th>\n",
       "      <td>(3, 7]</td>\n",
       "      <td>60</td>\n",
       "      <td>412</td>\n",
       "      <td>472</td>\n",
       "      <td>0.127119</td>\n",
       "    </tr>\n",
       "    <tr>\n",
       "      <th>2</th>\n",
       "      <td>(7, 10]</td>\n",
       "      <td>35</td>\n",
       "      <td>247</td>\n",
       "      <td>282</td>\n",
       "      <td>0.124113</td>\n",
       "    </tr>\n",
       "    <tr>\n",
       "      <th>3</th>\n",
       "      <td>(10, 30]</td>\n",
       "      <td>16</td>\n",
       "      <td>214</td>\n",
       "      <td>230</td>\n",
       "      <td>0.069565</td>\n",
       "    </tr>\n",
       "  </tbody>\n",
       "</table>\n",
       "</div>"
      ],
      "text/plain": [
       "  YearsAtCompany_bins  Attrition_YES  Attrition_NO  Yes+No  Probability_YES\n",
       "0             (-1, 3]            122           348     470         0.259574\n",
       "1              (3, 7]             60           412     472         0.127119\n",
       "2             (7, 10]             35           247     282         0.124113\n",
       "3            (10, 30]             16           214     230         0.069565"
      ]
     },
     "execution_count": 43,
     "metadata": {},
     "output_type": "execute_result"
    }
   ],
   "source": [
    "# Merge tables with trainings and attrition both YES and NO\n",
    "df_ds_YAC_Y_N = pd.merge(df_ds_YAC_YES_only, df_ds_YAC_NO_only, on=\"YearsAtCompany_bins\", how=\"left\")\n",
    "# Reset index\n",
    "df_ds_YAC_Y_N.reset_index()\n",
    "# Add a column with total number of employees\n",
    "df_ds_YAC_Y_N[\"Yes+No\"] = df_ds_YAC_Y_N[\"Attrition_YES\"] + df_ds_YAC_Y_N[\"Attrition_NO\"]\n",
    "# Add a column with probability of leaving a company\n",
    "df_ds_YAC_Y_N[\"Probability_YES\"] = df_ds_YAC_Y_N[\"Attrition_YES\"]/df_ds_YAC_Y_N[\"Yes+No\"]\n",
    "df_ds_YAC_Y_N"
   ]
  },
  {
   "cell_type": "code",
   "execution_count": 44,
   "id": "70473198",
   "metadata": {},
   "outputs": [
    {
     "data": {
      "application/vnd.jupyter.widget-view+json": {
       "model_id": "5e9d1d12b9fe4c5c8eaa40aa61dbf86d",
       "version_major": 2,
       "version_minor": 0
      },
      "text/plain": [
       "HBox(children=(ToggleButtons(description=' Number of years in a company:', layout=Layout(width='90%'), options…"
      ]
     },
     "metadata": {},
     "output_type": "display_data"
    }
   ],
   "source": [
    "# Characteristics of slider for the number of years worked in a company\n",
    "from IPython.display import display\n",
    "from ipywidgets import HBox, Label\n",
    "\n",
    "style = {'description_width': '350px'}\n",
    "YAC_toggle = widgets.ToggleButtons(\n",
    "    options=['(0-3>', '(3-7>', '(7-10>', '(10-30)'],\n",
    "    description=' Number of years in a company:',\n",
    "    disabled=False,\n",
    "    button_style='',\n",
    "    style = style,\n",
    "    layout = Layout(width='90%')\n",
    ")\n",
    "\n",
    "# display(YAC_slider)\n",
    "HBox([YAC_toggle])"
   ]
  },
  {
   "cell_type": "code",
   "execution_count": 45,
   "id": "39a0f008",
   "metadata": {},
   "outputs": [],
   "source": [
    "# Function checking the attrition probability for numbers spent in a company \n",
    "def YAC_probability(input_YAC):\n",
    "    if input_YAC.value == \"(0-3>\":\n",
    "        CompYearsNo = 0 #\"(-1, 3]\"\n",
    "    elif input_YAC.value == \"(3-7>\":\n",
    "        CompYearsNo = 1 #\"(3, 7]\"\n",
    "    elif input_YAC.value == \"(7-10>\":\n",
    "        CompYearsNo = 2 #\"(7, 10]\"\n",
    "    else:\n",
    "        CompYearsNo = 3 #\"(10, 30]\"\n",
    "    pYAC = df_ds_YAC_Y_N.loc[int(CompYearsNo), \"Probability_YES\"]\n",
    "    return pYAC\n",
    "# print(pYAC)\n",
    "# print(\"pYAC: {}\".format(df_ds_YAC_Y_N.loc[int(CompYearsNo), \"Probability_YES\"]))\n",
    "# print(type(pYAC))"
   ]
  },
  {
   "cell_type": "code",
   "execution_count": 46,
   "id": "e3b82e3c",
   "metadata": {},
   "outputs": [
    {
     "data": {
      "application/vnd.jupyter.widget-view+json": {
       "model_id": "76fad3dba3b94f0f831989746191ded8",
       "version_major": 2,
       "version_minor": 0
      },
      "text/plain": [
       "interactive(children=(ToggleButtons(description=' Number of years in a company:', layout=Layout(width='90%'), …"
      ]
     },
     "metadata": {},
     "output_type": "display_data"
    },
    {
     "data": {
      "text/plain": [
       "<function __main__.value_handler(v)>"
      ]
     },
     "execution_count": 46,
     "metadata": {},
     "output_type": "execute_result"
    }
   ],
   "source": [
    "# Nie mogłem się odwołać do tego pogrupowanego indexu, więc zamieniłem na wartości z indexu podstawowego\n",
    "def value_handler(v):\n",
    "    if YAC_toggle.value == \"(0-3>\":\n",
    "        CYearsNo = 0 #\"(-1, 3]\"\n",
    "    elif YAC_toggle.value == \"(3-7>\":\n",
    "        CYearsNo = 1 #\"(3, 7]\"\n",
    "    elif YAC_toggle.value == \"(7-10>\":\n",
    "        CYearsNo = 2 #\"(7, 10]\"\n",
    "    else:\n",
    "        CYearsNo = 3 #\"(10, 30]\"\n",
    "    \n",
    "    print(\"Prawdopodobieństwo odejścia z firmy wynosi: {}\".format(df_ds_YAC_Y_N.loc[int(CYearsNo), \"Probability_YES\"]))\n",
    "\n",
    "\n",
    "widgets.interact(value_handler, v=YAC_toggle)"
   ]
  },
  {
   "cell_type": "markdown",
   "id": "284e3bc7",
   "metadata": {},
   "source": [
    "# YearsInCurrentRole vs. Attrition #"
   ]
  },
  {
   "cell_type": "code",
   "execution_count": 47,
   "id": "3b2cc855",
   "metadata": {},
   "outputs": [
    {
     "data": {
      "text/html": [
       "<div>\n",
       "<style scoped>\n",
       "    .dataframe tbody tr th:only-of-type {\n",
       "        vertical-align: middle;\n",
       "    }\n",
       "\n",
       "    .dataframe tbody tr th {\n",
       "        vertical-align: top;\n",
       "    }\n",
       "\n",
       "    .dataframe thead th {\n",
       "        text-align: right;\n",
       "    }\n",
       "</style>\n",
       "<table border=\"1\" class=\"dataframe\">\n",
       "  <thead>\n",
       "    <tr style=\"text-align: right;\">\n",
       "      <th>YearsInCurrentRole</th>\n",
       "      <th>0</th>\n",
       "      <th>1</th>\n",
       "      <th>2</th>\n",
       "      <th>3</th>\n",
       "      <th>4</th>\n",
       "      <th>5</th>\n",
       "      <th>6</th>\n",
       "      <th>7</th>\n",
       "      <th>8</th>\n",
       "      <th>9</th>\n",
       "      <th>10</th>\n",
       "      <th>11</th>\n",
       "      <th>12</th>\n",
       "      <th>13</th>\n",
       "      <th>14</th>\n",
       "      <th>15</th>\n",
       "      <th>16</th>\n",
       "      <th>17</th>\n",
       "      <th>18</th>\n",
       "    </tr>\n",
       "    <tr>\n",
       "      <th>Attrition</th>\n",
       "      <th></th>\n",
       "      <th></th>\n",
       "      <th></th>\n",
       "      <th></th>\n",
       "      <th></th>\n",
       "      <th></th>\n",
       "      <th></th>\n",
       "      <th></th>\n",
       "      <th></th>\n",
       "      <th></th>\n",
       "      <th></th>\n",
       "      <th></th>\n",
       "      <th></th>\n",
       "      <th></th>\n",
       "      <th></th>\n",
       "      <th></th>\n",
       "      <th></th>\n",
       "      <th></th>\n",
       "      <th></th>\n",
       "    </tr>\n",
       "  </thead>\n",
       "  <tbody>\n",
       "    <tr>\n",
       "      <th>No</th>\n",
       "      <td>171</td>\n",
       "      <td>46</td>\n",
       "      <td>304</td>\n",
       "      <td>119</td>\n",
       "      <td>89</td>\n",
       "      <td>35</td>\n",
       "      <td>35</td>\n",
       "      <td>191</td>\n",
       "      <td>82</td>\n",
       "      <td>61</td>\n",
       "      <td>27</td>\n",
       "      <td>22</td>\n",
       "      <td>9</td>\n",
       "      <td>13</td>\n",
       "      <td>10</td>\n",
       "      <td>6</td>\n",
       "      <td>7</td>\n",
       "      <td>4</td>\n",
       "      <td>2</td>\n",
       "    </tr>\n",
       "    <tr>\n",
       "      <th>Yes</th>\n",
       "      <td>73</td>\n",
       "      <td>11</td>\n",
       "      <td>68</td>\n",
       "      <td>16</td>\n",
       "      <td>15</td>\n",
       "      <td>1</td>\n",
       "      <td>2</td>\n",
       "      <td>31</td>\n",
       "      <td>7</td>\n",
       "      <td>6</td>\n",
       "      <td>2</td>\n",
       "      <td>0</td>\n",
       "      <td>1</td>\n",
       "      <td>1</td>\n",
       "      <td>1</td>\n",
       "      <td>2</td>\n",
       "      <td>0</td>\n",
       "      <td>0</td>\n",
       "      <td>0</td>\n",
       "    </tr>\n",
       "  </tbody>\n",
       "</table>\n",
       "</div>"
      ],
      "text/plain": [
       "YearsInCurrentRole   0   1    2    3   4   5   6    7   8   9   10  11  12  \\\n",
       "Attrition                                                                    \n",
       "No                  171  46  304  119  89  35  35  191  82  61  27  22   9   \n",
       "Yes                  73  11   68   16  15   1   2   31   7   6   2   0   1   \n",
       "\n",
       "YearsInCurrentRole  13  14  15  16  17  18  \n",
       "Attrition                                   \n",
       "No                  13  10   6   7   4   2  \n",
       "Yes                  1   1   2   0   0   0  "
      ]
     },
     "execution_count": 47,
     "metadata": {},
     "output_type": "execute_result"
    }
   ],
   "source": [
    "YICR = pd.crosstab(df_ds[\"Attrition\"], df_ds[\"YearsInCurrentRole\"]) # Tabela przestawna dla lat przepracowanych na obecnym stanowisku\n",
    "YICR"
   ]
  },
  {
   "cell_type": "code",
   "execution_count": 48,
   "id": "aa894200",
   "metadata": {},
   "outputs": [
    {
     "name": "stdout",
     "output_type": "stream",
     "text": [
      "YearsInCurrentRole  Attrition\n",
      "0                   No           171\n",
      "                    Yes           73\n",
      "1                   No            46\n",
      "                    Yes           11\n",
      "2                   No           304\n",
      "                    Yes           68\n",
      "3                   No           119\n",
      "                    Yes           16\n",
      "4                   No            89\n",
      "                    Yes           15\n",
      "5                   No            35\n",
      "                    Yes            1\n",
      "6                   No            35\n",
      "                    Yes            2\n",
      "7                   No           191\n",
      "                    Yes           31\n",
      "8                   No            82\n",
      "                    Yes            7\n",
      "9                   No            61\n",
      "                    Yes            6\n",
      "10                  No            27\n",
      "                    Yes            2\n",
      "11                  No            22\n",
      "12                  No             9\n",
      "                    Yes            1\n",
      "13                  No            13\n",
      "                    Yes            1\n",
      "14                  No            10\n",
      "                    Yes            1\n",
      "15                  No             6\n",
      "                    Yes            2\n",
      "16                  No             7\n",
      "17                  No             4\n",
      "18                  No             2\n",
      "Name: StockOptionLevel, dtype: int64\n"
     ]
    }
   ],
   "source": [
    "print(df_ds.groupby(by=[\"YearsInCurrentRole\", \"Attrition\"]).count()[\"StockOptionLevel\"])"
   ]
  },
  {
   "cell_type": "code",
   "execution_count": 49,
   "id": "d04b225b",
   "metadata": {},
   "outputs": [
    {
     "data": {
      "text/plain": [
       "(-1, 3]    168\n",
       "(3, 7]      49\n",
       "(7, 18]     20\n",
       "Name: YearsInCurrentRole_bins, dtype: int64"
      ]
     },
     "execution_count": 49,
     "metadata": {},
     "output_type": "execute_result"
    }
   ],
   "source": [
    "# Create copy of df_ds with Attrition and YearsInCurrentRole only\n",
    "df_ds_YICR_YES = df_ds.loc[df_ds[\"Attrition\"]==\"Yes\", [\"Attrition\", \"YearsInCurrentRole\"]].copy()\n",
    "# Gather data in bins to avoid empty values\n",
    "df_ds_YICR_YES[\"YearsInCurrentRole_bins\"] = pd.cut(df_ds_YICR_YES[\"YearsInCurrentRole\"], bins=[-1,3,7,18])\n",
    "df_ds_YICR_YES[\"YearsInCurrentRole_bins\"].value_counts()"
   ]
  },
  {
   "cell_type": "code",
   "execution_count": 50,
   "id": "2429b981",
   "metadata": {},
   "outputs": [],
   "source": [
    "# Number of employees that left a company vs. the number of years worked at current position\n",
    "# Create a copy of dataframe with Attrition=Yes\n",
    "df_ds_YICR_YES = df_ds[df_ds[\"Attrition\"]==\"Yes\"].copy()\n",
    "df_ds_YICR_YES[\"YearsInCurrentRole_bins\"] = pd.cut(df_ds_YICR_YES[\"YearsInCurrentRole\"], bins=[-1,3,7,18])\n",
    "# Count the employees that left the company\n",
    "df_ds_YICR_YES_only = df_ds_YICR_YES.groupby(by=\"YearsInCurrentRole_bins\").count() [\"Attrition\"].reset_index()\n",
    "# Change the name of column Attrition -> Atttrition_YES\n",
    "df_ds_YICR_YES_only = df_ds_YICR_YES_only.rename(columns = {\"Attrition\":\"Attrition_YES\"})\n",
    "# df_ds_YAC_YES_only"
   ]
  },
  {
   "cell_type": "code",
   "execution_count": 51,
   "id": "7ace105d",
   "metadata": {},
   "outputs": [],
   "source": [
    "# Number of employees that stayed in a company vs. the number of years worked in a company\n",
    "# Create a copy of dataframe with Attrition=No\n",
    "df_ds_YICR_NO = df_ds[df_ds[\"Attrition\"]==\"No\"].copy()\n",
    "df_ds_YICR_NO[\"YearsInCurrentRole_bins\"] = pd.cut(df_ds_YICR_NO[\"YearsInCurrentRole\"], bins=[-1,3,7,18])\n",
    "# Count the employees that stayed in a company\n",
    "df_ds_YICR_NO_only = df_ds_YICR_NO.groupby(by=\"YearsInCurrentRole_bins\").count() [\"Attrition\"].reset_index()\n",
    "# Change the name of column Attrition -> Atttrition_NO\n",
    "df_ds_YICR_NO_only = df_ds_YICR_NO_only.rename(columns = {\"Attrition\":\"Attrition_NO\"})\n",
    "# df_ds_YAC_NO_only"
   ]
  },
  {
   "cell_type": "code",
   "execution_count": 52,
   "id": "46eee4e0",
   "metadata": {},
   "outputs": [
    {
     "data": {
      "text/html": [
       "<div>\n",
       "<style scoped>\n",
       "    .dataframe tbody tr th:only-of-type {\n",
       "        vertical-align: middle;\n",
       "    }\n",
       "\n",
       "    .dataframe tbody tr th {\n",
       "        vertical-align: top;\n",
       "    }\n",
       "\n",
       "    .dataframe thead th {\n",
       "        text-align: right;\n",
       "    }\n",
       "</style>\n",
       "<table border=\"1\" class=\"dataframe\">\n",
       "  <thead>\n",
       "    <tr style=\"text-align: right;\">\n",
       "      <th></th>\n",
       "      <th>YearsInCurrentRole_bins</th>\n",
       "      <th>Attrition_YES</th>\n",
       "      <th>Attrition_NO</th>\n",
       "      <th>Yes+No</th>\n",
       "      <th>Probability_YES</th>\n",
       "    </tr>\n",
       "  </thead>\n",
       "  <tbody>\n",
       "    <tr>\n",
       "      <th>0</th>\n",
       "      <td>(-1, 3]</td>\n",
       "      <td>168</td>\n",
       "      <td>640</td>\n",
       "      <td>808</td>\n",
       "      <td>0.207921</td>\n",
       "    </tr>\n",
       "    <tr>\n",
       "      <th>1</th>\n",
       "      <td>(3, 7]</td>\n",
       "      <td>49</td>\n",
       "      <td>350</td>\n",
       "      <td>399</td>\n",
       "      <td>0.122807</td>\n",
       "    </tr>\n",
       "    <tr>\n",
       "      <th>2</th>\n",
       "      <td>(7, 18]</td>\n",
       "      <td>20</td>\n",
       "      <td>243</td>\n",
       "      <td>263</td>\n",
       "      <td>0.076046</td>\n",
       "    </tr>\n",
       "  </tbody>\n",
       "</table>\n",
       "</div>"
      ],
      "text/plain": [
       "  YearsInCurrentRole_bins  Attrition_YES  Attrition_NO  Yes+No  \\\n",
       "0                 (-1, 3]            168           640     808   \n",
       "1                  (3, 7]             49           350     399   \n",
       "2                 (7, 18]             20           243     263   \n",
       "\n",
       "   Probability_YES  \n",
       "0         0.207921  \n",
       "1         0.122807  \n",
       "2         0.076046  "
      ]
     },
     "execution_count": 52,
     "metadata": {},
     "output_type": "execute_result"
    }
   ],
   "source": [
    "# Merge tables with trainings and attrition both YES and NO\n",
    "df_ds_YICR_Y_N = pd.merge(df_ds_YICR_YES_only, df_ds_YICR_NO_only, on=\"YearsInCurrentRole_bins\", how=\"left\")\n",
    "# Reset index\n",
    "df_ds_YICR_Y_N.reset_index()\n",
    "# Add a column with total number of employees\n",
    "df_ds_YICR_Y_N[\"Yes+No\"] = df_ds_YICR_Y_N[\"Attrition_YES\"] + df_ds_YICR_Y_N[\"Attrition_NO\"]\n",
    "# Add a column with probability of leaving a company\n",
    "df_ds_YICR_Y_N[\"Probability_YES\"] = df_ds_YICR_Y_N[\"Attrition_YES\"]/df_ds_YICR_Y_N[\"Yes+No\"]\n",
    "df_ds_YICR_Y_N"
   ]
  },
  {
   "cell_type": "code",
   "execution_count": 53,
   "id": "a0838f5c",
   "metadata": {},
   "outputs": [
    {
     "data": {
      "application/vnd.jupyter.widget-view+json": {
       "model_id": "bc97213573004379ac27458a73b78ecd",
       "version_major": 2,
       "version_minor": 0
      },
      "text/plain": [
       "HBox(children=(ToggleButtons(description='Number of years at current role:', layout=Layout(width='80%'), optio…"
      ]
     },
     "metadata": {},
     "output_type": "display_data"
    }
   ],
   "source": [
    "# Characteristics of slider for the number of years worked at current position\n",
    "from IPython.display import display\n",
    "from ipywidgets import HBox, Label\n",
    "\n",
    "style = {'description_width': '350px'}\n",
    "YICR_toggle = widgets.ToggleButtons(\n",
    "    options=['(0-3>', '(3-7>', '(7-18>'],\n",
    "    description='Number of years at current role:',\n",
    "    disabled=False,\n",
    "    button_style='',\n",
    "    style = style,\n",
    "    layout = Layout(width='80%')\n",
    ")\n",
    "\n",
    "# display(YICR_slider)\n",
    "HBox([YICR_toggle])"
   ]
  },
  {
   "cell_type": "code",
   "execution_count": 54,
   "id": "e43b4fd0",
   "metadata": {},
   "outputs": [],
   "source": [
    "# Function checking the attrition probability for number of years in current role\n",
    "def YICR_probability(input_YICR):\n",
    "    if input_YICR.value == \"(0-3>\":\n",
    "        RoleYearsNo = 0 #\"(-1, 3]\"\n",
    "    elif input_YICR.value == \"(3-7>\":\n",
    "        RoleYearsNo = 1 #\"(3, 7]\"\n",
    "    else:\n",
    "        RoleYearsNo = 2 #\"(7, 18]\"\n",
    "    pYICR = df_ds_YICR_Y_N.loc[int(RoleYearsNo), \"Probability_YES\"]\n",
    "    return pYICR\n",
    "    # print(pYICR)\n",
    "    # print(\"pYICR: {}\".format(df_ds_YICR_Y_N.loc[int(RoleYearsNo), \"Probability_YES\"]))"
   ]
  },
  {
   "cell_type": "code",
   "execution_count": 55,
   "id": "3a7ae96e",
   "metadata": {},
   "outputs": [
    {
     "data": {
      "application/vnd.jupyter.widget-view+json": {
       "model_id": "1100ff8b7f4144f3b9b1f75015ef9608",
       "version_major": 2,
       "version_minor": 0
      },
      "text/plain": [
       "interactive(children=(ToggleButtons(description='Number of years at current role:', layout=Layout(width='80%')…"
      ]
     },
     "metadata": {},
     "output_type": "display_data"
    },
    {
     "data": {
      "text/plain": [
       "<function __main__.value_handler(v)>"
      ]
     },
     "execution_count": 55,
     "metadata": {},
     "output_type": "execute_result"
    }
   ],
   "source": [
    "# Nie mogłem się odwołać do tego pogrupowanego indexu, więc zamieniłem na wartości z indexu podstawowego\n",
    "def value_handler(v):\n",
    "    if YICR_toggle.value == \"(0-3>\":\n",
    "        CYearsNo = 0 #\"(-1, 3]\"\n",
    "    elif YICR_toggle.value == \"(3-7>\":\n",
    "        CYearsNo = 1 #\"(3, 7]\"\n",
    "    else:\n",
    "        CYearsNo = 2 #\"(7, 18]\"\n",
    "    \n",
    "    print(\"Prawdopodobieństwo odejścia z firmy wynosi: {}\".format(df_ds_YICR_Y_N.loc[int(CYearsNo), \"Probability_YES\"]))\n",
    "\n",
    "\n",
    "widgets.interact(value_handler, v=YICR_toggle)"
   ]
  },
  {
   "cell_type": "markdown",
   "id": "f5b03c2e",
   "metadata": {},
   "source": [
    "# TotalWorkingYears vs. Attrition #"
   ]
  },
  {
   "cell_type": "code",
   "execution_count": 56,
   "id": "f98500a7",
   "metadata": {},
   "outputs": [
    {
     "data": {
      "text/html": [
       "<div>\n",
       "<style scoped>\n",
       "    .dataframe tbody tr th:only-of-type {\n",
       "        vertical-align: middle;\n",
       "    }\n",
       "\n",
       "    .dataframe tbody tr th {\n",
       "        vertical-align: top;\n",
       "    }\n",
       "\n",
       "    .dataframe thead th {\n",
       "        text-align: right;\n",
       "    }\n",
       "</style>\n",
       "<table border=\"1\" class=\"dataframe\">\n",
       "  <thead>\n",
       "    <tr style=\"text-align: right;\">\n",
       "      <th>TotalWorkingYears</th>\n",
       "      <th>0</th>\n",
       "      <th>1</th>\n",
       "      <th>2</th>\n",
       "      <th>3</th>\n",
       "      <th>4</th>\n",
       "      <th>5</th>\n",
       "      <th>6</th>\n",
       "      <th>7</th>\n",
       "      <th>8</th>\n",
       "      <th>9</th>\n",
       "      <th>...</th>\n",
       "      <th>30</th>\n",
       "      <th>31</th>\n",
       "      <th>32</th>\n",
       "      <th>33</th>\n",
       "      <th>34</th>\n",
       "      <th>35</th>\n",
       "      <th>36</th>\n",
       "      <th>37</th>\n",
       "      <th>38</th>\n",
       "      <th>40</th>\n",
       "    </tr>\n",
       "    <tr>\n",
       "      <th>Attrition</th>\n",
       "      <th></th>\n",
       "      <th></th>\n",
       "      <th></th>\n",
       "      <th></th>\n",
       "      <th></th>\n",
       "      <th></th>\n",
       "      <th></th>\n",
       "      <th></th>\n",
       "      <th></th>\n",
       "      <th></th>\n",
       "      <th></th>\n",
       "      <th></th>\n",
       "      <th></th>\n",
       "      <th></th>\n",
       "      <th></th>\n",
       "      <th></th>\n",
       "      <th></th>\n",
       "      <th></th>\n",
       "      <th></th>\n",
       "      <th></th>\n",
       "      <th></th>\n",
       "    </tr>\n",
       "  </thead>\n",
       "  <tbody>\n",
       "    <tr>\n",
       "      <th>No</th>\n",
       "      <td>6</td>\n",
       "      <td>41</td>\n",
       "      <td>22</td>\n",
       "      <td>33</td>\n",
       "      <td>51</td>\n",
       "      <td>72</td>\n",
       "      <td>103</td>\n",
       "      <td>63</td>\n",
       "      <td>87</td>\n",
       "      <td>86</td>\n",
       "      <td>...</td>\n",
       "      <td>7</td>\n",
       "      <td>8</td>\n",
       "      <td>9</td>\n",
       "      <td>6</td>\n",
       "      <td>4</td>\n",
       "      <td>3</td>\n",
       "      <td>6</td>\n",
       "      <td>4</td>\n",
       "      <td>1</td>\n",
       "      <td>0</td>\n",
       "    </tr>\n",
       "    <tr>\n",
       "      <th>Yes</th>\n",
       "      <td>5</td>\n",
       "      <td>40</td>\n",
       "      <td>9</td>\n",
       "      <td>9</td>\n",
       "      <td>12</td>\n",
       "      <td>16</td>\n",
       "      <td>22</td>\n",
       "      <td>18</td>\n",
       "      <td>16</td>\n",
       "      <td>10</td>\n",
       "      <td>...</td>\n",
       "      <td>0</td>\n",
       "      <td>1</td>\n",
       "      <td>0</td>\n",
       "      <td>1</td>\n",
       "      <td>1</td>\n",
       "      <td>0</td>\n",
       "      <td>0</td>\n",
       "      <td>0</td>\n",
       "      <td>0</td>\n",
       "      <td>2</td>\n",
       "    </tr>\n",
       "  </tbody>\n",
       "</table>\n",
       "<p>2 rows × 40 columns</p>\n",
       "</div>"
      ],
      "text/plain": [
       "TotalWorkingYears  0   1   2   3   4   5    6   7   8   9   ...  30  31  32  \\\n",
       "Attrition                                                   ...               \n",
       "No                  6  41  22  33  51  72  103  63  87  86  ...   7   8   9   \n",
       "Yes                 5  40   9   9  12  16   22  18  16  10  ...   0   1   0   \n",
       "\n",
       "TotalWorkingYears  33  34  35  36  37  38  40  \n",
       "Attrition                                      \n",
       "No                  6   4   3   6   4   1   0  \n",
       "Yes                 1   1   0   0   0   0   2  \n",
       "\n",
       "[2 rows x 40 columns]"
      ]
     },
     "execution_count": 56,
     "metadata": {},
     "output_type": "execute_result"
    }
   ],
   "source": [
    "TWY = pd.crosstab(df_ds[\"Attrition\"], df_ds[\"TotalWorkingYears\"]) # Tabela przestawna dla lat przepracowanych na obecnym stanowisku\n",
    "TWY"
   ]
  },
  {
   "cell_type": "code",
   "execution_count": 57,
   "id": "2ae6ceb8",
   "metadata": {},
   "outputs": [
    {
     "name": "stdout",
     "output_type": "stream",
     "text": [
      "TotalWorkingYears  Attrition\n",
      "0                  No           6 \n",
      "                   Yes          5 \n",
      "1                  No           41\n",
      "                   Yes          40\n",
      "2                  No           22\n",
      "                                ..\n",
      "35                 No           3 \n",
      "36                 No           6 \n",
      "37                 No           4 \n",
      "38                 No           1 \n",
      "40                 Yes          2 \n",
      "Name: YearsAtCompany, Length: 71, dtype: int64\n"
     ]
    },
    {
     "name": "stderr",
     "output_type": "stream",
     "text": [
      "<ipython-input-57-8f4ed39b1095>:5: FutureWarning: Passing a negative integer is deprecated in version 1.0 and will not be supported in future version. Instead, use None to not limit the column width.\n",
      "  pd.set_option('display.max_colwidth', -1)\n"
     ]
    }
   ],
   "source": [
    "# Settings to display full dataframe date\n",
    "pd.set_option('display.max_rows', 50)\n",
    "pd.set_option('display.max_columns', 12)\n",
    "pd.set_option('display.width', None)\n",
    "pd.set_option('display.max_colwidth', -1)\n",
    "\n",
    "print(df_ds.groupby(by=[\"TotalWorkingYears\", \"Attrition\"]).count()[\"YearsAtCompany\"])"
   ]
  },
  {
   "cell_type": "code",
   "execution_count": 58,
   "id": "d17391a5",
   "metadata": {},
   "outputs": [
    {
     "data": {
      "text/plain": [
       "(3, 7]      68\n",
       "(7, 12]     63\n",
       "(-1, 3]     63\n",
       "(12, 20]    27\n",
       "(20, 40]    16\n",
       "Name: TotalWorkingYears_bins, dtype: int64"
      ]
     },
     "execution_count": 58,
     "metadata": {},
     "output_type": "execute_result"
    }
   ],
   "source": [
    "# Create copy of df_ds with Attrition and YearsInCurrentRole only\n",
    "df_ds_TWY_YES = df_ds.loc[df_ds[\"Attrition\"]==\"Yes\", [\"Attrition\", \"TotalWorkingYears\"]].copy()\n",
    "# Gather data in bins to avoid empty values\n",
    "df_ds_TWY_YES[\"TotalWorkingYears_bins\"] = pd.cut(df_ds_TWY_YES[\"TotalWorkingYears\"], bins=[-1,3,7,12,20,40])\n",
    "df_ds_TWY_YES[\"TotalWorkingYears_bins\"].value_counts()"
   ]
  },
  {
   "cell_type": "code",
   "execution_count": 59,
   "id": "665cc62b",
   "metadata": {},
   "outputs": [],
   "source": [
    "# Number of employees that left a company vs. the number of years worked at current position\n",
    "# Create a copy of dataframe with Attrition=Yes\n",
    "df_ds_TWY_YES = df_ds[df_ds[\"Attrition\"]==\"Yes\"].copy()\n",
    "df_ds_TWY_YES[\"TotalWorkingYears_bins\"] = pd.cut(df_ds_TWY_YES[\"TotalWorkingYears\"], bins=[-1,3,7,12,20,40])\n",
    "# Count the employees that left the company\n",
    "df_ds_TWY_YES_only = df_ds_TWY_YES.groupby(by=\"TotalWorkingYears_bins\").count() [\"Attrition\"].reset_index()\n",
    "# Change the name of column Attrition -> Atttrition_YES\n",
    "df_ds_TWY_YES_only = df_ds_TWY_YES_only.rename(columns = {\"Attrition\":\"Attrition_YES\"})\n",
    "# df_ds_YAC_YES_only"
   ]
  },
  {
   "cell_type": "code",
   "execution_count": 60,
   "id": "9ae54498",
   "metadata": {},
   "outputs": [],
   "source": [
    "# Number of employees that stayed in a company vs. the number of years worked in a company\n",
    "# Create a copy of dataframe with Attrition=No\n",
    "df_ds_TWY_NO = df_ds[df_ds[\"Attrition\"]==\"No\"].copy()\n",
    "df_ds_TWY_NO[\"TotalWorkingYears_bins\"] = pd.cut(df_ds_TWY_NO[\"TotalWorkingYears\"], bins=[-1,3,7,12,20,40])\n",
    "# Count the employees that stayed in a company\n",
    "df_ds_TWY_NO_only = df_ds_TWY_NO.groupby(by=\"TotalWorkingYears_bins\").count() [\"Attrition\"].reset_index()\n",
    "# Change the name of column Attrition -> Atttrition_NO\n",
    "df_ds_TWY_NO_only = df_ds_TWY_NO_only.rename(columns = {\"Attrition\":\"Attrition_NO\"})\n",
    "# df_ds_YAC_NO_only"
   ]
  },
  {
   "cell_type": "code",
   "execution_count": 61,
   "id": "5d96cbbf",
   "metadata": {},
   "outputs": [
    {
     "data": {
      "text/html": [
       "<div>\n",
       "<style scoped>\n",
       "    .dataframe tbody tr th:only-of-type {\n",
       "        vertical-align: middle;\n",
       "    }\n",
       "\n",
       "    .dataframe tbody tr th {\n",
       "        vertical-align: top;\n",
       "    }\n",
       "\n",
       "    .dataframe thead th {\n",
       "        text-align: right;\n",
       "    }\n",
       "</style>\n",
       "<table border=\"1\" class=\"dataframe\">\n",
       "  <thead>\n",
       "    <tr style=\"text-align: right;\">\n",
       "      <th></th>\n",
       "      <th>TotalWorkingYears_bins</th>\n",
       "      <th>Attrition_YES</th>\n",
       "      <th>Attrition_NO</th>\n",
       "      <th>Yes+No</th>\n",
       "      <th>Probability_YES</th>\n",
       "    </tr>\n",
       "  </thead>\n",
       "  <tbody>\n",
       "    <tr>\n",
       "      <th>0</th>\n",
       "      <td>(-1, 3]</td>\n",
       "      <td>63</td>\n",
       "      <td>102</td>\n",
       "      <td>165</td>\n",
       "      <td>0.381818</td>\n",
       "    </tr>\n",
       "    <tr>\n",
       "      <th>1</th>\n",
       "      <td>(3, 7]</td>\n",
       "      <td>68</td>\n",
       "      <td>289</td>\n",
       "      <td>357</td>\n",
       "      <td>0.190476</td>\n",
       "    </tr>\n",
       "    <tr>\n",
       "      <th>2</th>\n",
       "      <td>(7, 12]</td>\n",
       "      <td>63</td>\n",
       "      <td>422</td>\n",
       "      <td>485</td>\n",
       "      <td>0.129897</td>\n",
       "    </tr>\n",
       "    <tr>\n",
       "      <th>3</th>\n",
       "      <td>(12, 20]</td>\n",
       "      <td>27</td>\n",
       "      <td>229</td>\n",
       "      <td>256</td>\n",
       "      <td>0.105469</td>\n",
       "    </tr>\n",
       "    <tr>\n",
       "      <th>4</th>\n",
       "      <td>(20, 40]</td>\n",
       "      <td>16</td>\n",
       "      <td>191</td>\n",
       "      <td>207</td>\n",
       "      <td>0.077295</td>\n",
       "    </tr>\n",
       "  </tbody>\n",
       "</table>\n",
       "</div>"
      ],
      "text/plain": [
       "  TotalWorkingYears_bins  Attrition_YES  Attrition_NO  Yes+No  Probability_YES\n",
       "0  (-1, 3]                63             102           165     0.381818       \n",
       "1  (3, 7]                 68             289           357     0.190476       \n",
       "2  (7, 12]                63             422           485     0.129897       \n",
       "3  (12, 20]               27             229           256     0.105469       \n",
       "4  (20, 40]               16             191           207     0.077295       "
      ]
     },
     "execution_count": 61,
     "metadata": {},
     "output_type": "execute_result"
    }
   ],
   "source": [
    "# Merge tables with trainings and attrition both YES and NO\n",
    "df_ds_TWY_Y_N = pd.merge(df_ds_TWY_YES_only, df_ds_TWY_NO_only, on=\"TotalWorkingYears_bins\", how=\"left\")\n",
    "# Reset index\n",
    "df_ds_TWY_Y_N.reset_index()\n",
    "# Add a column with total number of employees\n",
    "df_ds_TWY_Y_N[\"Yes+No\"] = df_ds_TWY_Y_N[\"Attrition_YES\"] + df_ds_TWY_Y_N[\"Attrition_NO\"]\n",
    "# Add a column with probability of leaving a company\n",
    "df_ds_TWY_Y_N[\"Probability_YES\"] = df_ds_TWY_Y_N[\"Attrition_YES\"]/df_ds_TWY_Y_N[\"Yes+No\"]\n",
    "df_ds_TWY_Y_N"
   ]
  },
  {
   "cell_type": "code",
   "execution_count": 62,
   "id": "837c1cdb",
   "metadata": {},
   "outputs": [
    {
     "data": {
      "application/vnd.jupyter.widget-view+json": {
       "model_id": "775252c5fa094a3ab47d550d8cf72cc0",
       "version_major": 2,
       "version_minor": 0
      },
      "text/plain": [
       "HBox(children=(ToggleButtons(description='Number of working years: ', layout=Layout(width='100%'), options=('(…"
      ]
     },
     "metadata": {},
     "output_type": "display_data"
    }
   ],
   "source": [
    "# Characteristics of slider for the number of years worked in total\n",
    "from IPython.display import display\n",
    "from ipywidgets import HBox, Label\n",
    "\n",
    "style = {'description_width': '350px'}\n",
    "TWY_toggle = widgets.ToggleButtons(\n",
    "    options=['(0-3>', '(3-7>', '(7-12>', '(12-20>', '(20-40>'],\n",
    "    description='Number of working years: ',\n",
    "    disabled=False,\n",
    "    button_style='',\n",
    "    style = style,\n",
    "    layout = Layout(width='100%')\n",
    ")\n",
    "\n",
    "# display(TWS_slider)\n",
    "HBox([TWY_toggle])"
   ]
  },
  {
   "cell_type": "code",
   "execution_count": 63,
   "id": "01b40c8f",
   "metadata": {},
   "outputs": [],
   "source": [
    "# FUnction checking the attrition probability for total working years\n",
    "def TWY_probability(input_TWY):\n",
    "    if input_TWY.value == \"(0-3>\":\n",
    "        WorkYearsNo = 0 #\"(-1, 3]\"\n",
    "    elif input_TWY.value == \"(3-7>\":\n",
    "        WorkYearsNo = 1 #\"(3, 7]\"\n",
    "    elif input_TWY.value == \"(7-12>\":\n",
    "        WorkYearsNo = 2 #\"(7, 12]\"\n",
    "    elif input_TWY.value == \"(12-20>\":\n",
    "        WorkYearsNo = 3 #\"(12, 20]\"  \n",
    "    else:\n",
    "        WorkYearsNo = 4 #\"(20, 40]\"\n",
    "    pTWY = df_ds_TWY_Y_N.loc[int(WorkYearsNo), \"Probability_YES\"]\n",
    "    return pTWY\n",
    "    # print(pTWY)\n",
    "    # print(\"pTWY: {}\".format(df_ds_TWY_Y_N.loc[int(WorkYearsNo), \"Probability_YES\"]))"
   ]
  },
  {
   "cell_type": "code",
   "execution_count": 64,
   "id": "68dd146b",
   "metadata": {},
   "outputs": [
    {
     "data": {
      "application/vnd.jupyter.widget-view+json": {
       "model_id": "e9f9a614619145839bb8c42edf1cb2e1",
       "version_major": 2,
       "version_minor": 0
      },
      "text/plain": [
       "interactive(children=(ToggleButtons(description='Number of working years: ', layout=Layout(width='100%'), opti…"
      ]
     },
     "metadata": {},
     "output_type": "display_data"
    },
    {
     "data": {
      "text/plain": [
       "<function __main__.TWY_prob(v)>"
      ]
     },
     "execution_count": 64,
     "metadata": {},
     "output_type": "execute_result"
    }
   ],
   "source": [
    "# Nie mogłem się odwołać do tego pogrupowanego indexu, więc zamieniłem na wartości z indexu podstawowego\n",
    "def TWY_prob(v):\n",
    "    if TWY_toggle.value == \"(0-3>\":\n",
    "        CYearsNo = 0 #\"(-1, 3]\"\n",
    "    elif TWY_toggle.value == \"(3-7>\":\n",
    "        CYearsNo = 1 #\"(3, 7]\"\n",
    "    elif TWY_toggle.value == \"(7-12>\":\n",
    "        CYearsNo = 2 #\"(7, 12]\"\n",
    "    elif TWY_toggle.value == \"(12-20>\":\n",
    "        CYearsNo = 3 #\"(12, 20]\"  \n",
    "    else:\n",
    "        CYearsNo = 4 #\"(20, 40]\"\n",
    "    \n",
    "    print(\"Prawdopodobieństwo odejścia z firmy wynosi: {}\".format(df_ds_TWY_Y_N.loc[int(CYearsNo), \"Probability_YES\"]))\n",
    "\n",
    "\n",
    "widgets.interact(TWY_prob, v=TWY_toggle)"
   ]
  },
  {
   "cell_type": "code",
   "execution_count": null,
   "id": "955d1bda",
   "metadata": {},
   "outputs": [],
   "source": []
  },
  {
   "cell_type": "markdown",
   "id": "29db6d9e",
   "metadata": {},
   "source": [
    "# StockOptionLevel vs. Attrition #"
   ]
  },
  {
   "cell_type": "code",
   "execution_count": 65,
   "id": "45c07245",
   "metadata": {},
   "outputs": [
    {
     "data": {
      "text/html": [
       "<div>\n",
       "<style scoped>\n",
       "    .dataframe tbody tr th:only-of-type {\n",
       "        vertical-align: middle;\n",
       "    }\n",
       "\n",
       "    .dataframe tbody tr th {\n",
       "        vertical-align: top;\n",
       "    }\n",
       "\n",
       "    .dataframe thead th {\n",
       "        text-align: right;\n",
       "    }\n",
       "</style>\n",
       "<table border=\"1\" class=\"dataframe\">\n",
       "  <thead>\n",
       "    <tr style=\"text-align: right;\">\n",
       "      <th>StockOptionLevel</th>\n",
       "      <th>0</th>\n",
       "      <th>1</th>\n",
       "      <th>2</th>\n",
       "      <th>3</th>\n",
       "    </tr>\n",
       "    <tr>\n",
       "      <th>Attrition</th>\n",
       "      <th></th>\n",
       "      <th></th>\n",
       "      <th></th>\n",
       "      <th></th>\n",
       "    </tr>\n",
       "  </thead>\n",
       "  <tbody>\n",
       "    <tr>\n",
       "      <th>No</th>\n",
       "      <td>477</td>\n",
       "      <td>540</td>\n",
       "      <td>146</td>\n",
       "      <td>70</td>\n",
       "    </tr>\n",
       "    <tr>\n",
       "      <th>Yes</th>\n",
       "      <td>154</td>\n",
       "      <td>56</td>\n",
       "      <td>12</td>\n",
       "      <td>15</td>\n",
       "    </tr>\n",
       "  </tbody>\n",
       "</table>\n",
       "</div>"
      ],
      "text/plain": [
       "StockOptionLevel    0    1    2   3\n",
       "Attrition                          \n",
       "No                477  540  146  70\n",
       "Yes               154  56   12   15"
      ]
     },
     "execution_count": 65,
     "metadata": {},
     "output_type": "execute_result"
    }
   ],
   "source": [
    "# Pivot table for the level of stock options\n",
    "SOL = pd.crosstab(df_ds[\"Attrition\"], df_ds[\"StockOptionLevel\"]) \n",
    "SOL"
   ]
  },
  {
   "cell_type": "code",
   "execution_count": 66,
   "id": "5b3051a2",
   "metadata": {},
   "outputs": [],
   "source": [
    "# Number of employees that left a company vs. the level of options for stock\n",
    "# Create a copy of dataframe with Attrition=Yes\n",
    "df_ds_SOL_YES = df_ds[df_ds[\"Attrition\"]==\"Yes\"].copy()\n",
    "# Count the employees that left the company\n",
    "df_ds_SOL_YES_only = df_ds_SOL_YES.groupby(by=\"StockOptionLevel\").count() [\"Attrition\"].reset_index()\n",
    "# Change the name of column Attrition -> Atttrition_YES\n",
    "df_ds_SOL_YES_only = df_ds_SOL_YES_only.rename(columns = {\"Attrition\":\"Attrition_YES\"})\n",
    "# df_ds_SOL_YES_only"
   ]
  },
  {
   "cell_type": "code",
   "execution_count": 67,
   "id": "4a94e570",
   "metadata": {},
   "outputs": [],
   "source": [
    "# Number of employees that stayed in a company vs. the level of options for stock\n",
    "# Create a copy of dataframe with Attrition=No\n",
    "df_ds_SOL_NO = df_ds[df_ds[\"Attrition\"]==\"No\"].copy()\n",
    "# Count the employees that stayed in a company\n",
    "df_ds_SOL_NO_only = df_ds_SOL_NO.groupby(by=\"StockOptionLevel\").count() [\"Attrition\"].reset_index()\n",
    "# Change the name of column Attrition -> Atttrition_NO\n",
    "df_ds_SOL_NO_only = df_ds_SOL_NO_only.rename(columns = {\"Attrition\":\"Attrition_NO\"})\n",
    "# df_ds_TTLY_NO_only"
   ]
  },
  {
   "cell_type": "code",
   "execution_count": 68,
   "id": "c046b052",
   "metadata": {},
   "outputs": [
    {
     "name": "stdout",
     "output_type": "stream",
     "text": [
      "   StockOptionLevel  Attrition_YES  Attrition_NO  Yes+No  Probability_YES\n",
      "0  0                 154            477           631     0.244057       \n",
      "1  1                 56             540           596     0.093960       \n",
      "2  2                 12             146           158     0.075949       \n",
      "3  3                 15             70            85      0.176471       \n"
     ]
    }
   ],
   "source": [
    "# Merge tables with trainings and attrition both YES and NO\n",
    "df_ds_SOL_Y_N = pd.merge(df_ds_SOL_YES_only, df_ds_SOL_NO_only, on=\"StockOptionLevel\", how=\"left\")\n",
    "# Reset index\n",
    "df_ds_SOL_Y_N.reset_index()\n",
    "# Add a column with total number of employees\n",
    "df_ds_SOL_Y_N[\"Yes+No\"] = df_ds_SOL_Y_N[\"Attrition_YES\"] + df_ds_SOL_Y_N[\"Attrition_NO\"]\n",
    "# Add a column with probability of leaving a company\n",
    "df_ds_SOL_Y_N[\"Probability_YES\"] = df_ds_SOL_Y_N[\"Attrition_YES\"]/df_ds_SOL_Y_N[\"Yes+No\"]\n",
    "print(df_ds_SOL_Y_N)"
   ]
  },
  {
   "cell_type": "code",
   "execution_count": 69,
   "id": "5f022ff1",
   "metadata": {},
   "outputs": [
    {
     "data": {
      "application/vnd.jupyter.widget-view+json": {
       "model_id": "7d6e0806c742461e80caf6b6841cc49c",
       "version_major": 2,
       "version_minor": 0
      },
      "text/plain": [
       "HBox(children=(IntSlider(value=0, continuous_update=False, description='Stock level option: ', layout=Layout(w…"
      ]
     },
     "metadata": {},
     "output_type": "display_data"
    }
   ],
   "source": [
    "# Characteristics of slider for the level of options for stock\n",
    "\n",
    "from IPython.display import display\n",
    "from ipywidgets import HBox, Label\n",
    "\n",
    "style = {'description_width': '350px'}\n",
    "SOL_slider = widgets.IntSlider(\n",
    "    value=0,\n",
    "    min=0,\n",
    "    max=3,\n",
    "    step=1,\n",
    "    description='Stock level option: ',\n",
    "    disabled=False,\n",
    "    continuous_update=False,\n",
    "    orientation='horizontal',\n",
    "    readout=True,\n",
    "    readout_format='d',\n",
    "    style=style,\n",
    "    layout=Layout(width='50%')\n",
    ")\n",
    "\n",
    "# display(TTLY_slider)\n",
    "HBox([SOL_slider])"
   ]
  },
  {
   "cell_type": "code",
   "execution_count": 70,
   "id": "98bdc8b7",
   "metadata": {},
   "outputs": [],
   "source": [
    "# Function checking the attrition probability for stock option level\n",
    "def SOL_probability(input_SOL):\n",
    "    StockL = input_SOL.value\n",
    "    Attr_Y_prob = df_ds_SOL_Y_N.loc[df_ds_SOL_Y_N[\"StockOptionLevel\"]==StockL, \"Probability_YES\"]\n",
    "    pSOL = Attr_Y_prob[StockL]\n",
    "    return pSOL\n",
    "    # print(pSOL)\n",
    "    # print(\"pSOL: {}\".format(Attr_Y_prob[StockL]))"
   ]
  },
  {
   "cell_type": "code",
   "execution_count": 71,
   "id": "cb9a4f2d",
   "metadata": {},
   "outputs": [
    {
     "data": {
      "application/vnd.jupyter.widget-view+json": {
       "model_id": "1912ee8cf0e74f3fad0069051b518a01",
       "version_major": 2,
       "version_minor": 0
      },
      "text/plain": [
       "interactive(children=(IntSlider(value=0, continuous_update=False, description='Stock level option: ', layout=L…"
      ]
     },
     "metadata": {},
     "output_type": "display_data"
    }
   ],
   "source": [
    "# Slider connected with value_handler function returning probability\n",
    "def SOL_prob(v):\n",
    "    TrainNo = SOL_slider.value\n",
    "    Attr_Y_prob = df_ds_SOL_Y_N.loc[df_ds_SOL_Y_N[\"StockOptionLevel\"]==TrainNo, \"Probability_YES\"]\n",
    "    print(\"Prawdopodobieństwo odejścia z firmy wynosi: {}\".format(Attr_Y_prob[TrainNo]))\n",
    "\n",
    "\n",
    "widgets.interactive(SOL_prob, v=SOL_slider)"
   ]
  },
  {
   "cell_type": "markdown",
   "id": "c2f96329",
   "metadata": {},
   "source": [
    "# PROBABILITIES #"
   ]
  },
  {
   "cell_type": "code",
   "execution_count": 72,
   "id": "ba7ff92a",
   "metadata": {},
   "outputs": [
    {
     "data": {
      "application/vnd.jupyter.widget-view+json": {
       "model_id": "ec3aec21a9074a9bb3b135e7a8abab08",
       "version_major": 2,
       "version_minor": 0
      },
      "text/plain": [
       "VBox(children=(Dropdown(description='Sex: ', index=1, layout=Layout(width='40%'), options=(('Female', 'Female'…"
      ]
     },
     "metadata": {},
     "output_type": "display_data"
    },
    {
     "data": {
      "application/vnd.jupyter.widget-view+json": {
       "model_id": "e3e97e4380c84fb1936ba6b5f9364b66",
       "version_major": 2,
       "version_minor": 0
      },
      "text/plain": [
       "Output()"
      ]
     },
     "metadata": {},
     "output_type": "display_data"
    }
   ],
   "source": [
    "# All widgets together in VBox\n",
    "from ipywidgets import Box \n",
    "from IPython.display import display, clear_output\n",
    "def probabilities(input_GENDER, input_AGE, input_WLB, input_JS, input_ES, input_PR, input_OT, input_DFH, input_TTLY, input_YAC, input_YICR, input_TWY, input_SOL):\n",
    "    \n",
    "# Check the attrition probability for GENDER\n",
    "    pGENDER = GENDER_probability(GENDER_dropdown)\n",
    "    # print(\"pGENDER: {}\".format(pGENDER))\n",
    "# Check the attrition probability for AGE\n",
    "    pAGE = AGE_probability(AGE_slider)\n",
    "    # print(\"pAGE: {}\".format(pAGE))\n",
    "# Check the attrition probability for WLB\n",
    "    pWLB = WLB_probability(WLB_slider)\n",
    "    # print(\"pWLB: {}\".format(pWLB))\n",
    "# Check the attrition probability for JS\n",
    "    pJS = JS_probability(JS_slider)\n",
    "    # print(\"pJS: {}\".format(pJS))\n",
    "# Check the attrition probability for ES\n",
    "    pES = ES_probability(ES_slider)\n",
    "    # print(\"pES: {}\".format(pES))\n",
    "# Check the attrition probability for PR\n",
    "    pPR = PR_probability(PR_slider)\n",
    "    # print(\"pPR: {}\".format(pPR))\n",
    "# Check the attrition probability for OT\n",
    "    pOT = OT_probability(OT_dropdown)\n",
    "    # print(\"pOT: {}\".format(pOT))\n",
    "# Check the attrition probability for DFH\n",
    "    pDFH = DFH_probability(DFH_slider)\n",
    "    # print(\"pDFH: {}\".format(pDFH))\n",
    "# Check the attrition probability for TTLY\n",
    "    pTTLY = TTLY_probability(TTLY_slider)\n",
    "    # print(\"pTTLY: {}\".format(pTTLY))\n",
    "# Check the attrition probability for YAC\n",
    "    pYAC = YAC_probability(YAC_toggle)\n",
    "    # print(\"pYAC: {}\".format(pYAC))\n",
    "# Check the attrition probability for YICR\n",
    "    pYICR = YICR_probability(YICR_toggle)\n",
    "    # print(\"pYICR: {}\".format(pYICR))\n",
    "# Check the attrition probability for TWY\n",
    "    pTWY = TWY_probability(TWY_toggle)\n",
    "    # print(\"pTWY: {}\".format(pTWY))\n",
    "# Check the attrition probability for SOL\n",
    "    pSOL = SOL_probability(SOL_slider)\n",
    "    # print(\"pSOL: {}\".format(pSOL))\n",
    "    \n",
    "    \n",
    "# Weighted average\n",
    "    with wynik:\n",
    "        clear_output()\n",
    "        probs_list = [pGENDER, pAGE, pWLB, pJS, pES, pPR, pOT, pDFH, pTTLY, pYAC, pYICR, pTWY, pSOL] # probability list\n",
    "        # print(probs_list)\n",
    "        probs_weights = [4.625, 4.625, 5, 5, 5, 4, 5, 4, 4, 4.625, 4.625, 4.625, 4.625] # weights list\n",
    "        # print(probs_weights)\n",
    "        probs_weighted = [a * b for a, b in zip(probs_list, probs_weights)] # weighted probabilities\n",
    "        # print(probs_weighted)\n",
    "        \n",
    "    \n",
    "        probs_wmean = sum(probs_weighted)/sum(probs_weights)\n",
    "        if probs_wmean > 0.20:\n",
    "            fontcolor1 = \"red\"\n",
    "        else:\n",
    "            fontcolor1 = \"green\"\n",
    "        html1text = \"<h2><font color = {}>Weighted attrition probability: {:.4f}</font></h2>\".format(fontcolor1, probs_wmean)\n",
    "        html1 = widgets.HTML(value=html1text)\n",
    "        display(html1)\n",
    "\n",
    "        probs_mean = statistics.mean(probs_list)\n",
    "        if probs_mean > 0.20:\n",
    "            fontcolor2 = \"red\"\n",
    "        else:\n",
    "            fontcolor2 = \"green\"\n",
    "        html2text = \"<h2><font color = {}>Attrition probability: {:.4f}</font></h2>\".format(fontcolor2, probs_wmean)\n",
    "        html2 = widgets.HTML(value=html2text)\n",
    "        display(html2)\n",
    "\n",
    "# Display widgets\n",
    "wynik = widgets.Output(layout={'border': '3px solid cyan'}) # A frame for outputs\n",
    "ui = widgets.VBox([GENDER_dropdown, AGE_slider, WLB_slider, JS_slider, ES_slider, PR_slider, OT_dropdown, DFH_slider, TTLY_slider, YAC_toggle, YICR_toggle, TWY_toggle, SOL_slider, wynik])\n",
    "# Send inputs to function reading probabilities\n",
    "out = widgets.interactive_output(probabilities, {'input_GENDER':GENDER_dropdown, 'input_AGE':AGE_slider, 'input_WLB':WLB_slider,'input_JS':JS_slider,'input_ES':ES_slider,'input_PR':PR_slider,'input_OT':OT_dropdown,'input_DFH':DFH_slider, 'input_TTLY':TTLY_slider, 'input_YAC':YAC_toggle, 'input_YICR':YICR_toggle, 'input_TWY':TWY_toggle, 'input_SOL':SOL_slider})\n",
    "\n",
    "\n",
    "display(ui, out)\n"
   ]
  },
  {
   "cell_type": "code",
   "execution_count": null,
   "id": "5be6d1cd",
   "metadata": {},
   "outputs": [],
   "source": []
  },
  {
   "cell_type": "code",
   "execution_count": null,
   "id": "7b475b4f",
   "metadata": {},
   "outputs": [],
   "source": []
  },
  {
   "cell_type": "code",
   "execution_count": null,
   "id": "a58ea08f",
   "metadata": {},
   "outputs": [],
   "source": []
  }
 ],
 "metadata": {
  "kernelspec": {
   "display_name": "Python 3",
   "language": "python",
   "name": "python3"
  },
  "language_info": {
   "codemirror_mode": {
    "name": "ipython",
    "version": 3
   },
   "file_extension": ".py",
   "mimetype": "text/x-python",
   "name": "python",
   "nbconvert_exporter": "python",
   "pygments_lexer": "ipython3",
   "version": "3.8.5"
  }
 },
 "nbformat": 4,
 "nbformat_minor": 5
}
