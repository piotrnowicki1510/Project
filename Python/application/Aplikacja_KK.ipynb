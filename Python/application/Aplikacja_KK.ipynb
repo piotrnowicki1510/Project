{
 "cells": [
  {
   "cell_type": "code",
   "execution_count": 2,
   "metadata": {},
   "outputs": [],
   "source": [
    "import pandas as pd\n",
    "import matplotlib.pyplot as plt\n",
    "import ipywidgets as widgets"
   ]
  },
  {
   "cell_type": "code",
   "execution_count": 4,
   "metadata": {},
   "outputs": [],
   "source": [
    "df = pd.read_csv(\"WA_Fn-UseC_-HR-Employee-Attrition.csv\")"
   ]
  },
  {
   "cell_type": "code",
   "execution_count": 5,
   "metadata": {},
   "outputs": [],
   "source": [
    "#podstawowe parametry\n",
    "female = df.loc[df['Gender'] == \"Female\"]\n",
    "male = df.loc[df['Gender'] == \"Male\"]\n",
    "att_yes = df.loc[df['Attrition'] == \"Yes\"]\n",
    "att_no = df.loc[df['Attrition'] == \"No\"]"
   ]
  },
  {
   "cell_type": "code",
   "execution_count": 6,
   "metadata": {},
   "outputs": [],
   "source": [
    "#przedialy wiekowe\n",
    "powyzej18 = df.loc[df['Age'] >= 18]\n",
    "ponizej26 = df.loc[df['Age'] <= 26]\n",
    "powyzej27 = df.loc[df['Age'] >= 27]\n",
    "ponizej35 = df.loc[df['Age'] <= 35]\n",
    "powyzej36 = df.loc[df['Age'] >= 36]\n",
    "ponizej44 = df.loc[df['Age'] <= 44]\n",
    "powyzej45 = df.loc[df['Age'] >= 45]\n",
    "ponizej53 = df.loc[df['Age'] <= 53]\n",
    "powyzej54 = df.loc[df['Age'] >= 54]\n",
    "ponizej62 = df.loc[df['Age'] <= 62]"
   ]
  },
  {
   "cell_type": "code",
   "execution_count": 7,
   "metadata": {},
   "outputs": [
    {
     "data": {
      "image/png": "[encoded data removed]",
      "text/plain": [
       "<Figure size 432x288 with 1 Axes>"
      ]
     },
     "metadata": {
      "needs_background": "light"
     },
     "output_type": "display_data"
    }
   ],
   "source": [
    "group = df[['Age', 'EmployeeCount']].groupby(by = 'Age').count()\n",
    "group['Age'] = group.index.get_level_values('Age')\n",
    "\n",
    "wykres = group.plot(\"Age\", \"EmployeeCount\")"
   ]
  },
  {
   "cell_type": "code",
   "execution_count": 20,
   "metadata": {},
   "outputs": [
    {
     "data": {
      "application/vnd.jupyter.widget-view+json": {
       "model_id": "16e72b0a2c934a9db057e075eca08566",
       "version_major": 2,
       "version_minor": 0
      },
      "text/plain": [
       "FloatSlider(value=18.0, continuous_update=False, description='Podaj wiek: ', max=60.0, min=18.0, readout_forma…"
      ]
     },
     "metadata": {},
     "output_type": "display_data"
    }
   ],
   "source": [
    "slider_widget = widgets.FloatSlider(\n",
    "    value=18,\n",
    "    min=18,\n",
    "    max=60,\n",
    "    step=1,\n",
    "    description='Podaj wiek: ',\n",
    "    disabled=False,\n",
    "    continuous_update=False,\n",
    "    orientation='horizontal',\n",
    "    readout=True,\n",
    "    readout_format='d',\n",
    ")\n",
    "slider_widget"
   ]
  },
  {
   "cell_type": "code",
   "execution_count": 21,
   "metadata": {},
   "outputs": [
    {
     "name": "stdout",
     "output_type": "stream",
     "text": [
      "Prawdopodobieństwo odejścia z firmy, przy podanym wieku: 18, wynosi: 0.5.\n"
     ]
    }
   ],
   "source": [
    "x = int(slider_widget.value)\n",
    "y = 'Age'\n",
    "\n",
    "sprawdzana = df.loc[df[y] == x]\n",
    "suma_spraw = sprawdzana + att_yes\n",
    "sprawdzenie = suma_spraw['EmployeeCount'].count()\n",
    "\n",
    "if sprawdzenie == 0:\n",
    "    if  54 <= x <= 62:\n",
    "        zmienna = (ponizej62 + powyzej54)\n",
    "    elif 45 <= x <= 53:\n",
    "        zmienna = (ponizej53 + powyzej45)\n",
    "    elif 36 <= x <= 44:\n",
    "        zmienna = (ponizej53 + powyzej45)\n",
    "    elif 27 <= x <= 35:\n",
    "        zmienna = (ponizej53 + powyzej45)\n",
    "    elif 18 <= x <= 26:\n",
    "        zmienna = (ponizej53 + powyzej45)\n",
    "    elif 45 <= x <= 53:\n",
    "        zmienna = (ponizej53 + powyzej45)\n",
    "elif sprawdzenie != 0:\n",
    "    zmienna = df.loc[df[y] == x] \n",
    "    \n",
    "suma_yes = zmienna + att_yes\n",
    "suma_no = zmienna + att_no\n",
    "suma_cal = suma_yes['EmployeeCount'].count() + suma_no['EmployeeCount'].count()\n",
    "p = suma_yes['EmployeeCount'].count() / suma_cal\n",
    "print(\"Prawdopodobieństwo odejścia z firmy, przy podanym wieku: {0}, wynosi: {1}.\".format(x,p))"
   ]
  },
  {
   "cell_type": "code",
   "execution_count": 11,
   "metadata": {},
   "outputs": [
    {
     "data": {
      "text/html": [
       "<div>\n",
       "<style scoped>\n",
       "    .dataframe tbody tr th:only-of-type {\n",
       "        vertical-align: middle;\n",
       "    }\n",
       "\n",
       "    .dataframe tbody tr th {\n",
       "        vertical-align: top;\n",
       "    }\n",
       "\n",
       "    .dataframe thead th {\n",
       "        text-align: right;\n",
       "    }\n",
       "</style>\n",
       "<table border=\"1\" class=\"dataframe\">\n",
       "  <thead>\n",
       "    <tr style=\"text-align: right;\">\n",
       "      <th>Gender</th>\n",
       "      <th>Female</th>\n",
       "      <th>Male</th>\n",
       "    </tr>\n",
       "    <tr>\n",
       "      <th>Attrition</th>\n",
       "      <th></th>\n",
       "      <th></th>\n",
       "    </tr>\n",
       "  </thead>\n",
       "  <tbody>\n",
       "    <tr>\n",
       "      <th>No</th>\n",
       "      <td>501</td>\n",
       "      <td>732</td>\n",
       "    </tr>\n",
       "    <tr>\n",
       "      <th>Yes</th>\n",
       "      <td>87</td>\n",
       "      <td>150</td>\n",
       "    </tr>\n",
       "  </tbody>\n",
       "</table>\n",
       "</div>"
      ],
      "text/plain": [
       "Gender     Female  Male\n",
       "Attrition              \n",
       "No            501   732\n",
       "Yes            87   150"
      ]
     },
     "execution_count": 11,
     "metadata": {},
     "output_type": "execute_result"
    }
   ],
   "source": [
    "df.groupby(['Attrition', 'Gender'])['EmployeeCount'].count().unstack(fill_value=0)"
   ]
  },
  {
   "cell_type": "code",
   "execution_count": 12,
   "metadata": {},
   "outputs": [
    {
     "name": "stdout",
     "output_type": "stream",
     "text": [
      "0.14795918367346939\n"
     ]
    }
   ],
   "source": [
    "suma_yes_fem = female + att_yes\n",
    "suma_no_fem = female + att_no\n",
    "suma_cal_fem = suma_yes_fem['EmployeeCount'].count() + suma_no_fem['EmployeeCount'].count()\n",
    "p_fem = suma_yes_fem['EmployeeCount'].count() / suma_cal_fem\n",
    "print(p_fem)"
   ]
  },
  {
   "cell_type": "code",
   "execution_count": 13,
   "metadata": {},
   "outputs": [
    {
     "name": "stdout",
     "output_type": "stream",
     "text": [
      "0.17006802721088435\n"
     ]
    }
   ],
   "source": [
    "suma_yes_mal = male + att_yes\n",
    "suma_no_mal = male + att_no\n",
    "suma_cal_mal = suma_yes_mal['EmployeeCount'].count() + suma_no_mal['EmployeeCount'].count()\n",
    "p_mal = suma_yes_mal['EmployeeCount'].count() / suma_cal_mal\n",
    "print(p_mal)"
   ]
  },
  {
   "cell_type": "code",
   "execution_count": 15,
   "metadata": {},
   "outputs": [
    {
     "data": {
      "application/vnd.jupyter.widget-view+json": {
       "model_id": "5aa770d034254c02951eff6ca38f2c1a",
       "version_major": 2,
       "version_minor": 0
      },
      "text/plain": [
       "Dropdown(description='Podaj płeć: ', index=1, options=(('Female', 'Female'), ('Male', 'Male')), value='Male')"
      ]
     },
     "metadata": {},
     "output_type": "display_data"
    }
   ],
   "source": [
    "dropdown_widget = widgets.Dropdown(\n",
    "    options=[('Female', 'Female'), ('Male', 'Male')],\n",
    "    value='Male',\n",
    "    description='Podaj płeć: ',\n",
    ")\n",
    "dropdown_widget \n"
   ]
  },
  {
   "cell_type": "code",
   "execution_count": 16,
   "metadata": {},
   "outputs": [
    {
     "name": "stdout",
     "output_type": "stream",
     "text": [
      "Prawdopodobieństwo odejścia z firmy, przy podanej płci: Male, wynosi: 0.17006802721088435.\n"
     ]
    }
   ],
   "source": [
    "gender = str(dropdown_widget.value)\n",
    "if gender.lower() == \"male\":\n",
    "    print(\"Prawdopodobieństwo odejścia z firmy, przy podanej płci: {0}, wynosi: {1}.\".format(gender,p_mal))\n",
    "elif gender.lower() == \"female\":\n",
    "    print(\"Prawdopodobieństwo odejścia z firmy, przy podanej płci: {0}, wynosi: {1}.\".format(gender,p_fem))"
   ]
  },
  {
   "cell_type": "code",
   "execution_count": null,
   "metadata": {},
   "outputs": [],
   "source": []
  }
 ],
 "metadata": {
  "kernelspec": {
   "display_name": "Python 3",
   "language": "python",
   "name": "python3"
  },
  "language_info": {
   "codemirror_mode": {
    "name": "ipython",
    "version": 3
   },
   "file_extension": ".py",
   "mimetype": "text/x-python",
   "name": "python",
   "nbconvert_exporter": "python",
   "pygments_lexer": "ipython3",
   "version": "3.8.5"
  }
 },
 "nbformat": 4,
 "nbformat_minor": 5
}
